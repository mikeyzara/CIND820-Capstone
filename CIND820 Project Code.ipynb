{
 "cells": [
  {
   "cell_type": "markdown",
   "id": "b4dd84f3",
   "metadata": {},
   "source": [
    "## Data Organization\n",
    "Prior to answering any of the proposed research questions, it is first necessary to organize the imported dataset and contextualize the features that will be used. In the context of this project, the dataset consists of 89 columns. These columns can be grouped based on sections in the questionnaire. There are also columns that are not relevant to the our research questions and simply provides meta-data. "
   ]
  },
  {
   "cell_type": "code",
   "execution_count": 1,
   "id": "cb1c54e0",
   "metadata": {},
   "outputs": [],
   "source": [
    "# Let's import the necessary libraries\n",
    "import pandas as pd"
   ]
  },
  {
   "cell_type": "code",
   "execution_count": 2,
   "id": "9c9993a9",
   "metadata": {
    "scrolled": true
   },
   "outputs": [
    {
     "data": {
      "text/html": [
       "<div>\n",
       "<style scoped>\n",
       "    .dataframe tbody tr th:only-of-type {\n",
       "        vertical-align: middle;\n",
       "    }\n",
       "\n",
       "    .dataframe tbody tr th {\n",
       "        vertical-align: top;\n",
       "    }\n",
       "\n",
       "    .dataframe thead th {\n",
       "        text-align: right;\n",
       "    }\n",
       "</style>\n",
       "<table border=\"1\" class=\"dataframe\">\n",
       "  <thead>\n",
       "    <tr style=\"text-align: right;\">\n",
       "      <th></th>\n",
       "      <th>COUNTRYNEW</th>\n",
       "      <th>WPID_RANDOM</th>\n",
       "      <th>WGT</th>\n",
       "      <th>PROJWT</th>\n",
       "      <th>FIELD_DATE</th>\n",
       "      <th>YEAR_WAVE</th>\n",
       "      <th>W1</th>\n",
       "      <th>W2</th>\n",
       "      <th>W3</th>\n",
       "      <th>W4</th>\n",
       "      <th>...</th>\n",
       "      <th>age_var1</th>\n",
       "      <th>age_var2</th>\n",
       "      <th>age_var3</th>\n",
       "      <th>Gender</th>\n",
       "      <th>Education</th>\n",
       "      <th>Household_Income</th>\n",
       "      <th>Global11Regions</th>\n",
       "      <th>wbi</th>\n",
       "      <th>Subjective_Income</th>\n",
       "      <th>EMP_2010</th>\n",
       "    </tr>\n",
       "  </thead>\n",
       "  <tbody>\n",
       "    <tr>\n",
       "      <th>0</th>\n",
       "      <td>United States</td>\n",
       "      <td>178216898</td>\n",
       "      <td>0.803440</td>\n",
       "      <td>211560.29700</td>\n",
       "      <td>10/01/2020</td>\n",
       "      <td>2020</td>\n",
       "      <td>2</td>\n",
       "      <td>1</td>\n",
       "      <td>2.0</td>\n",
       "      <td>2.0</td>\n",
       "      <td>...</td>\n",
       "      <td>3</td>\n",
       "      <td>4</td>\n",
       "      <td>4</td>\n",
       "      <td>2</td>\n",
       "      <td>2</td>\n",
       "      <td>5.0</td>\n",
       "      <td>9</td>\n",
       "      <td>4</td>\n",
       "      <td>2</td>\n",
       "      <td>6.0</td>\n",
       "    </tr>\n",
       "    <tr>\n",
       "      <th>1</th>\n",
       "      <td>United States</td>\n",
       "      <td>159107018</td>\n",
       "      <td>0.729590</td>\n",
       "      <td>192114.26740</td>\n",
       "      <td>10/01/2020</td>\n",
       "      <td>2020</td>\n",
       "      <td>1</td>\n",
       "      <td>1</td>\n",
       "      <td>3.0</td>\n",
       "      <td>1.0</td>\n",
       "      <td>...</td>\n",
       "      <td>1</td>\n",
       "      <td>1</td>\n",
       "      <td>1</td>\n",
       "      <td>1</td>\n",
       "      <td>3</td>\n",
       "      <td>4.0</td>\n",
       "      <td>9</td>\n",
       "      <td>4</td>\n",
       "      <td>1</td>\n",
       "      <td>1.0</td>\n",
       "    </tr>\n",
       "    <tr>\n",
       "      <th>2</th>\n",
       "      <td>United States</td>\n",
       "      <td>203166417</td>\n",
       "      <td>0.848559</td>\n",
       "      <td>223440.98710</td>\n",
       "      <td>10/01/2020</td>\n",
       "      <td>2020</td>\n",
       "      <td>1</td>\n",
       "      <td>1</td>\n",
       "      <td>3.0</td>\n",
       "      <td>1.0</td>\n",
       "      <td>...</td>\n",
       "      <td>1</td>\n",
       "      <td>1</td>\n",
       "      <td>2</td>\n",
       "      <td>1</td>\n",
       "      <td>3</td>\n",
       "      <td>4.0</td>\n",
       "      <td>9</td>\n",
       "      <td>4</td>\n",
       "      <td>1</td>\n",
       "      <td>1.0</td>\n",
       "    </tr>\n",
       "    <tr>\n",
       "      <th>3</th>\n",
       "      <td>United States</td>\n",
       "      <td>201061719</td>\n",
       "      <td>0.341083</td>\n",
       "      <td>89813.41772</td>\n",
       "      <td>10/01/2020</td>\n",
       "      <td>2020</td>\n",
       "      <td>2</td>\n",
       "      <td>1</td>\n",
       "      <td>3.0</td>\n",
       "      <td>2.0</td>\n",
       "      <td>...</td>\n",
       "      <td>3</td>\n",
       "      <td>3</td>\n",
       "      <td>4</td>\n",
       "      <td>2</td>\n",
       "      <td>3</td>\n",
       "      <td>4.0</td>\n",
       "      <td>9</td>\n",
       "      <td>4</td>\n",
       "      <td>2</td>\n",
       "      <td>1.0</td>\n",
       "    </tr>\n",
       "    <tr>\n",
       "      <th>4</th>\n",
       "      <td>United States</td>\n",
       "      <td>195404162</td>\n",
       "      <td>0.995933</td>\n",
       "      <td>262247.16630</td>\n",
       "      <td>10/01/2020</td>\n",
       "      <td>2020</td>\n",
       "      <td>3</td>\n",
       "      <td>1</td>\n",
       "      <td>2.0</td>\n",
       "      <td>1.0</td>\n",
       "      <td>...</td>\n",
       "      <td>2</td>\n",
       "      <td>2</td>\n",
       "      <td>3</td>\n",
       "      <td>1</td>\n",
       "      <td>2</td>\n",
       "      <td>2.0</td>\n",
       "      <td>9</td>\n",
       "      <td>4</td>\n",
       "      <td>4</td>\n",
       "      <td>6.0</td>\n",
       "    </tr>\n",
       "  </tbody>\n",
       "</table>\n",
       "<p>5 rows × 89 columns</p>\n",
       "</div>"
      ],
      "text/plain": [
       "      COUNTRYNEW  WPID_RANDOM       WGT        PROJWT  FIELD_DATE  YEAR_WAVE  \\\n",
       "0  United States    178216898  0.803440  211560.29700  10/01/2020       2020   \n",
       "1  United States    159107018  0.729590  192114.26740  10/01/2020       2020   \n",
       "2  United States    203166417  0.848559  223440.98710  10/01/2020       2020   \n",
       "3  United States    201061719  0.341083   89813.41772  10/01/2020       2020   \n",
       "4  United States    195404162  0.995933  262247.16630  10/01/2020       2020   \n",
       "\n",
       "   W1  W2   W3   W4  ...  age_var1  age_var2  age_var3  Gender  Education  \\\n",
       "0   2   1  2.0  2.0  ...         3         4         4       2          2   \n",
       "1   1   1  3.0  1.0  ...         1         1         1       1          3   \n",
       "2   1   1  3.0  1.0  ...         1         1         2       1          3   \n",
       "3   2   1  3.0  2.0  ...         3         3         4       2          3   \n",
       "4   3   1  2.0  1.0  ...         2         2         3       1          2   \n",
       "\n",
       "   Household_Income  Global11Regions  wbi  Subjective_Income  EMP_2010  \n",
       "0               5.0                9    4                  2       6.0  \n",
       "1               4.0                9    4                  1       1.0  \n",
       "2               4.0                9    4                  1       1.0  \n",
       "3               4.0                9    4                  2       1.0  \n",
       "4               2.0                9    4                  4       6.0  \n",
       "\n",
       "[5 rows x 89 columns]"
      ]
     },
     "execution_count": 2,
     "metadata": {},
     "output_type": "execute_result"
    }
   ],
   "source": [
    "# Read in the dataset \n",
    "df = pd.read_csv('wgm_full_wave2_public_file_final_csv.csv',na_values=\" \", keep_default_na=False,low_memory=False)\n",
    "\n",
    "# Print the first five entries\n",
    "df.head()"
   ]
  },
  {
   "cell_type": "code",
   "execution_count": 3,
   "id": "ed2cf4b8",
   "metadata": {},
   "outputs": [
    {
     "name": "stdout",
     "output_type": "stream",
     "text": [
      "<class 'pandas.core.frame.DataFrame'>\n",
      "RangeIndex: 119088 entries, 0 to 119087\n",
      "Data columns (total 89 columns):\n",
      " #   Column             Non-Null Count   Dtype  \n",
      "---  ------             --------------   -----  \n",
      " 0   COUNTRYNEW         119088 non-null  object \n",
      " 1   WPID_RANDOM        119088 non-null  int64  \n",
      " 2   WGT                119088 non-null  float64\n",
      " 3   PROJWT             119088 non-null  float64\n",
      " 4   FIELD_DATE         119088 non-null  object \n",
      " 5   YEAR_WAVE          119088 non-null  int64  \n",
      " 6   W1                 119088 non-null  int64  \n",
      " 7   W2                 119088 non-null  int64  \n",
      " 8   W3                 114354 non-null  float64\n",
      " 9   W4                 118083 non-null  float64\n",
      " 10  W5A                119088 non-null  int64  \n",
      " 11  W5B                110566 non-null  float64\n",
      " 12  W5C                119088 non-null  int64  \n",
      " 13  W5D                118075 non-null  float64\n",
      " 14  W5E                119088 non-null  int64  \n",
      " 15  W5F                119088 non-null  int64  \n",
      " 16  W5G                119088 non-null  int64  \n",
      " 17  W6                 119088 non-null  int64  \n",
      " 18  W7A                119088 non-null  int64  \n",
      " 19  W7B                119088 non-null  int64  \n",
      " 20  W7C                116073 non-null  float64\n",
      " 21  W8                 119088 non-null  int64  \n",
      " 22  W9                 119088 non-null  int64  \n",
      " 23  W10                119088 non-null  int64  \n",
      " 24  W11A               119088 non-null  int64  \n",
      " 25  W11B               119088 non-null  int64  \n",
      " 26  MH2A               119088 non-null  int64  \n",
      " 27  MH2B               119088 non-null  int64  \n",
      " 28  W13                119088 non-null  int64  \n",
      " 29  W14                100381 non-null  float64\n",
      " 30  W15                100381 non-null  float64\n",
      " 31  W15_1A             112571 non-null  float64\n",
      " 32  W15_1B             115586 non-null  float64\n",
      " 33  W15_1C             115586 non-null  float64\n",
      " 34  W15_1D             115586 non-null  float64\n",
      " 35  W15_1E             112571 non-null  float64\n",
      " 36  W15_2A             112571 non-null  float64\n",
      " 37  W15_2B             112571 non-null  float64\n",
      " 38  MH1                119088 non-null  int64  \n",
      " 39  MH3A               118088 non-null  float64\n",
      " 40  MH3B               118088 non-null  float64\n",
      " 41  MH3C               118088 non-null  float64\n",
      " 42  MH3D               118088 non-null  float64\n",
      " 43  MH4A               117075 non-null  float64\n",
      " 44  MH4B               117075 non-null  float64\n",
      " 45  MH5                118088 non-null  float64\n",
      " 46  MH6                119088 non-null  int64  \n",
      " 47  MH7A               118088 non-null  float64\n",
      " 48  MH7B               23971 non-null   float64\n",
      " 49  MH7B_2             1127 non-null    float64\n",
      " 50  MH7C               23971 non-null   float64\n",
      " 51  MH8A               23971 non-null   float64\n",
      " 52  MH8B               23676 non-null   float64\n",
      " 53  MH8C               23971 non-null   float64\n",
      " 54  MH8D               23971 non-null   float64\n",
      " 55  MH8E               23971 non-null   float64\n",
      " 56  MH8F               23971 non-null   float64\n",
      " 57  MH8G               23971 non-null   float64\n",
      " 58  MH8H               23971 non-null   float64\n",
      " 59  MH9A               10254 non-null   float64\n",
      " 60  MH9B               10182 non-null   float64\n",
      " 61  MH9C               18799 non-null   float64\n",
      " 62  MH9D               11131 non-null   float64\n",
      " 63  MH9E               17301 non-null   float64\n",
      " 64  MH9F               12211 non-null   float64\n",
      " 65  MH9G               14867 non-null   float64\n",
      " 66  MH9H               17484 non-null   float64\n",
      " 67  W27                119088 non-null  int64  \n",
      " 68  W28                97080 non-null   float64\n",
      " 69  W29                97080 non-null   float64\n",
      " 70  W30                98006 non-null   float64\n",
      " 71  WP21757            111566 non-null  float64\n",
      " 72  WP21758            112573 non-null  float64\n",
      " 73  WP21759            112573 non-null  float64\n",
      " 74  WP21760            112573 non-null  float64\n",
      " 75  WP21761            112573 non-null  float64\n",
      " 76  WP21768            113581 non-null  float64\n",
      " 77  age_mh             23967 non-null   float64\n",
      " 78  Age                119088 non-null  int64  \n",
      " 79  age_var1           119088 non-null  int64  \n",
      " 80  age_var2           119088 non-null  int64  \n",
      " 81  age_var3           119088 non-null  int64  \n",
      " 82  Gender             119088 non-null  int64  \n",
      " 83  Education          119088 non-null  int64  \n",
      " 84  Household_Income   118088 non-null  float64\n",
      " 85  Global11Regions    119088 non-null  int64  \n",
      " 86  wbi                119088 non-null  int64  \n",
      " 87  Subjective_Income  119088 non-null  int64  \n",
      " 88  EMP_2010           119078 non-null  float64\n",
      "dtypes: float64(55), int64(32), object(2)\n",
      "memory usage: 80.9+ MB\n"
     ]
    }
   ],
   "source": [
    "# Looking at a summary of each variable in df\n",
    "df.info()"
   ]
  },
  {
   "cell_type": "markdown",
   "id": "111c5fd9",
   "metadata": {},
   "source": [
    "#### Note:\n",
    "The imported dataframe has 89 columns. To contextualize the columns, let's first split the full dataset into different dataframes -- each referring to different sections of the questionnaire."
   ]
  },
  {
   "cell_type": "markdown",
   "id": "b0473453",
   "metadata": {},
   "source": [
    "##### Columns associated with demographic information\n",
    "Demographic information refers to population-based factors."
   ]
  },
  {
   "cell_type": "code",
   "execution_count": 148,
   "id": "d097d8bd",
   "metadata": {
    "scrolled": false
   },
   "outputs": [
    {
     "name": "stdout",
     "output_type": "stream",
     "text": [
      "<class 'pandas.core.frame.DataFrame'>\n",
      "RangeIndex: 119088 entries, 0 to 119087\n",
      "Data columns (total 9 columns):\n",
      " #   Column             Non-Null Count   Dtype   \n",
      "---  ------             --------------   -----   \n",
      " 0   Global11Regions    119088 non-null  category\n",
      " 1   Gender             119088 non-null  category\n",
      " 2   Age                119088 non-null  category\n",
      " 3   age_var3           119088 non-null  category\n",
      " 4   Education          119088 non-null  category\n",
      " 5   Household_Income   118088 non-null  category\n",
      " 6   wbi                119088 non-null  category\n",
      " 7   Subjective_Income  119088 non-null  category\n",
      " 8   EMP_2010           119078 non-null  category\n",
      "dtypes: category(9)\n",
      "memory usage: 1.0 MB\n"
     ]
    }
   ],
   "source": [
    "# Copy the original dataframe and select the columns associated with demograph information. \n",
    "#  These demographic factors are categorical variables; convert the datatype to 'categorical'\n",
    "demographicInfo = df.copy()[['Global11Regions','Gender', 'Age','age_var3',\n",
    "                             'Education','Household_Income','wbi',\n",
    "                             'Subjective_Income','EMP_2010']].astype('category')\n",
    "demographicInfo.info()"
   ]
  },
  {
   "cell_type": "markdown",
   "id": "e2f4fcb0",
   "metadata": {},
   "source": [
    "The demographic features related to Household Income and Employment Status have null/NaN values. Let's impute these values by adding an additional level of 'Don't Know/Refused' (99.0)"
   ]
  },
  {
   "cell_type": "code",
   "execution_count": 84,
   "id": "d0b2f1b0",
   "metadata": {},
   "outputs": [],
   "source": [
    "# First we add a new level/category of '99.0' to the feature:\n",
    "demographicInfo['Household_Income'] = demographicInfo['Household_Income'].cat.add_categories(99.0)\n",
    "demographicInfo['EMP_2010'] = demographicInfo['EMP_2010'].cat.add_categories(99.0)\n",
    "\n",
    "# Impute the NaN values with '99.0' ('Don't Know/Refused')\n",
    "demographicInfo['Household_Income'].fillna(99.0, inplace=True)\n",
    "demographicInfo['EMP_2010'].fillna(99.0, inplace=True)"
   ]
  },
  {
   "cell_type": "code",
   "execution_count": 85,
   "id": "517b8cd9",
   "metadata": {},
   "outputs": [
    {
     "name": "stdout",
     "output_type": "stream",
     "text": [
      "<class 'pandas.core.frame.DataFrame'>\n",
      "RangeIndex: 119088 entries, 0 to 119087\n",
      "Data columns (total 9 columns):\n",
      " #   Column             Non-Null Count   Dtype   \n",
      "---  ------             --------------   -----   \n",
      " 0   Global11Regions    119088 non-null  category\n",
      " 1   Gender             119088 non-null  category\n",
      " 2   Age                119088 non-null  int64   \n",
      " 3   age_var3           119088 non-null  category\n",
      " 4   Education          119088 non-null  category\n",
      " 5   Household_Income   119088 non-null  category\n",
      " 6   wbi                119088 non-null  category\n",
      " 7   Subjective_Income  119088 non-null  category\n",
      " 8   EMP_2010           119088 non-null  category\n",
      "dtypes: category(8), int64(1)\n",
      "memory usage: 1.8 MB\n"
     ]
    }
   ],
   "source": [
    "# Age is a numeric demographic factor. Let's add it to the demographic dataframe\n",
    "demographicInfo['Age'] = df.copy()['Age']\n",
    "demographicInfo.info()"
   ]
  },
  {
   "cell_type": "markdown",
   "id": "74c50457",
   "metadata": {},
   "source": [
    "#### The following dataframes group the columns based on sections of the questionnaire. \n",
    "These dataframes follow three steps to their organization:\n",
    "\n",
    "-   Copying the original dataframe into a new variable\n",
    "\n",
    "-  Selecting the columns/questions associated with section in questionnaire\n",
    "\n",
    "- Converting the data type to a categorical variables"
   ]
  },
  {
   "cell_type": "markdown",
   "id": "01c4204f",
   "metadata": {},
   "source": [
    "##### Columns associated with questions related to perception of science"
   ]
  },
  {
   "cell_type": "code",
   "execution_count": 56,
   "id": "45f3b810",
   "metadata": {},
   "outputs": [
    {
     "name": "stdout",
     "output_type": "stream",
     "text": [
      "<class 'pandas.core.frame.DataFrame'>\n",
      "RangeIndex: 119088 entries, 0 to 119087\n",
      "Data columns (total 22 columns):\n",
      " #   Column  Non-Null Count   Dtype   \n",
      "---  ------  --------------   -----   \n",
      " 0   W1      119088 non-null  category\n",
      " 1   W2      119088 non-null  category\n",
      " 2   W3      114354 non-null  category\n",
      " 3   W4      118083 non-null  category\n",
      " 4   W5A     119088 non-null  category\n",
      " 5   W5B     110566 non-null  category\n",
      " 6   W5C     119088 non-null  category\n",
      " 7   W5D     118075 non-null  category\n",
      " 8   W5E     119088 non-null  category\n",
      " 9   W5F     119088 non-null  category\n",
      " 10  W5G     119088 non-null  category\n",
      " 11  W6      119088 non-null  category\n",
      " 12  W7A     119088 non-null  category\n",
      " 13  W7B     119088 non-null  category\n",
      " 14  W7C     116073 non-null  category\n",
      " 15  W8      119088 non-null  category\n",
      " 16  W9      119088 non-null  category\n",
      " 17  W10     119088 non-null  category\n",
      " 18  W11A    119088 non-null  category\n",
      " 19  W11B    119088 non-null  category\n",
      " 20  MH2A    119088 non-null  category\n",
      " 21  MH2B    119088 non-null  category\n",
      "dtypes: category(22)\n",
      "memory usage: 2.5 MB\n"
     ]
    }
   ],
   "source": [
    "sciPercep = df.copy().iloc[:,6:28].astype('category')\n",
    "\n",
    "# Summary of sciPercep:\n",
    "sciPercep.info()"
   ]
  },
  {
   "cell_type": "markdown",
   "id": "57ed15d3",
   "metadata": {},
   "source": [
    "There are values that need to be imputed since there are null/NaN values. Below is a list of the questions associated with the feature names and the corresponding decisions used to impute empty values:"
   ]
  },
  {
   "cell_type": "markdown",
   "id": "365cbdcd",
   "metadata": {},
   "source": [
    "- W3: What is the highest level of education where you LAST learned about science? --> Impute with a new level to indicate unknown (99.0)\n",
    "\n",
    "\n",
    "- W4: In (country), how much confidence do you have in the hospitals and health clinics? A lot, some, not much, or none at all? If you don’t know, please just say so. --> NaN values will take on the level 99.0 ('Don't know/Refused')\n",
    "\n",
    "\n",
    "- W5B: How much do you trust each of the following? Do you trust them a lot, some, not much, or not at all? If you don’t know, please just say so. How about the national government in this country? --> NaN values will take on the level 99.0 ('Don't know/Refused')\n",
    "\n",
    "\n",
    "- W5D: How much do you trust each of the following? Do you trust them a lot, some, not much, or not at all? If you don’t know, please just say so. How about journalists in this country? --> NaN values will take on the level 99.0 ('Don't know/Refused')\n",
    "\n",
    "\n",
    "- W7C: In general, how much do you think the leaders in the national government value the opinions and expertise of scientists? A lot, some, not much, or not at all? --> NaN values will take on the level 99.0 ('Don't know/Refused')"
   ]
  },
  {
   "cell_type": "code",
   "execution_count": 57,
   "id": "c630df9f",
   "metadata": {},
   "outputs": [],
   "source": [
    "sciPercep['W3'] = sciPercep['W3'].cat.add_categories(99.0) # Add a new level to 'W3'\n",
    "sciPercep['W3'].fillna(99.0, inplace=True) # Impute the NaN values with the new level"
   ]
  },
  {
   "cell_type": "code",
   "execution_count": 58,
   "id": "5eb3d271",
   "metadata": {
    "scrolled": true
   },
   "outputs": [
    {
     "name": "stdout",
     "output_type": "stream",
     "text": [
      "<class 'pandas.core.frame.DataFrame'>\n",
      "RangeIndex: 119088 entries, 0 to 119087\n",
      "Data columns (total 22 columns):\n",
      " #   Column  Non-Null Count   Dtype   \n",
      "---  ------  --------------   -----   \n",
      " 0   W1      119088 non-null  category\n",
      " 1   W2      119088 non-null  category\n",
      " 2   W3      119088 non-null  category\n",
      " 3   W4      119088 non-null  category\n",
      " 4   W5A     119088 non-null  category\n",
      " 5   W5B     119088 non-null  category\n",
      " 6   W5C     119088 non-null  category\n",
      " 7   W5D     119088 non-null  category\n",
      " 8   W5E     119088 non-null  category\n",
      " 9   W5F     119088 non-null  category\n",
      " 10  W5G     119088 non-null  category\n",
      " 11  W6      119088 non-null  category\n",
      " 12  W7A     119088 non-null  category\n",
      " 13  W7B     119088 non-null  category\n",
      " 14  W7C     119088 non-null  category\n",
      " 15  W8      119088 non-null  category\n",
      " 16  W9      119088 non-null  category\n",
      " 17  W10     119088 non-null  category\n",
      " 18  W11A    119088 non-null  category\n",
      " 19  W11B    119088 non-null  category\n",
      " 20  MH2A    119088 non-null  category\n",
      " 21  MH2B    119088 non-null  category\n",
      "dtypes: category(22)\n",
      "memory usage: 2.5 MB\n"
     ]
    }
   ],
   "source": [
    "# Impute the NaN entries with the values stated above\n",
    "sciPercep['W4'].fillna(99.0, inplace=True)\n",
    "sciPercep['W5B'].fillna(99.0, inplace=True)\n",
    "sciPercep['W5D'].fillna(99.0, inplace=True)\n",
    "sciPercep['W7C'].fillna(99.0, inplace=True)\n",
    "\n",
    "sciPercep.info()"
   ]
  },
  {
   "cell_type": "markdown",
   "id": "db952f9a",
   "metadata": {},
   "source": [
    "##### Columns associated with questions about climate change"
   ]
  },
  {
   "cell_type": "code",
   "execution_count": 59,
   "id": "0f6c73b9",
   "metadata": {},
   "outputs": [
    {
     "name": "stdout",
     "output_type": "stream",
     "text": [
      "<class 'pandas.core.frame.DataFrame'>\n",
      "RangeIndex: 119088 entries, 0 to 119087\n",
      "Data columns (total 3 columns):\n",
      " #   Column  Non-Null Count   Dtype   \n",
      "---  ------  --------------   -----   \n",
      " 0   W13     119088 non-null  category\n",
      " 1   W14     100381 non-null  category\n",
      " 2   W15     100381 non-null  category\n",
      "dtypes: category(3)\n",
      "memory usage: 349.6 KB\n"
     ]
    }
   ],
   "source": [
    "climateChange = df.copy().iloc[:,28:31].astype('category')\n",
    "\n",
    "# Summary of climateChange:\n",
    "climateChange.info()"
   ]
  },
  {
   "cell_type": "markdown",
   "id": "945f12e6",
   "metadata": {},
   "source": [
    "Imputing NaN entries to the following values:\n",
    "\n",
    "- W14: Thinking about the issue of climate change or global warming, how well do you feel you understand this issue? Would you say you understand it very well, fairly well, not very well, or not at all? --> NaN values will take on the level 99.0 ('Don't know/Refused')\n",
    "\n",
    "\n",
    "- W15: Do you think climate change or global warming is a major threat, a minor threat, or not a threat to people in (country) right now? --> NaN values will take on the level 99.0 ('Don't know/Refused')"
   ]
  },
  {
   "cell_type": "code",
   "execution_count": 60,
   "id": "a713a393",
   "metadata": {},
   "outputs": [
    {
     "name": "stdout",
     "output_type": "stream",
     "text": [
      "<class 'pandas.core.frame.DataFrame'>\n",
      "RangeIndex: 119088 entries, 0 to 119087\n",
      "Data columns (total 3 columns):\n",
      " #   Column  Non-Null Count   Dtype   \n",
      "---  ------  --------------   -----   \n",
      " 0   W13     119088 non-null  category\n",
      " 1   W14     119088 non-null  category\n",
      " 2   W15     119088 non-null  category\n",
      "dtypes: category(3)\n",
      "memory usage: 349.6 KB\n"
     ]
    }
   ],
   "source": [
    "# Impute the NaN entries with the values stated above\n",
    "climateChange['W14'].fillna(99.0, inplace=True)\n",
    "climateChange['W15'].fillna(99.0, inplace=True)\n",
    "\n",
    "\n",
    "climateChange.info()"
   ]
  },
  {
   "cell_type": "markdown",
   "id": "e478cf87",
   "metadata": {},
   "source": [
    "##### Columns associated with questions about perception of the coronavirus/pandemic"
   ]
  },
  {
   "cell_type": "code",
   "execution_count": 61,
   "id": "f127d335",
   "metadata": {},
   "outputs": [
    {
     "name": "stdout",
     "output_type": "stream",
     "text": [
      "<class 'pandas.core.frame.DataFrame'>\n",
      "RangeIndex: 119088 entries, 0 to 119087\n",
      "Data columns (total 7 columns):\n",
      " #   Column  Non-Null Count   Dtype   \n",
      "---  ------  --------------   -----   \n",
      " 0   W15_1A  112571 non-null  category\n",
      " 1   W15_1B  115586 non-null  category\n",
      " 2   W15_1C  115586 non-null  category\n",
      " 3   W15_1D  115586 non-null  category\n",
      " 4   W15_1E  112571 non-null  category\n",
      " 5   W15_2A  112571 non-null  category\n",
      " 6   W15_2B  112571 non-null  category\n",
      "dtypes: category(7)\n",
      "memory usage: 815.7 KB\n"
     ]
    }
   ],
   "source": [
    "covidPercep = df.copy().iloc[:,31:38].astype('category')\n",
    "\n",
    "# Summary of covidPercep:\n",
    "covidPercep.info()"
   ]
  },
  {
   "cell_type": "markdown",
   "id": "e860c2b1",
   "metadata": {},
   "source": [
    "Each question in this section has the same structure. Like in the previous sections, NaN values will be imputed with 99.0 ('Don't know/Refused'):"
   ]
  },
  {
   "cell_type": "code",
   "execution_count": 62,
   "id": "ea330256",
   "metadata": {},
   "outputs": [
    {
     "name": "stdout",
     "output_type": "stream",
     "text": [
      "<class 'pandas.core.frame.DataFrame'>\n",
      "RangeIndex: 119088 entries, 0 to 119087\n",
      "Data columns (total 7 columns):\n",
      " #   Column  Non-Null Count   Dtype   \n",
      "---  ------  --------------   -----   \n",
      " 0   W15_1A  119088 non-null  category\n",
      " 1   W15_1B  119088 non-null  category\n",
      " 2   W15_1C  119088 non-null  category\n",
      " 3   W15_1D  119088 non-null  category\n",
      " 4   W15_1E  119088 non-null  category\n",
      " 5   W15_2A  119088 non-null  category\n",
      " 6   W15_2B  119088 non-null  category\n",
      "dtypes: category(7)\n",
      "memory usage: 815.7 KB\n"
     ]
    }
   ],
   "source": [
    "# Impute the NaN entries with the values stated above\n",
    "covidPercep['W15_1A'].fillna(99.0, inplace=True)\n",
    "covidPercep['W15_1B'].fillna(99.0, inplace=True)\n",
    "covidPercep['W15_1C'].fillna(99.0, inplace=True)\n",
    "covidPercep['W15_1D'].fillna(99.0, inplace=True)\n",
    "covidPercep['W15_1E'].fillna(99.0, inplace=True)\n",
    "covidPercep['W15_2A'].fillna(99.0, inplace=True)\n",
    "covidPercep['W15_2B'].fillna(99.0, inplace=True)\n",
    "\n",
    "covidPercep.info()"
   ]
  },
  {
   "cell_type": "markdown",
   "id": "7073bd6c",
   "metadata": {},
   "source": [
    "##### Columns associated with questions about physical and mental health"
   ]
  },
  {
   "cell_type": "code",
   "execution_count": 63,
   "id": "e3dc8608",
   "metadata": {
    "scrolled": true
   },
   "outputs": [
    {
     "name": "stdout",
     "output_type": "stream",
     "text": [
      "<class 'pandas.core.frame.DataFrame'>\n",
      "RangeIndex: 119088 entries, 0 to 119087\n",
      "Data columns (total 29 columns):\n",
      " #   Column  Non-Null Count   Dtype   \n",
      "---  ------  --------------   -----   \n",
      " 0   MH1     119088 non-null  category\n",
      " 1   MH3A    118088 non-null  category\n",
      " 2   MH3B    118088 non-null  category\n",
      " 3   MH3C    118088 non-null  category\n",
      " 4   MH3D    118088 non-null  category\n",
      " 5   MH4A    117075 non-null  category\n",
      " 6   MH4B    117075 non-null  category\n",
      " 7   MH5     118088 non-null  category\n",
      " 8   MH6     119088 non-null  category\n",
      " 9   MH7A    118088 non-null  category\n",
      " 10  MH7B    23971 non-null   category\n",
      " 11  MH7B_2  1127 non-null    category\n",
      " 12  MH7C    23971 non-null   category\n",
      " 13  MH8A    23971 non-null   category\n",
      " 14  MH8B    23676 non-null   category\n",
      " 15  MH8C    23971 non-null   category\n",
      " 16  MH8D    23971 non-null   category\n",
      " 17  MH8E    23971 non-null   category\n",
      " 18  MH8F    23971 non-null   category\n",
      " 19  MH8G    23971 non-null   category\n",
      " 20  MH8H    23971 non-null   category\n",
      " 21  MH9A    10254 non-null   category\n",
      " 22  MH9B    10182 non-null   category\n",
      " 23  MH9C    18799 non-null   category\n",
      " 24  MH9D    11131 non-null   category\n",
      " 25  MH9E    17301 non-null   category\n",
      " 26  MH9F    12211 non-null   category\n",
      " 27  MH9G    14867 non-null   category\n",
      " 28  MH9H    17484 non-null   category\n",
      "dtypes: category(29)\n",
      "memory usage: 3.3 MB\n"
     ]
    }
   ],
   "source": [
    "sciHealth = df.copy().iloc[:,38:67].astype('category')\n",
    "\n",
    "# Summary of sciHealth:\n",
    "sciHealth.info()"
   ]
  },
  {
   "cell_type": "markdown",
   "id": "63e340f5",
   "metadata": {},
   "source": [
    "##### Note: For the purposes of this project, we will look only at columns/features 0 to 9 (MH1 to MH7A) since they are most relevant to answering the proposed research question. More details in the second section 'Classification'.\n",
    "\n",
    "In the meantime, let's impute the missing values. \n",
    "- MH3A to MH5 and MH7A have the same structure --> impute NaN with 99.0 ('Don't know/Refused')\n",
    "- MH1 and MH6 have the same structure --> impute NaN with 99 ('Don't know/Refused')"
   ]
  },
  {
   "cell_type": "code",
   "execution_count": 64,
   "id": "43a4c246",
   "metadata": {},
   "outputs": [],
   "source": [
    "# Impute the NaN entries with the values stated above for MH3A to MH5 + MH7A\n",
    "sciHealth['MH3A'].fillna(99.0, inplace=True)\n",
    "sciHealth['MH3B'].fillna(99.0, inplace=True)\n",
    "sciHealth['MH3C'].fillna(99.0, inplace=True)\n",
    "sciHealth['MH3D'].fillna(99.0, inplace=True)\n",
    "sciHealth['MH4A'].fillna(99.0, inplace=True)\n",
    "sciHealth['MH4B'].fillna(99.0, inplace=True)\n",
    "sciHealth['MH5'].fillna(99.0, inplace=True)\n",
    "sciHealth['MH7A'].fillna(99.0, inplace=True)"
   ]
  },
  {
   "cell_type": "code",
   "execution_count": 65,
   "id": "08e16d3f",
   "metadata": {},
   "outputs": [
    {
     "name": "stdout",
     "output_type": "stream",
     "text": [
      "<class 'pandas.core.frame.DataFrame'>\n",
      "RangeIndex: 119088 entries, 0 to 119087\n",
      "Data columns (total 29 columns):\n",
      " #   Column  Non-Null Count   Dtype   \n",
      "---  ------  --------------   -----   \n",
      " 0   MH1     119088 non-null  category\n",
      " 1   MH3A    119088 non-null  category\n",
      " 2   MH3B    119088 non-null  category\n",
      " 3   MH3C    119088 non-null  category\n",
      " 4   MH3D    119088 non-null  category\n",
      " 5   MH4A    119088 non-null  category\n",
      " 6   MH4B    119088 non-null  category\n",
      " 7   MH5     119088 non-null  category\n",
      " 8   MH6     119088 non-null  category\n",
      " 9   MH7A    119088 non-null  category\n",
      " 10  MH7B    23971 non-null   category\n",
      " 11  MH7B_2  1127 non-null    category\n",
      " 12  MH7C    23971 non-null   category\n",
      " 13  MH8A    23971 non-null   category\n",
      " 14  MH8B    23676 non-null   category\n",
      " 15  MH8C    23971 non-null   category\n",
      " 16  MH8D    23971 non-null   category\n",
      " 17  MH8E    23971 non-null   category\n",
      " 18  MH8F    23971 non-null   category\n",
      " 19  MH8G    23971 non-null   category\n",
      " 20  MH8H    23971 non-null   category\n",
      " 21  MH9A    10254 non-null   category\n",
      " 22  MH9B    10182 non-null   category\n",
      " 23  MH9C    18799 non-null   category\n",
      " 24  MH9D    11131 non-null   category\n",
      " 25  MH9E    17301 non-null   category\n",
      " 26  MH9F    12211 non-null   category\n",
      " 27  MH9G    14867 non-null   category\n",
      " 28  MH9H    17484 non-null   category\n",
      "dtypes: category(29)\n",
      "memory usage: 3.3 MB\n"
     ]
    }
   ],
   "source": [
    "# Impute the NaN entries with the values stated above for MH1 and MH6\n",
    "sciHealth['MH1'].fillna(99, inplace=True)\n",
    "sciHealth['MH6'].fillna(99, inplace=True)\n",
    "\n",
    "sciHealth.info()"
   ]
  },
  {
   "cell_type": "markdown",
   "id": "93b890ff",
   "metadata": {},
   "source": [
    "##### Columns associated with questions about social media use"
   ]
  },
  {
   "cell_type": "code",
   "execution_count": 66,
   "id": "c01c4dfd",
   "metadata": {},
   "outputs": [
    {
     "name": "stdout",
     "output_type": "stream",
     "text": [
      "<class 'pandas.core.frame.DataFrame'>\n",
      "RangeIndex: 119088 entries, 0 to 119087\n",
      "Data columns (total 3 columns):\n",
      " #   Column  Non-Null Count   Dtype   \n",
      "---  ------  --------------   -----   \n",
      " 0   W27     119088 non-null  category\n",
      " 1   W28     97080 non-null   category\n",
      " 2   W29     97080 non-null   category\n",
      "dtypes: category(3)\n",
      "memory usage: 349.7 KB\n"
     ]
    }
   ],
   "source": [
    "socialMedia = df.copy().iloc[:,67:70].astype('category')\n",
    "\n",
    "# Summary of socialMedia:\n",
    "socialMedia.info()"
   ]
  },
  {
   "cell_type": "markdown",
   "id": "9250ea31",
   "metadata": {},
   "source": [
    "W28 and W29 have the same structure --> impute NaN with 99.0 ('Don't know/Refused')"
   ]
  },
  {
   "cell_type": "code",
   "execution_count": 67,
   "id": "07bb52c9",
   "metadata": {},
   "outputs": [
    {
     "name": "stdout",
     "output_type": "stream",
     "text": [
      "<class 'pandas.core.frame.DataFrame'>\n",
      "RangeIndex: 119088 entries, 0 to 119087\n",
      "Data columns (total 3 columns):\n",
      " #   Column  Non-Null Count   Dtype   \n",
      "---  ------  --------------   -----   \n",
      " 0   W27     119088 non-null  category\n",
      " 1   W28     119088 non-null  category\n",
      " 2   W29     119088 non-null  category\n",
      "dtypes: category(3)\n",
      "memory usage: 349.7 KB\n"
     ]
    }
   ],
   "source": [
    "socialMedia['W28'].fillna(99.0, inplace=True)\n",
    "socialMedia['W29'].fillna(99.0, inplace=True)\n",
    "socialMedia.info()"
   ]
  },
  {
   "cell_type": "markdown",
   "id": "976357b4",
   "metadata": {},
   "source": [
    "##### Columns associated with questions about religion\n",
    "Impute NaN values with 99.0 ('Don't know/Refused')"
   ]
  },
  {
   "cell_type": "code",
   "execution_count": 68,
   "id": "ae6f7a32",
   "metadata": {},
   "outputs": [
    {
     "name": "stderr",
     "output_type": "stream",
     "text": [
      "C:\\Users\\micza\\anaconda3\\lib\\site-packages\\pandas\\io\\formats\\format.py:1429: FutureWarning: Index.ravel returning ndarray is deprecated; in a future version this will return a view on self.\n",
      "  for val, m in zip(values.ravel(), mask.ravel())\n"
     ]
    },
    {
     "data": {
      "text/plain": [
       "0          2.0\n",
       "1         99.0\n",
       "2         99.0\n",
       "3          1.0\n",
       "4         99.0\n",
       "          ... \n",
       "119083     2.0\n",
       "119084     2.0\n",
       "119085     2.0\n",
       "119086     2.0\n",
       "119087     1.0\n",
       "Name: W30, Length: 119088, dtype: category\n",
       "Categories (5, float64): [1.0, 2.0, 3.0, 4.0, 99.0]"
      ]
     },
     "execution_count": 68,
     "metadata": {},
     "output_type": "execute_result"
    }
   ],
   "source": [
    "religion = df.copy()['W30'].astype('category')\n",
    "\n",
    "# Impute missing values\n",
    "religion.fillna(99.0, inplace=True)\n",
    "\n",
    "# Summary of religion:\n",
    "religion"
   ]
  },
  {
   "cell_type": "markdown",
   "id": "1af23f02",
   "metadata": {},
   "source": [
    "##### Columns associated with questions about how the coronavirus/pandemic has affected daily living"
   ]
  },
  {
   "cell_type": "code",
   "execution_count": 69,
   "id": "8d697ab1",
   "metadata": {},
   "outputs": [
    {
     "name": "stdout",
     "output_type": "stream",
     "text": [
      "<class 'pandas.core.frame.DataFrame'>\n",
      "RangeIndex: 119088 entries, 0 to 119087\n",
      "Data columns (total 6 columns):\n",
      " #   Column   Non-Null Count   Dtype   \n",
      "---  ------   --------------   -----   \n",
      " 0   WP21757  111566 non-null  category\n",
      " 1   WP21758  112573 non-null  category\n",
      " 2   WP21759  112573 non-null  category\n",
      " 3   WP21760  112573 non-null  category\n",
      " 4   WP21761  112573 non-null  category\n",
      " 5   WP21768  113581 non-null  category\n",
      "dtypes: category(6)\n",
      "memory usage: 699.1 KB\n"
     ]
    }
   ],
   "source": [
    "pandemicSituation = df.copy().iloc[:,71:77].astype('category')\n",
    "\n",
    "# Summary of covidPercep:\n",
    "pandemicSituation.info()"
   ]
  },
  {
   "cell_type": "markdown",
   "id": "a62eae4b",
   "metadata": {},
   "source": [
    "###### Note: These questions were not originally commissioned by the creators of the dataset. For the context of this project, we will not be using these features."
   ]
  },
  {
   "cell_type": "markdown",
   "id": "64ffde32",
   "metadata": {},
   "source": [
    "## Classification\n",
    "#### Research Question:\n",
    "1. How do we identify individuals that have or will develop anxiety and/or depression based on their demographic information and their perception of science and medicine?\n",
    "\n",
    "\n",
    "2. To explore the ethical issues of bias, how will excluding certain demographic features (e.g. sex) from the classifiers/models affect their classification outcomes and overall performance?"
   ]
  },
  {
   "cell_type": "markdown",
   "id": "f191a3b6",
   "metadata": {},
   "source": [
    "Based on the research questions stated above, we must now select the relevant dataframes and features to generate the dataset on which we will apply our classification models.\n",
    "\n",
    "#### Creating the Dataset\n",
    "\n",
    "We will use the following dataframes:\n",
    "- sciPercep: The overarching theme in this section of the questionnaire dealt with people's perception of science; more specifically, their trust in science, personnel, and institutions (e.g. scientists/doctors/nurses, government, hospitals, media outlets) as well as outcomes of scientific research (e.g. public health initiatives).\n",
    "\n",
    "\n",
    "- climateChange: This section of the questionnaire dealt with people's perception of climate change. These questions were framed to assess the participant's understanding of climate change and the consequences associated with the phenomena.\n",
    "\n",
    "\n",
    "- covidPercep: Like sciPercep, this section of the questionnaire aimed to capture the participant's trust in science from the lens of the global pandemic. The questions assessed the participant's feelings towards public health agencies as well as decision-making at both an institutional-level and individual-level.\n",
    "\n",
    "\n",
    "- sciHealth: This section of the questionnaire focused on people's perception of physical and mental health. For the purposes of answering the proposed research question, we will look only at columns 0 to 9 (i.e. MH1 to MH7A). The other features/questions in this dataset focus on the experiences of those who HAVE experienced anxiety and/or depression. In addition to not being relevant to the research question, the number of responses is also significantly smaller and therefore a majority of entries being missing values.\n",
    "\n",
    "\n",
    "- religion: There is only one question associated with religion. This question asked participants how they would make decisions if there is a disagreement between science and the teachings of their religion.\n",
    "\n",
    "\n",
    "- socialMedia: This section aimed to capture participants' social media consumption."
   ]
  },
  {
   "cell_type": "code",
   "execution_count": 70,
   "id": "bed8d90d",
   "metadata": {},
   "outputs": [],
   "source": [
    "questionDataset = pd.concat([sciPercep, climateChange, covidPercep,sciHealth.iloc[:,0:10], socialMedia, religion.to_frame()],axis=1)"
   ]
  },
  {
   "cell_type": "code",
   "execution_count": 71,
   "id": "372e221d",
   "metadata": {},
   "outputs": [
    {
     "name": "stdout",
     "output_type": "stream",
     "text": [
      "<class 'pandas.core.frame.DataFrame'>\n",
      "RangeIndex: 119088 entries, 0 to 119087\n",
      "Data columns (total 46 columns):\n",
      " #   Column  Non-Null Count   Dtype   \n",
      "---  ------  --------------   -----   \n",
      " 0   W1      119088 non-null  category\n",
      " 1   W2      119088 non-null  category\n",
      " 2   W3      119088 non-null  category\n",
      " 3   W4      119088 non-null  category\n",
      " 4   W5A     119088 non-null  category\n",
      " 5   W5B     119088 non-null  category\n",
      " 6   W5C     119088 non-null  category\n",
      " 7   W5D     119088 non-null  category\n",
      " 8   W5E     119088 non-null  category\n",
      " 9   W5F     119088 non-null  category\n",
      " 10  W5G     119088 non-null  category\n",
      " 11  W6      119088 non-null  category\n",
      " 12  W7A     119088 non-null  category\n",
      " 13  W7B     119088 non-null  category\n",
      " 14  W7C     119088 non-null  category\n",
      " 15  W8      119088 non-null  category\n",
      " 16  W9      119088 non-null  category\n",
      " 17  W10     119088 non-null  category\n",
      " 18  W11A    119088 non-null  category\n",
      " 19  W11B    119088 non-null  category\n",
      " 20  MH2A    119088 non-null  category\n",
      " 21  MH2B    119088 non-null  category\n",
      " 22  W13     119088 non-null  category\n",
      " 23  W14     119088 non-null  category\n",
      " 24  W15     119088 non-null  category\n",
      " 25  W15_1A  119088 non-null  category\n",
      " 26  W15_1B  119088 non-null  category\n",
      " 27  W15_1C  119088 non-null  category\n",
      " 28  W15_1D  119088 non-null  category\n",
      " 29  W15_1E  119088 non-null  category\n",
      " 30  W15_2A  119088 non-null  category\n",
      " 31  W15_2B  119088 non-null  category\n",
      " 32  MH1     119088 non-null  category\n",
      " 33  MH3A    119088 non-null  category\n",
      " 34  MH3B    119088 non-null  category\n",
      " 35  MH3C    119088 non-null  category\n",
      " 36  MH3D    119088 non-null  category\n",
      " 37  MH4A    119088 non-null  category\n",
      " 38  MH4B    119088 non-null  category\n",
      " 39  MH5     119088 non-null  category\n",
      " 40  MH6     119088 non-null  category\n",
      " 41  MH7A    119088 non-null  category\n",
      " 42  W27     119088 non-null  category\n",
      " 43  W28     119088 non-null  category\n",
      " 44  W29     119088 non-null  category\n",
      " 45  W30     119088 non-null  category\n",
      "dtypes: category(46)\n",
      "memory usage: 5.2 MB\n"
     ]
    }
   ],
   "source": [
    "questionDataset.info()"
   ]
  },
  {
   "cell_type": "markdown",
   "id": "f7acfb6a",
   "metadata": {},
   "source": [
    "#### Descriptive Statistics\n",
    "In addition to the dataset generated from the questionnaire data (i.e. questionDataset), we will also be using demographic information (i.e. demographicInfo). \n",
    "\n",
    "Below are descriptive statistics of the datasets used to answer the proposed research question."
   ]
  },
  {
   "cell_type": "code",
   "execution_count": 72,
   "id": "76b2ab0f",
   "metadata": {},
   "outputs": [],
   "source": [
    "# For visualization purposes, we will use the Seaborn library\n",
    "import seaborn as sns"
   ]
  },
  {
   "cell_type": "markdown",
   "id": "6b523923",
   "metadata": {},
   "source": [
    "##### Demographic Information"
   ]
  },
  {
   "cell_type": "code",
   "execution_count": 73,
   "id": "23f42ff9",
   "metadata": {
    "scrolled": true
   },
   "outputs": [
    {
     "data": {
      "text/html": [
       "<div>\n",
       "<style scoped>\n",
       "    .dataframe tbody tr th:only-of-type {\n",
       "        vertical-align: middle;\n",
       "    }\n",
       "\n",
       "    .dataframe tbody tr th {\n",
       "        vertical-align: top;\n",
       "    }\n",
       "\n",
       "    .dataframe thead th {\n",
       "        text-align: right;\n",
       "    }\n",
       "</style>\n",
       "<table border=\"1\" class=\"dataframe\">\n",
       "  <thead>\n",
       "    <tr style=\"text-align: right;\">\n",
       "      <th></th>\n",
       "      <th>Global11Regions</th>\n",
       "      <th>Gender</th>\n",
       "      <th>age_var3</th>\n",
       "      <th>Education</th>\n",
       "      <th>Household_Income</th>\n",
       "      <th>wbi</th>\n",
       "      <th>Subjective_Income</th>\n",
       "      <th>EMP_2010</th>\n",
       "    </tr>\n",
       "  </thead>\n",
       "  <tbody>\n",
       "    <tr>\n",
       "      <th>count</th>\n",
       "      <td>119088</td>\n",
       "      <td>119088</td>\n",
       "      <td>119088</td>\n",
       "      <td>119088</td>\n",
       "      <td>118088.0</td>\n",
       "      <td>119088</td>\n",
       "      <td>119088</td>\n",
       "      <td>119078.0</td>\n",
       "    </tr>\n",
       "    <tr>\n",
       "      <th>unique</th>\n",
       "      <td>11</td>\n",
       "      <td>2</td>\n",
       "      <td>5</td>\n",
       "      <td>4</td>\n",
       "      <td>5.0</td>\n",
       "      <td>4</td>\n",
       "      <td>6</td>\n",
       "      <td>6.0</td>\n",
       "    </tr>\n",
       "    <tr>\n",
       "      <th>top</th>\n",
       "      <td>11</td>\n",
       "      <td>1</td>\n",
       "      <td>4</td>\n",
       "      <td>2</td>\n",
       "      <td>5.0</td>\n",
       "      <td>4</td>\n",
       "      <td>2</td>\n",
       "      <td>1.0</td>\n",
       "    </tr>\n",
       "    <tr>\n",
       "      <th>freq</th>\n",
       "      <td>20122</td>\n",
       "      <td>60722</td>\n",
       "      <td>33075</td>\n",
       "      <td>65111</td>\n",
       "      <td>32155.0</td>\n",
       "      <td>43201</td>\n",
       "      <td>48684</td>\n",
       "      <td>42866.0</td>\n",
       "    </tr>\n",
       "  </tbody>\n",
       "</table>\n",
       "</div>"
      ],
      "text/plain": [
       "        Global11Regions  Gender  age_var3  Education  Household_Income  \\\n",
       "count            119088  119088    119088     119088          118088.0   \n",
       "unique               11       2         5          4               5.0   \n",
       "top                  11       1         4          2               5.0   \n",
       "freq              20122   60722     33075      65111           32155.0   \n",
       "\n",
       "           wbi  Subjective_Income  EMP_2010  \n",
       "count   119088             119088  119078.0  \n",
       "unique       4                  6       6.0  \n",
       "top          4                  2       1.0  \n",
       "freq     43201              48684   42866.0  "
      ]
     },
     "execution_count": 73,
     "metadata": {},
     "output_type": "execute_result"
    }
   ],
   "source": [
    "# Summary statistics of the categorical features in demographicInfo\n",
    "demographicInfo.drop('Age',axis=1).describe()"
   ]
  },
  {
   "cell_type": "code",
   "execution_count": 74,
   "id": "c968489b",
   "metadata": {},
   "outputs": [
    {
     "data": {
      "text/html": [
       "<div>\n",
       "<style scoped>\n",
       "    .dataframe tbody tr th:only-of-type {\n",
       "        vertical-align: middle;\n",
       "    }\n",
       "\n",
       "    .dataframe tbody tr th {\n",
       "        vertical-align: top;\n",
       "    }\n",
       "\n",
       "    .dataframe thead th {\n",
       "        text-align: right;\n",
       "    }\n",
       "</style>\n",
       "<table border=\"1\" class=\"dataframe\">\n",
       "  <thead>\n",
       "    <tr style=\"text-align: right;\">\n",
       "      <th></th>\n",
       "      <th>Age</th>\n",
       "    </tr>\n",
       "  </thead>\n",
       "  <tbody>\n",
       "    <tr>\n",
       "      <th>count</th>\n",
       "      <td>119088.000000</td>\n",
       "    </tr>\n",
       "    <tr>\n",
       "      <th>mean</th>\n",
       "      <td>40.121994</td>\n",
       "    </tr>\n",
       "    <tr>\n",
       "      <th>std</th>\n",
       "      <td>17.302497</td>\n",
       "    </tr>\n",
       "    <tr>\n",
       "      <th>min</th>\n",
       "      <td>15.000000</td>\n",
       "    </tr>\n",
       "    <tr>\n",
       "      <th>25%</th>\n",
       "      <td>26.000000</td>\n",
       "    </tr>\n",
       "    <tr>\n",
       "      <th>50%</th>\n",
       "      <td>36.000000</td>\n",
       "    </tr>\n",
       "    <tr>\n",
       "      <th>75%</th>\n",
       "      <td>52.000000</td>\n",
       "    </tr>\n",
       "    <tr>\n",
       "      <th>max</th>\n",
       "      <td>100.000000</td>\n",
       "    </tr>\n",
       "  </tbody>\n",
       "</table>\n",
       "</div>"
      ],
      "text/plain": [
       "                 Age\n",
       "count  119088.000000\n",
       "mean       40.121994\n",
       "std        17.302497\n",
       "min        15.000000\n",
       "25%        26.000000\n",
       "50%        36.000000\n",
       "75%        52.000000\n",
       "max       100.000000"
      ]
     },
     "execution_count": 74,
     "metadata": {},
     "output_type": "execute_result"
    }
   ],
   "source": [
    "# Summary statistics of 'Age' in demographicInfo; it is the only numeric feature in the dataframe\n",
    "demographicInfo.describe()"
   ]
  },
  {
   "cell_type": "code",
   "execution_count": 75,
   "id": "c326827f",
   "metadata": {},
   "outputs": [
    {
     "data": {
      "text/plain": [
       "30    4478\n",
       "25    3988\n",
       "20    3669\n",
       "35    3523\n",
       "28    3473\n",
       "      ... \n",
       "93       8\n",
       "95       6\n",
       "97       2\n",
       "98       1\n",
       "96       1\n",
       "Name: Age, Length: 86, dtype: int64"
      ]
     },
     "execution_count": 75,
     "metadata": {},
     "output_type": "execute_result"
    }
   ],
   "source": [
    "# Let's see the distribution of age since '100' indicates a refusal to answer.\n",
    "demographicInfo['Age'].value_counts()"
   ]
  },
  {
   "cell_type": "code",
   "execution_count": 150,
   "id": "d40e10ef",
   "metadata": {},
   "outputs": [
    {
     "data": {
      "image/png": "[encoded data removed]",
      "text/plain": [
       "<Figure size 432x288 with 1 Axes>"
      ]
     },
     "metadata": {
      "needs_background": "light"
     },
     "output_type": "display_data"
    }
   ],
   "source": [
    "# Visualize the distribution of Age\n",
    "sns.histplot(demographicInfo['Age']).set_title('Distibution of Age')\n",
    "plt.show()"
   ]
  },
  {
   "cell_type": "code",
   "execution_count": 111,
   "id": "66716bb0",
   "metadata": {},
   "outputs": [
    {
     "ename": "KeyError",
     "evalue": "\"['Age'] not found in axis\"",
     "output_type": "error",
     "traceback": [
      "\u001b[1;31m---------------------------------------------------------------------------\u001b[0m",
      "\u001b[1;31mKeyError\u001b[0m                                  Traceback (most recent call last)",
      "\u001b[1;32m~\\AppData\\Local\\Temp/ipykernel_86048/3207933795.py\u001b[0m in \u001b[0;36m<module>\u001b[1;34m\u001b[0m\n\u001b[0;32m      1\u001b[0m \u001b[1;31m# Remove 'Age' and keep 'age_var3'\u001b[0m\u001b[1;33m\u001b[0m\u001b[1;33m\u001b[0m\u001b[1;33m\u001b[0m\u001b[0m\n\u001b[1;32m----> 2\u001b[1;33m \u001b[0mdemographicInfo\u001b[0m \u001b[1;33m=\u001b[0m \u001b[0mdemographicInfo\u001b[0m\u001b[1;33m.\u001b[0m\u001b[0mdrop\u001b[0m\u001b[1;33m(\u001b[0m\u001b[1;34m'Age'\u001b[0m\u001b[1;33m,\u001b[0m\u001b[0maxis\u001b[0m\u001b[1;33m=\u001b[0m\u001b[1;36m1\u001b[0m\u001b[1;33m)\u001b[0m\u001b[1;33m\u001b[0m\u001b[1;33m\u001b[0m\u001b[0m\n\u001b[0m",
      "\u001b[1;32m~\\anaconda3\\lib\\site-packages\\pandas\\util\\_decorators.py\u001b[0m in \u001b[0;36mwrapper\u001b[1;34m(*args, **kwargs)\u001b[0m\n\u001b[0;32m    309\u001b[0m                     \u001b[0mstacklevel\u001b[0m\u001b[1;33m=\u001b[0m\u001b[0mstacklevel\u001b[0m\u001b[1;33m,\u001b[0m\u001b[1;33m\u001b[0m\u001b[1;33m\u001b[0m\u001b[0m\n\u001b[0;32m    310\u001b[0m                 )\n\u001b[1;32m--> 311\u001b[1;33m             \u001b[1;32mreturn\u001b[0m \u001b[0mfunc\u001b[0m\u001b[1;33m(\u001b[0m\u001b[1;33m*\u001b[0m\u001b[0margs\u001b[0m\u001b[1;33m,\u001b[0m \u001b[1;33m**\u001b[0m\u001b[0mkwargs\u001b[0m\u001b[1;33m)\u001b[0m\u001b[1;33m\u001b[0m\u001b[1;33m\u001b[0m\u001b[0m\n\u001b[0m\u001b[0;32m    312\u001b[0m \u001b[1;33m\u001b[0m\u001b[0m\n\u001b[0;32m    313\u001b[0m         \u001b[1;32mreturn\u001b[0m \u001b[0mwrapper\u001b[0m\u001b[1;33m\u001b[0m\u001b[1;33m\u001b[0m\u001b[0m\n",
      "\u001b[1;32m~\\anaconda3\\lib\\site-packages\\pandas\\core\\frame.py\u001b[0m in \u001b[0;36mdrop\u001b[1;34m(self, labels, axis, index, columns, level, inplace, errors)\u001b[0m\n\u001b[0;32m   4904\u001b[0m                 \u001b[0mweight\u001b[0m  \u001b[1;36m1.0\u001b[0m     \u001b[1;36m0.8\u001b[0m\u001b[1;33m\u001b[0m\u001b[1;33m\u001b[0m\u001b[0m\n\u001b[0;32m   4905\u001b[0m         \"\"\"\n\u001b[1;32m-> 4906\u001b[1;33m         return super().drop(\n\u001b[0m\u001b[0;32m   4907\u001b[0m             \u001b[0mlabels\u001b[0m\u001b[1;33m=\u001b[0m\u001b[0mlabels\u001b[0m\u001b[1;33m,\u001b[0m\u001b[1;33m\u001b[0m\u001b[1;33m\u001b[0m\u001b[0m\n\u001b[0;32m   4908\u001b[0m             \u001b[0maxis\u001b[0m\u001b[1;33m=\u001b[0m\u001b[0maxis\u001b[0m\u001b[1;33m,\u001b[0m\u001b[1;33m\u001b[0m\u001b[1;33m\u001b[0m\u001b[0m\n",
      "\u001b[1;32m~\\anaconda3\\lib\\site-packages\\pandas\\core\\generic.py\u001b[0m in \u001b[0;36mdrop\u001b[1;34m(self, labels, axis, index, columns, level, inplace, errors)\u001b[0m\n\u001b[0;32m   4148\u001b[0m         \u001b[1;32mfor\u001b[0m \u001b[0maxis\u001b[0m\u001b[1;33m,\u001b[0m \u001b[0mlabels\u001b[0m \u001b[1;32min\u001b[0m \u001b[0maxes\u001b[0m\u001b[1;33m.\u001b[0m\u001b[0mitems\u001b[0m\u001b[1;33m(\u001b[0m\u001b[1;33m)\u001b[0m\u001b[1;33m:\u001b[0m\u001b[1;33m\u001b[0m\u001b[1;33m\u001b[0m\u001b[0m\n\u001b[0;32m   4149\u001b[0m             \u001b[1;32mif\u001b[0m \u001b[0mlabels\u001b[0m \u001b[1;32mis\u001b[0m \u001b[1;32mnot\u001b[0m \u001b[1;32mNone\u001b[0m\u001b[1;33m:\u001b[0m\u001b[1;33m\u001b[0m\u001b[1;33m\u001b[0m\u001b[0m\n\u001b[1;32m-> 4150\u001b[1;33m                 \u001b[0mobj\u001b[0m \u001b[1;33m=\u001b[0m \u001b[0mobj\u001b[0m\u001b[1;33m.\u001b[0m\u001b[0m_drop_axis\u001b[0m\u001b[1;33m(\u001b[0m\u001b[0mlabels\u001b[0m\u001b[1;33m,\u001b[0m \u001b[0maxis\u001b[0m\u001b[1;33m,\u001b[0m \u001b[0mlevel\u001b[0m\u001b[1;33m=\u001b[0m\u001b[0mlevel\u001b[0m\u001b[1;33m,\u001b[0m \u001b[0merrors\u001b[0m\u001b[1;33m=\u001b[0m\u001b[0merrors\u001b[0m\u001b[1;33m)\u001b[0m\u001b[1;33m\u001b[0m\u001b[1;33m\u001b[0m\u001b[0m\n\u001b[0m\u001b[0;32m   4151\u001b[0m \u001b[1;33m\u001b[0m\u001b[0m\n\u001b[0;32m   4152\u001b[0m         \u001b[1;32mif\u001b[0m \u001b[0minplace\u001b[0m\u001b[1;33m:\u001b[0m\u001b[1;33m\u001b[0m\u001b[1;33m\u001b[0m\u001b[0m\n",
      "\u001b[1;32m~\\anaconda3\\lib\\site-packages\\pandas\\core\\generic.py\u001b[0m in \u001b[0;36m_drop_axis\u001b[1;34m(self, labels, axis, level, errors)\u001b[0m\n\u001b[0;32m   4183\u001b[0m                 \u001b[0mnew_axis\u001b[0m \u001b[1;33m=\u001b[0m \u001b[0maxis\u001b[0m\u001b[1;33m.\u001b[0m\u001b[0mdrop\u001b[0m\u001b[1;33m(\u001b[0m\u001b[0mlabels\u001b[0m\u001b[1;33m,\u001b[0m \u001b[0mlevel\u001b[0m\u001b[1;33m=\u001b[0m\u001b[0mlevel\u001b[0m\u001b[1;33m,\u001b[0m \u001b[0merrors\u001b[0m\u001b[1;33m=\u001b[0m\u001b[0merrors\u001b[0m\u001b[1;33m)\u001b[0m\u001b[1;33m\u001b[0m\u001b[1;33m\u001b[0m\u001b[0m\n\u001b[0;32m   4184\u001b[0m             \u001b[1;32melse\u001b[0m\u001b[1;33m:\u001b[0m\u001b[1;33m\u001b[0m\u001b[1;33m\u001b[0m\u001b[0m\n\u001b[1;32m-> 4185\u001b[1;33m                 \u001b[0mnew_axis\u001b[0m \u001b[1;33m=\u001b[0m \u001b[0maxis\u001b[0m\u001b[1;33m.\u001b[0m\u001b[0mdrop\u001b[0m\u001b[1;33m(\u001b[0m\u001b[0mlabels\u001b[0m\u001b[1;33m,\u001b[0m \u001b[0merrors\u001b[0m\u001b[1;33m=\u001b[0m\u001b[0merrors\u001b[0m\u001b[1;33m)\u001b[0m\u001b[1;33m\u001b[0m\u001b[1;33m\u001b[0m\u001b[0m\n\u001b[0m\u001b[0;32m   4186\u001b[0m             \u001b[0mresult\u001b[0m \u001b[1;33m=\u001b[0m \u001b[0mself\u001b[0m\u001b[1;33m.\u001b[0m\u001b[0mreindex\u001b[0m\u001b[1;33m(\u001b[0m\u001b[1;33m**\u001b[0m\u001b[1;33m{\u001b[0m\u001b[0maxis_name\u001b[0m\u001b[1;33m:\u001b[0m \u001b[0mnew_axis\u001b[0m\u001b[1;33m}\u001b[0m\u001b[1;33m)\u001b[0m\u001b[1;33m\u001b[0m\u001b[1;33m\u001b[0m\u001b[0m\n\u001b[0;32m   4187\u001b[0m \u001b[1;33m\u001b[0m\u001b[0m\n",
      "\u001b[1;32m~\\anaconda3\\lib\\site-packages\\pandas\\core\\indexes\\base.py\u001b[0m in \u001b[0;36mdrop\u001b[1;34m(self, labels, errors)\u001b[0m\n\u001b[0;32m   6015\u001b[0m         \u001b[1;32mif\u001b[0m \u001b[0mmask\u001b[0m\u001b[1;33m.\u001b[0m\u001b[0many\u001b[0m\u001b[1;33m(\u001b[0m\u001b[1;33m)\u001b[0m\u001b[1;33m:\u001b[0m\u001b[1;33m\u001b[0m\u001b[1;33m\u001b[0m\u001b[0m\n\u001b[0;32m   6016\u001b[0m             \u001b[1;32mif\u001b[0m \u001b[0merrors\u001b[0m \u001b[1;33m!=\u001b[0m \u001b[1;34m\"ignore\"\u001b[0m\u001b[1;33m:\u001b[0m\u001b[1;33m\u001b[0m\u001b[1;33m\u001b[0m\u001b[0m\n\u001b[1;32m-> 6017\u001b[1;33m                 \u001b[1;32mraise\u001b[0m \u001b[0mKeyError\u001b[0m\u001b[1;33m(\u001b[0m\u001b[1;34mf\"{labels[mask]} not found in axis\"\u001b[0m\u001b[1;33m)\u001b[0m\u001b[1;33m\u001b[0m\u001b[1;33m\u001b[0m\u001b[0m\n\u001b[0m\u001b[0;32m   6018\u001b[0m             \u001b[0mindexer\u001b[0m \u001b[1;33m=\u001b[0m \u001b[0mindexer\u001b[0m\u001b[1;33m[\u001b[0m\u001b[1;33m~\u001b[0m\u001b[0mmask\u001b[0m\u001b[1;33m]\u001b[0m\u001b[1;33m\u001b[0m\u001b[1;33m\u001b[0m\u001b[0m\n\u001b[0;32m   6019\u001b[0m         \u001b[1;32mreturn\u001b[0m \u001b[0mself\u001b[0m\u001b[1;33m.\u001b[0m\u001b[0mdelete\u001b[0m\u001b[1;33m(\u001b[0m\u001b[0mindexer\u001b[0m\u001b[1;33m)\u001b[0m\u001b[1;33m\u001b[0m\u001b[1;33m\u001b[0m\u001b[0m\n",
      "\u001b[1;31mKeyError\u001b[0m: \"['Age'] not found in axis\""
     ]
    }
   ],
   "source": [
    "# Remove 'Age' and keep 'age_var3'\n",
    "demographicInfo = demographicInfo.drop('Age',axis=1)"
   ]
  },
  {
   "cell_type": "code",
   "execution_count": 112,
   "id": "ba44af9c",
   "metadata": {},
   "outputs": [
    {
     "name": "stdout",
     "output_type": "stream",
     "text": [
      "<class 'pandas.core.frame.DataFrame'>\n",
      "RangeIndex: 119088 entries, 0 to 119087\n",
      "Data columns (total 8 columns):\n",
      " #   Column             Non-Null Count   Dtype   \n",
      "---  ------             --------------   -----   \n",
      " 0   Global11Regions    119088 non-null  category\n",
      " 1   Gender             119088 non-null  category\n",
      " 2   age_var3           119088 non-null  category\n",
      " 3   Education          119088 non-null  category\n",
      " 4   Household_Income   119088 non-null  category\n",
      " 5   wbi                119088 non-null  category\n",
      " 6   Subjective_Income  119088 non-null  category\n",
      " 7   EMP_2010           119088 non-null  category\n",
      "dtypes: category(8)\n",
      "memory usage: 932.4 KB\n"
     ]
    }
   ],
   "source": [
    "demographicInfo.info()"
   ]
  },
  {
   "cell_type": "markdown",
   "id": "09654e59",
   "metadata": {},
   "source": [
    "##### Remarks\n",
    "Based on the descriptive statistics of the demographicInfo dataset, we see the following:\n",
    "- Youngest participant was 15 and oldest participant was 96; mean age of the sample is 40 years old\n",
    "- The histogram for 'Age' is skewed to the right, which means the sample consists mostly of young adult and middle-aged participants.\n",
    "- On a country-level, the highest number of respondants came from China.\n",
    "- When grouped by global regions, Sub-Saharan Africa has the highest number of responses.\n",
    "- Sample consists of more male participants.\n",
    "- Sample consists of more participants who's highest level of educational attainment was Secondary School (8-15 years).\n",
    "- Sample consists of more participants who's household income fell in the richest 20%.\n",
    "- Sample consists of more participants who live in high-income countries.\n",
    "- Most people's subjective feelings about household income indicate they are able to get by on their present income.\n",
    "- Most people in sample are employed full time for an employer"
   ]
  },
  {
   "cell_type": "markdown",
   "id": "d009b14a",
   "metadata": {},
   "source": [
    "##### Behavioural/Beliefs"
   ]
  },
  {
   "cell_type": "code",
   "execution_count": 113,
   "id": "f2cb11fa",
   "metadata": {},
   "outputs": [
    {
     "data": {
      "text/html": [
       "<div>\n",
       "<style scoped>\n",
       "    .dataframe tbody tr th:only-of-type {\n",
       "        vertical-align: middle;\n",
       "    }\n",
       "\n",
       "    .dataframe tbody tr th {\n",
       "        vertical-align: top;\n",
       "    }\n",
       "\n",
       "    .dataframe thead th {\n",
       "        text-align: right;\n",
       "    }\n",
       "</style>\n",
       "<table border=\"1\" class=\"dataframe\">\n",
       "  <thead>\n",
       "    <tr style=\"text-align: right;\">\n",
       "      <th></th>\n",
       "      <th>W1</th>\n",
       "      <th>W2</th>\n",
       "      <th>W3</th>\n",
       "      <th>W4</th>\n",
       "      <th>W5A</th>\n",
       "      <th>W5B</th>\n",
       "      <th>W5C</th>\n",
       "      <th>W5D</th>\n",
       "      <th>W5E</th>\n",
       "      <th>W5F</th>\n",
       "      <th>...</th>\n",
       "      <th>MH3D</th>\n",
       "      <th>MH4A</th>\n",
       "      <th>MH4B</th>\n",
       "      <th>MH5</th>\n",
       "      <th>MH6</th>\n",
       "      <th>MH7A</th>\n",
       "      <th>W27</th>\n",
       "      <th>W28</th>\n",
       "      <th>W29</th>\n",
       "      <th>W30</th>\n",
       "    </tr>\n",
       "  </thead>\n",
       "  <tbody>\n",
       "    <tr>\n",
       "      <th>count</th>\n",
       "      <td>119088</td>\n",
       "      <td>119088</td>\n",
       "      <td>119088.0</td>\n",
       "      <td>119088.0</td>\n",
       "      <td>119088</td>\n",
       "      <td>119088.0</td>\n",
       "      <td>119088</td>\n",
       "      <td>119088.0</td>\n",
       "      <td>119088</td>\n",
       "      <td>119088</td>\n",
       "      <td>...</td>\n",
       "      <td>119088.0</td>\n",
       "      <td>119088.0</td>\n",
       "      <td>119088.0</td>\n",
       "      <td>119088.0</td>\n",
       "      <td>119088</td>\n",
       "      <td>119088.0</td>\n",
       "      <td>119088</td>\n",
       "      <td>119088.0</td>\n",
       "      <td>119088.0</td>\n",
       "      <td>119088.0</td>\n",
       "    </tr>\n",
       "    <tr>\n",
       "      <th>unique</th>\n",
       "      <td>5</td>\n",
       "      <td>5</td>\n",
       "      <td>5.0</td>\n",
       "      <td>5.0</td>\n",
       "      <td>5</td>\n",
       "      <td>5.0</td>\n",
       "      <td>5</td>\n",
       "      <td>5.0</td>\n",
       "      <td>5</td>\n",
       "      <td>5</td>\n",
       "      <td>...</td>\n",
       "      <td>5.0</td>\n",
       "      <td>5.0</td>\n",
       "      <td>5.0</td>\n",
       "      <td>4.0</td>\n",
       "      <td>3</td>\n",
       "      <td>3.0</td>\n",
       "      <td>3</td>\n",
       "      <td>7.0</td>\n",
       "      <td>5.0</td>\n",
       "      <td>5.0</td>\n",
       "    </tr>\n",
       "    <tr>\n",
       "      <th>top</th>\n",
       "      <td>2</td>\n",
       "      <td>2</td>\n",
       "      <td>2.0</td>\n",
       "      <td>2.0</td>\n",
       "      <td>2</td>\n",
       "      <td>2.0</td>\n",
       "      <td>1</td>\n",
       "      <td>2.0</td>\n",
       "      <td>1</td>\n",
       "      <td>2</td>\n",
       "      <td>...</td>\n",
       "      <td>2.0</td>\n",
       "      <td>1.0</td>\n",
       "      <td>1.0</td>\n",
       "      <td>2.0</td>\n",
       "      <td>2</td>\n",
       "      <td>2.0</td>\n",
       "      <td>1</td>\n",
       "      <td>3.0</td>\n",
       "      <td>3.0</td>\n",
       "      <td>2.0</td>\n",
       "    </tr>\n",
       "    <tr>\n",
       "      <th>freq</th>\n",
       "      <td>60006</td>\n",
       "      <td>46624</td>\n",
       "      <td>65327.0</td>\n",
       "      <td>47521.0</td>\n",
       "      <td>49252</td>\n",
       "      <td>35732.0</td>\n",
       "      <td>44364</td>\n",
       "      <td>48169.0</td>\n",
       "      <td>52915</td>\n",
       "      <td>49363</td>\n",
       "      <td>...</td>\n",
       "      <td>42792.0</td>\n",
       "      <td>89796.0</td>\n",
       "      <td>66898.0</td>\n",
       "      <td>47703.0</td>\n",
       "      <td>69635</td>\n",
       "      <td>92839.0</td>\n",
       "      <td>97080</td>\n",
       "      <td>45347.0</td>\n",
       "      <td>53966.0</td>\n",
       "      <td>45278.0</td>\n",
       "    </tr>\n",
       "  </tbody>\n",
       "</table>\n",
       "<p>4 rows × 46 columns</p>\n",
       "</div>"
      ],
      "text/plain": [
       "            W1      W2        W3        W4     W5A       W5B     W5C  \\\n",
       "count   119088  119088  119088.0  119088.0  119088  119088.0  119088   \n",
       "unique       5       5       5.0       5.0       5       5.0       5   \n",
       "top          2       2       2.0       2.0       2       2.0       1   \n",
       "freq     60006   46624   65327.0   47521.0   49252   35732.0   44364   \n",
       "\n",
       "             W5D     W5E     W5F  ...      MH3D      MH4A      MH4B       MH5  \\\n",
       "count   119088.0  119088  119088  ...  119088.0  119088.0  119088.0  119088.0   \n",
       "unique       5.0       5       5  ...       5.0       5.0       5.0       4.0   \n",
       "top          2.0       1       2  ...       2.0       1.0       1.0       2.0   \n",
       "freq     48169.0   52915   49363  ...   42792.0   89796.0   66898.0   47703.0   \n",
       "\n",
       "           MH6      MH7A     W27       W28       W29       W30  \n",
       "count   119088  119088.0  119088  119088.0  119088.0  119088.0  \n",
       "unique       3       3.0       3       7.0       5.0       5.0  \n",
       "top          2       2.0       1       3.0       3.0       2.0  \n",
       "freq     69635   92839.0   97080   45347.0   53966.0   45278.0  \n",
       "\n",
       "[4 rows x 46 columns]"
      ]
     },
     "execution_count": 113,
     "metadata": {},
     "output_type": "execute_result"
    }
   ],
   "source": [
    "questionDataset.describe()"
   ]
  },
  {
   "cell_type": "markdown",
   "id": "bb4b72f1",
   "metadata": {},
   "source": [
    "Let's generate a correlation between all the features of this dataset. Since data are ordinal in nature, we use Kendall's Rank Correlation. We then visualize the correlation matrix as a heatmap using the Seaborn library."
   ]
  },
  {
   "cell_type": "code",
   "execution_count": 114,
   "id": "209ecc15",
   "metadata": {},
   "outputs": [
    {
     "name": "stderr",
     "output_type": "stream",
     "text": [
      "C:\\Users\\micza\\anaconda3\\lib\\site-packages\\scipy\\stats\\stats.py:4812: RuntimeWarning: overflow encountered in longlong_scalars\n",
      "  (2 * xtie * ytie) / m + x0 * y0 / (9 * m * (size - 2)))\n"
     ]
    }
   ],
   "source": [
    "# Calculating Kendall's Rank correlation \n",
    "# The corr function \n",
    "kendallCorr = questionDataset.astype(float).corr(method='kendall')"
   ]
  },
  {
   "cell_type": "code",
   "execution_count": 152,
   "id": "bf549b22",
   "metadata": {},
   "outputs": [
    {
     "data": {
      "text/plain": [
       "Text(0.5, 1.0, 'Correlations of Behavioural/Belief Features')"
      ]
     },
     "execution_count": 152,
     "metadata": {},
     "output_type": "execute_result"
    },
    {
     "data": {
      "image/png": "[encoded data removed]",
      "text/plain": [
       "<Figure size 432x288 with 2 Axes>"
      ]
     },
     "metadata": {
      "needs_background": "light"
     },
     "output_type": "display_data"
    }
   ],
   "source": [
    "sns.heatmap(kendallCorr).set_title(\"Correlations of Behavioural/Belief Features\") # Visualize the correlation matrix as a heatmap"
   ]
  },
  {
   "cell_type": "markdown",
   "id": "ad5cebc9",
   "metadata": {},
   "source": [
    "##### Remarks\n",
    "Based on the correlation matrix visualized above, there does not appear to be any meaningful strong correlations in the dataset. We do see that there are clusters in the heatmap that indicate strong positive correlations; however, these correlations were expected due to sections of the questionnaire having similar themes."
   ]
  },
  {
   "cell_type": "markdown",
   "id": "7c71992c",
   "metadata": {},
   "source": [
    "#### Initial Classification Models"
   ]
  },
  {
   "cell_type": "markdown",
   "id": "20596408",
   "metadata": {},
   "source": [
    "As a first step, we will fit a Logistic Regression Classifier on the final dataset consisting of both demographicInfo and questionDataset."
   ]
  },
  {
   "cell_type": "code",
   "execution_count": 153,
   "id": "597736b9",
   "metadata": {},
   "outputs": [],
   "source": [
    "import numpy as np\n",
    "import matplotlib.pyplot as plt\n",
    "from sklearn.model_selection import train_test_split\n",
    "from sklearn import preprocessing\n",
    "from sklearn import tree\n",
    "from sklearn.linear_model import LogisticRegression as LR\n",
    "from sklearn.metrics import accuracy_score, precision_score, recall_score, roc_curve, roc_auc_score\n",
    "from sklearn.metrics import classification_report, confusion_matrix, ConfusionMatrixDisplay"
   ]
  },
  {
   "cell_type": "markdown",
   "id": "03a93a05",
   "metadata": {},
   "source": [
    "##### Generate the final dataset\n",
    "But first, let's generate the final dataset"
   ]
  },
  {
   "cell_type": "markdown",
   "id": "878da3e5",
   "metadata": {},
   "source": [
    "##### Preprocessing of Country\n",
    "\n",
    "Before moving forward with any classification models, it will be necessary to convert the strings in 'COUNTRYNEW' using LabelEncoder():"
   ]
  },
  {
   "cell_type": "code",
   "execution_count": 117,
   "id": "61cabceb",
   "metadata": {},
   "outputs": [],
   "source": [
    "#le_country = preprocessing.LabelEncoder()\n",
    "#le_country.fit(demographicInfo['COUNTRYNEW'])"
   ]
  },
  {
   "cell_type": "code",
   "execution_count": 118,
   "id": "3e87c3e4",
   "metadata": {
    "scrolled": false
   },
   "outputs": [],
   "source": [
    "#list(le_country.classes_)"
   ]
  },
  {
   "cell_type": "code",
   "execution_count": 119,
   "id": "6848b924",
   "metadata": {
    "scrolled": false
   },
   "outputs": [],
   "source": [
    "#demographics = demographicInfo.copy().drop(['COUNTRYNEW'],axis=1)\n",
    "#demographicInfo['COUNTRYNEW'] = le_country.transform(demographicInfo['COUNTRYNEW'])\n",
    "#demographicInfo"
   ]
  },
  {
   "cell_type": "code",
   "execution_count": 120,
   "id": "cf89ad53",
   "metadata": {},
   "outputs": [
    {
     "data": {
      "text/html": [
       "<div>\n",
       "<style scoped>\n",
       "    .dataframe tbody tr th:only-of-type {\n",
       "        vertical-align: middle;\n",
       "    }\n",
       "\n",
       "    .dataframe tbody tr th {\n",
       "        vertical-align: top;\n",
       "    }\n",
       "\n",
       "    .dataframe thead th {\n",
       "        text-align: right;\n",
       "    }\n",
       "</style>\n",
       "<table border=\"1\" class=\"dataframe\">\n",
       "  <thead>\n",
       "    <tr style=\"text-align: right;\">\n",
       "      <th></th>\n",
       "      <th>Global11Regions</th>\n",
       "      <th>Gender</th>\n",
       "      <th>age_var3</th>\n",
       "      <th>Education</th>\n",
       "      <th>Household_Income</th>\n",
       "      <th>wbi</th>\n",
       "      <th>Subjective_Income</th>\n",
       "      <th>EMP_2010</th>\n",
       "    </tr>\n",
       "  </thead>\n",
       "  <tbody>\n",
       "    <tr>\n",
       "      <th>0</th>\n",
       "      <td>9</td>\n",
       "      <td>2</td>\n",
       "      <td>4</td>\n",
       "      <td>2</td>\n",
       "      <td>5.0</td>\n",
       "      <td>4</td>\n",
       "      <td>2</td>\n",
       "      <td>6.0</td>\n",
       "    </tr>\n",
       "    <tr>\n",
       "      <th>1</th>\n",
       "      <td>9</td>\n",
       "      <td>1</td>\n",
       "      <td>1</td>\n",
       "      <td>3</td>\n",
       "      <td>4.0</td>\n",
       "      <td>4</td>\n",
       "      <td>1</td>\n",
       "      <td>1.0</td>\n",
       "    </tr>\n",
       "    <tr>\n",
       "      <th>2</th>\n",
       "      <td>9</td>\n",
       "      <td>1</td>\n",
       "      <td>2</td>\n",
       "      <td>3</td>\n",
       "      <td>4.0</td>\n",
       "      <td>4</td>\n",
       "      <td>1</td>\n",
       "      <td>1.0</td>\n",
       "    </tr>\n",
       "    <tr>\n",
       "      <th>3</th>\n",
       "      <td>9</td>\n",
       "      <td>2</td>\n",
       "      <td>4</td>\n",
       "      <td>3</td>\n",
       "      <td>4.0</td>\n",
       "      <td>4</td>\n",
       "      <td>2</td>\n",
       "      <td>1.0</td>\n",
       "    </tr>\n",
       "    <tr>\n",
       "      <th>4</th>\n",
       "      <td>9</td>\n",
       "      <td>1</td>\n",
       "      <td>3</td>\n",
       "      <td>2</td>\n",
       "      <td>2.0</td>\n",
       "      <td>4</td>\n",
       "      <td>4</td>\n",
       "      <td>6.0</td>\n",
       "    </tr>\n",
       "  </tbody>\n",
       "</table>\n",
       "</div>"
      ],
      "text/plain": [
       "  Global11Regions Gender age_var3 Education Household_Income wbi  \\\n",
       "0               9      2        4         2              5.0   4   \n",
       "1               9      1        1         3              4.0   4   \n",
       "2               9      1        2         3              4.0   4   \n",
       "3               9      2        4         3              4.0   4   \n",
       "4               9      1        3         2              2.0   4   \n",
       "\n",
       "  Subjective_Income EMP_2010  \n",
       "0                 2      6.0  \n",
       "1                 1      1.0  \n",
       "2                 1      1.0  \n",
       "3                 2      1.0  \n",
       "4                 4      6.0  "
      ]
     },
     "execution_count": 120,
     "metadata": {},
     "output_type": "execute_result"
    }
   ],
   "source": [
    "demographicInfo.head()"
   ]
  },
  {
   "cell_type": "markdown",
   "id": "b75ccc2b",
   "metadata": {},
   "source": [
    "Now let's generate the final dataset by concatenating demographicInfo with questionDataset:"
   ]
  },
  {
   "cell_type": "code",
   "execution_count": 121,
   "id": "0912861e",
   "metadata": {
    "scrolled": true
   },
   "outputs": [
    {
     "data": {
      "text/plain": [
       "(119088, 54)"
      ]
     },
     "execution_count": 121,
     "metadata": {},
     "output_type": "execute_result"
    }
   ],
   "source": [
    "dataset = pd.concat([demographicInfo, questionDataset],axis=1)\n",
    "dataset.shape # 119 088 entries and 55 columns/features"
   ]
  },
  {
   "cell_type": "code",
   "execution_count": 122,
   "id": "ccdde532",
   "metadata": {},
   "outputs": [
    {
     "name": "stdout",
     "output_type": "stream",
     "text": [
      "<class 'pandas.core.frame.DataFrame'>\n",
      "RangeIndex: 119088 entries, 0 to 119087\n",
      "Data columns (total 54 columns):\n",
      " #   Column             Non-Null Count   Dtype   \n",
      "---  ------             --------------   -----   \n",
      " 0   Global11Regions    119088 non-null  category\n",
      " 1   Gender             119088 non-null  category\n",
      " 2   age_var3           119088 non-null  category\n",
      " 3   Education          119088 non-null  category\n",
      " 4   Household_Income   119088 non-null  category\n",
      " 5   wbi                119088 non-null  category\n",
      " 6   Subjective_Income  119088 non-null  category\n",
      " 7   EMP_2010           119088 non-null  category\n",
      " 8   W1                 119088 non-null  category\n",
      " 9   W2                 119088 non-null  category\n",
      " 10  W3                 119088 non-null  category\n",
      " 11  W4                 119088 non-null  category\n",
      " 12  W5A                119088 non-null  category\n",
      " 13  W5B                119088 non-null  category\n",
      " 14  W5C                119088 non-null  category\n",
      " 15  W5D                119088 non-null  category\n",
      " 16  W5E                119088 non-null  category\n",
      " 17  W5F                119088 non-null  category\n",
      " 18  W5G                119088 non-null  category\n",
      " 19  W6                 119088 non-null  category\n",
      " 20  W7A                119088 non-null  category\n",
      " 21  W7B                119088 non-null  category\n",
      " 22  W7C                119088 non-null  category\n",
      " 23  W8                 119088 non-null  category\n",
      " 24  W9                 119088 non-null  category\n",
      " 25  W10                119088 non-null  category\n",
      " 26  W11A               119088 non-null  category\n",
      " 27  W11B               119088 non-null  category\n",
      " 28  MH2A               119088 non-null  category\n",
      " 29  MH2B               119088 non-null  category\n",
      " 30  W13                119088 non-null  category\n",
      " 31  W14                119088 non-null  category\n",
      " 32  W15                119088 non-null  category\n",
      " 33  W15_1A             119088 non-null  category\n",
      " 34  W15_1B             119088 non-null  category\n",
      " 35  W15_1C             119088 non-null  category\n",
      " 36  W15_1D             119088 non-null  category\n",
      " 37  W15_1E             119088 non-null  category\n",
      " 38  W15_2A             119088 non-null  category\n",
      " 39  W15_2B             119088 non-null  category\n",
      " 40  MH1                119088 non-null  category\n",
      " 41  MH3A               119088 non-null  category\n",
      " 42  MH3B               119088 non-null  category\n",
      " 43  MH3C               119088 non-null  category\n",
      " 44  MH3D               119088 non-null  category\n",
      " 45  MH4A               119088 non-null  category\n",
      " 46  MH4B               119088 non-null  category\n",
      " 47  MH5                119088 non-null  category\n",
      " 48  MH6                119088 non-null  category\n",
      " 49  MH7A               119088 non-null  category\n",
      " 50  W27                119088 non-null  category\n",
      " 51  W28                119088 non-null  category\n",
      " 52  W29                119088 non-null  category\n",
      " 53  W30                119088 non-null  category\n",
      "dtypes: category(54)\n",
      "memory usage: 6.1 MB\n"
     ]
    }
   ],
   "source": [
    "dataset.info()"
   ]
  },
  {
   "cell_type": "code",
   "execution_count": 123,
   "id": "cd911246",
   "metadata": {},
   "outputs": [
    {
     "data": {
      "text/plain": [
       "2.0     92839\n",
       "1.0     23971\n",
       "99.0     2278\n",
       "Name: MH7A, dtype: int64"
      ]
     },
     "execution_count": 123,
     "metadata": {},
     "output_type": "execute_result"
    }
   ],
   "source": [
    "dataset['MH7A'].value_counts()"
   ]
  },
  {
   "cell_type": "code",
   "execution_count": 131,
   "id": "e49deae8",
   "metadata": {},
   "outputs": [
    {
     "name": "stdout",
     "output_type": "stream",
     "text": [
      "<class 'pandas.core.frame.DataFrame'>\n",
      "Int64Index: 116810 entries, 0 to 119087\n",
      "Data columns (total 54 columns):\n",
      " #   Column             Non-Null Count   Dtype   \n",
      "---  ------             --------------   -----   \n",
      " 0   Global11Regions    116810 non-null  category\n",
      " 1   Gender             116810 non-null  category\n",
      " 2   age_var3           116810 non-null  category\n",
      " 3   Education          116810 non-null  category\n",
      " 4   Household_Income   116810 non-null  category\n",
      " 5   wbi                116810 non-null  category\n",
      " 6   Subjective_Income  116810 non-null  category\n",
      " 7   EMP_2010           116810 non-null  category\n",
      " 8   W1                 116810 non-null  category\n",
      " 9   W2                 116810 non-null  category\n",
      " 10  W3                 116810 non-null  category\n",
      " 11  W4                 116810 non-null  category\n",
      " 12  W5A                116810 non-null  category\n",
      " 13  W5B                116810 non-null  category\n",
      " 14  W5C                116810 non-null  category\n",
      " 15  W5D                116810 non-null  category\n",
      " 16  W5E                116810 non-null  category\n",
      " 17  W5F                116810 non-null  category\n",
      " 18  W5G                116810 non-null  category\n",
      " 19  W6                 116810 non-null  category\n",
      " 20  W7A                116810 non-null  category\n",
      " 21  W7B                116810 non-null  category\n",
      " 22  W7C                116810 non-null  category\n",
      " 23  W8                 116810 non-null  category\n",
      " 24  W9                 116810 non-null  category\n",
      " 25  W10                116810 non-null  category\n",
      " 26  W11A               116810 non-null  category\n",
      " 27  W11B               116810 non-null  category\n",
      " 28  MH2A               116810 non-null  category\n",
      " 29  MH2B               116810 non-null  category\n",
      " 30  W13                116810 non-null  category\n",
      " 31  W14                116810 non-null  category\n",
      " 32  W15                116810 non-null  category\n",
      " 33  W15_1A             116810 non-null  category\n",
      " 34  W15_1B             116810 non-null  category\n",
      " 35  W15_1C             116810 non-null  category\n",
      " 36  W15_1D             116810 non-null  category\n",
      " 37  W15_1E             116810 non-null  category\n",
      " 38  W15_2A             116810 non-null  category\n",
      " 39  W15_2B             116810 non-null  category\n",
      " 40  MH1                116810 non-null  category\n",
      " 41  MH3A               116810 non-null  category\n",
      " 42  MH3B               116810 non-null  category\n",
      " 43  MH3C               116810 non-null  category\n",
      " 44  MH3D               116810 non-null  category\n",
      " 45  MH4A               116810 non-null  category\n",
      " 46  MH4B               116810 non-null  category\n",
      " 47  MH5                116810 non-null  category\n",
      " 48  MH6                116810 non-null  category\n",
      " 49  MH7A               116810 non-null  category\n",
      " 50  W27                116810 non-null  category\n",
      " 51  W28                116810 non-null  category\n",
      " 52  W29                116810 non-null  category\n",
      " 53  W30                116810 non-null  category\n",
      "dtypes: category(54)\n",
      "memory usage: 6.9 MB\n"
     ]
    }
   ],
   "source": [
    "dataset = dataset[(dataset['MH7A'] == 1.0) | (dataset['MH7A'] == 2.0)]\n",
    "dataset.info()"
   ]
  },
  {
   "cell_type": "markdown",
   "id": "ec127707",
   "metadata": {},
   "source": [
    "Split the dependent variable/label from the independent variables:\n",
    "- MH7A is the dependent variable/label -- the questionnaire asked the following: Have Been Anxious/Depressed"
   ]
  },
  {
   "cell_type": "code",
   "execution_count": 132,
   "id": "6be8e161",
   "metadata": {},
   "outputs": [
    {
     "data": {
      "text/plain": [
       "(116810,)"
      ]
     },
     "execution_count": 132,
     "metadata": {},
     "output_type": "execute_result"
    }
   ],
   "source": [
    "y = dataset['MH7A'] # The label: MH7A \n",
    "y.shape # 119 088 entries"
   ]
  },
  {
   "cell_type": "code",
   "execution_count": 133,
   "id": "92dd6979",
   "metadata": {},
   "outputs": [
    {
     "data": {
      "text/plain": [
       "(116810, 53)"
      ]
     },
     "execution_count": 133,
     "metadata": {},
     "output_type": "execute_result"
    }
   ],
   "source": [
    "X = dataset.drop(columns='MH7A') # The independent variables/features used for classification\n",
    "X.shape # 119 088 entries and 54 columns/features"
   ]
  },
  {
   "cell_type": "markdown",
   "id": "fa2b0b73",
   "metadata": {},
   "source": [
    "Split the dataset into training set and test set"
   ]
  },
  {
   "cell_type": "code",
   "execution_count": 134,
   "id": "7bfa47ed",
   "metadata": {},
   "outputs": [],
   "source": [
    "# 70% training and 30% test sets\n",
    "X_train, X_test, y_train, y_test = train_test_split(X,y, test_size=0.3, random_state=1)"
   ]
  },
  {
   "cell_type": "code",
   "execution_count": 135,
   "id": "0dfdeefd",
   "metadata": {},
   "outputs": [
    {
     "data": {
      "text/plain": [
       "(81767, 53)"
      ]
     },
     "execution_count": 135,
     "metadata": {},
     "output_type": "execute_result"
    }
   ],
   "source": [
    "X_train.shape"
   ]
  },
  {
   "cell_type": "code",
   "execution_count": 136,
   "id": "fbc5b1cb",
   "metadata": {},
   "outputs": [
    {
     "data": {
      "text/plain": [
       "(81767,)"
      ]
     },
     "execution_count": 136,
     "metadata": {},
     "output_type": "execute_result"
    }
   ],
   "source": [
    "y_train.shape"
   ]
  },
  {
   "cell_type": "code",
   "execution_count": 137,
   "id": "a850e6bf",
   "metadata": {},
   "outputs": [
    {
     "data": {
      "text/plain": [
       "(35043, 53)"
      ]
     },
     "execution_count": 137,
     "metadata": {},
     "output_type": "execute_result"
    }
   ],
   "source": [
    "X_test.shape"
   ]
  },
  {
   "cell_type": "code",
   "execution_count": 138,
   "id": "e3556f1d",
   "metadata": {
    "scrolled": true
   },
   "outputs": [
    {
     "data": {
      "text/plain": [
       "(35043,)"
      ]
     },
     "execution_count": 138,
     "metadata": {},
     "output_type": "execute_result"
    }
   ],
   "source": [
    "y_test.shape"
   ]
  },
  {
   "cell_type": "markdown",
   "id": "79bdda46",
   "metadata": {},
   "source": [
    "Check the distribution of the dependent variable in both training and testing sets"
   ]
  },
  {
   "cell_type": "code",
   "execution_count": 139,
   "id": "a21a4190",
   "metadata": {},
   "outputs": [
    {
     "data": {
      "text/plain": [
       "<AxesSubplot:title={'center':'Have felt anxious/depressed: Training set'}>"
      ]
     },
     "execution_count": 139,
     "metadata": {},
     "output_type": "execute_result"
    },
    {
     "data": {
      "image/png": "[encoded data removed]",
      "text/plain": [
       "<Figure size 432x288 with 1 Axes>"
      ]
     },
     "metadata": {
      "needs_background": "light"
     },
     "output_type": "display_data"
    }
   ],
   "source": [
    "# Training Set\n",
    "y_train.value_counts().plot(kind='bar', title='Have felt anxious/depressed: Training set')"
   ]
  },
  {
   "cell_type": "code",
   "execution_count": 140,
   "id": "c7f328c7",
   "metadata": {
    "scrolled": true
   },
   "outputs": [
    {
     "data": {
      "text/plain": [
       "<AxesSubplot:title={'center':'Have felt anxious/depressed: Testing set'}>"
      ]
     },
     "execution_count": 140,
     "metadata": {},
     "output_type": "execute_result"
    },
    {
     "data": {
      "image/png": "[encoded data removed]",
      "text/plain": [
       "<Figure size 432x288 with 1 Axes>"
      ]
     },
     "metadata": {
      "needs_background": "light"
     },
     "output_type": "display_data"
    }
   ],
   "source": [
    "# Testing Set\n",
    "y_test.value_counts().plot(kind='bar', title='Have felt anxious/depressed: Testing set')"
   ]
  },
  {
   "cell_type": "markdown",
   "id": "6a7463bd",
   "metadata": {},
   "source": [
    "Fit a Logistic Regression Classifier using all the features"
   ]
  },
  {
   "cell_type": "code",
   "execution_count": 141,
   "id": "86f22f55",
   "metadata": {},
   "outputs": [],
   "source": [
    "# Create Decision Tree Classifier object\n",
    "clfDT = tree.DecisionTreeClassifier()"
   ]
  },
  {
   "cell_type": "code",
   "execution_count": 142,
   "id": "36f84929",
   "metadata": {
    "scrolled": true
   },
   "outputs": [
    {
     "data": {
      "text/html": [
       "<style>#sk-container-id-2 {color: black;background-color: white;}#sk-container-id-2 pre{padding: 0;}#sk-container-id-2 div.sk-toggleable {background-color: white;}#sk-container-id-2 label.sk-toggleable__label {cursor: pointer;display: block;width: 100%;margin-bottom: 0;padding: 0.3em;box-sizing: border-box;text-align: center;}#sk-container-id-2 label.sk-toggleable__label-arrow:before {content: \"▸\";float: left;margin-right: 0.25em;color: #696969;}#sk-container-id-2 label.sk-toggleable__label-arrow:hover:before {color: black;}#sk-container-id-2 div.sk-estimator:hover label.sk-toggleable__label-arrow:before {color: black;}#sk-container-id-2 div.sk-toggleable__content {max-height: 0;max-width: 0;overflow: hidden;text-align: left;background-color: #f0f8ff;}#sk-container-id-2 div.sk-toggleable__content pre {margin: 0.2em;color: black;border-radius: 0.25em;background-color: #f0f8ff;}#sk-container-id-2 input.sk-toggleable__control:checked~div.sk-toggleable__content {max-height: 200px;max-width: 100%;overflow: auto;}#sk-container-id-2 input.sk-toggleable__control:checked~label.sk-toggleable__label-arrow:before {content: \"▾\";}#sk-container-id-2 div.sk-estimator input.sk-toggleable__control:checked~label.sk-toggleable__label {background-color: #d4ebff;}#sk-container-id-2 div.sk-label input.sk-toggleable__control:checked~label.sk-toggleable__label {background-color: #d4ebff;}#sk-container-id-2 input.sk-hidden--visually {border: 0;clip: rect(1px 1px 1px 1px);clip: rect(1px, 1px, 1px, 1px);height: 1px;margin: -1px;overflow: hidden;padding: 0;position: absolute;width: 1px;}#sk-container-id-2 div.sk-estimator {font-family: monospace;background-color: #f0f8ff;border: 1px dotted black;border-radius: 0.25em;box-sizing: border-box;margin-bottom: 0.5em;}#sk-container-id-2 div.sk-estimator:hover {background-color: #d4ebff;}#sk-container-id-2 div.sk-parallel-item::after {content: \"\";width: 100%;border-bottom: 1px solid gray;flex-grow: 1;}#sk-container-id-2 div.sk-label:hover label.sk-toggleable__label {background-color: #d4ebff;}#sk-container-id-2 div.sk-serial::before {content: \"\";position: absolute;border-left: 1px solid gray;box-sizing: border-box;top: 0;bottom: 0;left: 50%;z-index: 0;}#sk-container-id-2 div.sk-serial {display: flex;flex-direction: column;align-items: center;background-color: white;padding-right: 0.2em;padding-left: 0.2em;position: relative;}#sk-container-id-2 div.sk-item {position: relative;z-index: 1;}#sk-container-id-2 div.sk-parallel {display: flex;align-items: stretch;justify-content: center;background-color: white;position: relative;}#sk-container-id-2 div.sk-item::before, #sk-container-id-2 div.sk-parallel-item::before {content: \"\";position: absolute;border-left: 1px solid gray;box-sizing: border-box;top: 0;bottom: 0;left: 50%;z-index: -1;}#sk-container-id-2 div.sk-parallel-item {display: flex;flex-direction: column;z-index: 1;position: relative;background-color: white;}#sk-container-id-2 div.sk-parallel-item:first-child::after {align-self: flex-end;width: 50%;}#sk-container-id-2 div.sk-parallel-item:last-child::after {align-self: flex-start;width: 50%;}#sk-container-id-2 div.sk-parallel-item:only-child::after {width: 0;}#sk-container-id-2 div.sk-dashed-wrapped {border: 1px dashed gray;margin: 0 0.4em 0.5em 0.4em;box-sizing: border-box;padding-bottom: 0.4em;background-color: white;}#sk-container-id-2 div.sk-label label {font-family: monospace;font-weight: bold;display: inline-block;line-height: 1.2em;}#sk-container-id-2 div.sk-label-container {text-align: center;}#sk-container-id-2 div.sk-container {/* jupyter's `normalize.less` sets `[hidden] { display: none; }` but bootstrap.min.css set `[hidden] { display: none !important; }` so we also need the `!important` here to be able to override the default hidden behavior on the sphinx rendered scikit-learn.org. See: https://github.com/scikit-learn/scikit-learn/issues/21755 */display: inline-block !important;position: relative;}#sk-container-id-2 div.sk-text-repr-fallback {display: none;}</style><div id=\"sk-container-id-2\" class=\"sk-top-container\"><div class=\"sk-text-repr-fallback\"><pre>DecisionTreeClassifier()</pre><b>In a Jupyter environment, please rerun this cell to show the HTML representation or trust the notebook. <br />On GitHub, the HTML representation is unable to render, please try loading this page with nbviewer.org.</b></div><div class=\"sk-container\" hidden><div class=\"sk-item\"><div class=\"sk-estimator sk-toggleable\"><input class=\"sk-toggleable__control sk-hidden--visually\" id=\"sk-estimator-id-2\" type=\"checkbox\" checked><label for=\"sk-estimator-id-2\" class=\"sk-toggleable__label sk-toggleable__label-arrow\">DecisionTreeClassifier</label><div class=\"sk-toggleable__content\"><pre>DecisionTreeClassifier()</pre></div></div></div></div></div>"
      ],
      "text/plain": [
       "DecisionTreeClassifier()"
      ]
     },
     "execution_count": 142,
     "metadata": {},
     "output_type": "execute_result"
    }
   ],
   "source": [
    "# Fit the model\n",
    "clfDT.fit(X_train, y_train)"
   ]
  },
  {
   "cell_type": "code",
   "execution_count": 143,
   "id": "24c9aeca",
   "metadata": {},
   "outputs": [],
   "source": [
    "# Predicting labels for the Test Set\n",
    "y_pred = clfDT.predict(X_test)"
   ]
  },
  {
   "cell_type": "code",
   "execution_count": 144,
   "id": "b8e92932",
   "metadata": {
    "scrolled": true
   },
   "outputs": [
    {
     "data": {
      "text/plain": [
       "array([2., 1., 2., 2., 2.])"
      ]
     },
     "execution_count": 144,
     "metadata": {},
     "output_type": "execute_result"
    }
   ],
   "source": [
    "y_pred[0:5]"
   ]
  },
  {
   "cell_type": "markdown",
   "id": "8745670e",
   "metadata": {},
   "source": [
    "Creating the Confusion Matrix:"
   ]
  },
  {
   "cell_type": "code",
   "execution_count": 145,
   "id": "5a73f70c",
   "metadata": {},
   "outputs": [
    {
     "name": "stdout",
     "output_type": "stream",
     "text": [
      "[[ 2591  4589]\n",
      " [ 5333 22530]]\n"
     ]
    }
   ],
   "source": [
    "print(confusion_matrix(y_test, y_pred))\n",
    "\n",
    "# TN, FP\n",
    "# FN, TP\n",
    "## y_pred: Predicted labels\n",
    "## y_test: True Labels"
   ]
  },
  {
   "cell_type": "code",
   "execution_count": 160,
   "id": "6eee69f7",
   "metadata": {},
   "outputs": [
    {
     "data": {
      "image/png": "[encoded data removed]",
      "text/plain": [
       "<Figure size 432x288 with 2 Axes>"
      ]
     },
     "metadata": {
      "needs_background": "light"
     },
     "output_type": "display_data"
    }
   ],
   "source": [
    "cm = confusion_matrix(y_test, y_pred, labels=clfDT.classes_)\n",
    "disp = ConfusionMatrixDisplay(confusion_matrix=cm,\n",
    "                              display_labels=clfDT.classes_)\n",
    "disp.plot()\n",
    "plt.show()"
   ]
  },
  {
   "cell_type": "code",
   "execution_count": 146,
   "id": "2033ed85",
   "metadata": {
    "scrolled": false
   },
   "outputs": [
    {
     "name": "stdout",
     "output_type": "stream",
     "text": [
      "Accuracy: 0.7168621407984476\n",
      "Precision: 0.3269813225643614\n",
      "Recall: 0.36086350974930365\n"
     ]
    }
   ],
   "source": [
    "print(\"Accuracy:\", accuracy_score(y_test, y_pred))\n",
    "print(\"Precision:\", precision_score(y_test, y_pred))\n",
    "print(\"Recall:\", recall_score(y_test, y_pred))"
   ]
  },
  {
   "cell_type": "code",
   "execution_count": null,
   "id": "98863ec0",
   "metadata": {},
   "outputs": [],
   "source": []
  }
 ],
 "metadata": {
  "kernelspec": {
   "display_name": "Python 3 (ipykernel)",
   "language": "python",
   "name": "python3"
  },
  "language_info": {
   "codemirror_mode": {
    "name": "ipython",
    "version": 3
   },
   "file_extension": ".py",
   "mimetype": "text/x-python",
   "name": "python",
   "nbconvert_exporter": "python",
   "pygments_lexer": "ipython3",
   "version": "3.8.8"
  }
 },
 "nbformat": 4,
 "nbformat_minor": 5
}

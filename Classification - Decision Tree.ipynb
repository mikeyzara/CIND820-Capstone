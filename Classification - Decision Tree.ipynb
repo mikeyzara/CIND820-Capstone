{
 "cells": [
  {
   "cell_type": "markdown",
   "id": "9d4cb61f",
   "metadata": {},
   "source": [
    "### Import Dataset and Organize the Dataframe"
   ]
  },
  {
   "cell_type": "code",
   "execution_count": 1,
   "id": "49a344b9",
   "metadata": {},
   "outputs": [],
   "source": [
    "# Let's import the necessary libraries\n",
    "import pandas as pd\n",
    "\n",
    "# Read in the dataset \n",
    "df = pd.read_csv('wgm_full_wave2_public_file_final_csv.csv',na_values=\" \", keep_default_na=False,low_memory=False)\n",
    "\n",
    "# Organizing the dataset:\n",
    "\n",
    "# DEMOGRAPHIC INFORMATION\n",
    "# Copy the original dataframe and select the columns associated with demograph information. \n",
    "#  These demographic factors are categorical variables; convert the datatype to 'categorical'\n",
    "demographicInfo = df.copy()[['Global11Regions','Gender', 'Age','age_var3',\n",
    "                             'Education','Household_Income','wbi',\n",
    "                             'Subjective_Income','EMP_2010']].astype('category')\n",
    "\n",
    "# First we add a new level/category of '99.0' to the feature:\n",
    "demographicInfo['Household_Income'] = demographicInfo['Household_Income'].cat.add_categories(99.0)\n",
    "demographicInfo['EMP_2010'] = demographicInfo['EMP_2010'].cat.add_categories(99.0)\n",
    "\n",
    "# Impute the NaN values with '99.0' ('Don't Know/Refused')\n",
    "demographicInfo['Household_Income'].fillna(99.0, inplace=True)\n",
    "demographicInfo['EMP_2010'].fillna(99.0, inplace=True)\n",
    "\n",
    "\n",
    "# QUESTIONNAIRE DATA\n",
    "# Perception of science:\n",
    "sciPercep = df.copy().iloc[:,6:28].astype('category')\n",
    "sciPercep['W3'] = sciPercep['W3'].cat.add_categories(99.0) # Add a new level to 'W3'\n",
    "sciPercep['W3'].fillna(99.0, inplace=True) # Impute the NaN values with the new level\n",
    "\n",
    "# Impute the NaN entries with the values stated above\n",
    "sciPercep['W4'].fillna(99.0, inplace=True)\n",
    "sciPercep['W5B'].fillna(99.0, inplace=True)\n",
    "sciPercep['W5D'].fillna(99.0, inplace=True)\n",
    "sciPercep['W7C'].fillna(99.0, inplace=True)\n",
    "\n",
    "\n",
    "# Perceptions about Climate Change\n",
    "climateChange = df.copy().iloc[:,28:31].astype('category')\n",
    "# Impute the NaN entries with the values stated above\n",
    "climateChange['W14'].fillna(99.0, inplace=True)\n",
    "climateChange['W15'].fillna(99.0, inplace=True)\n",
    "\n",
    "\n",
    "# Perceptions of science with respect to COVID-19 pandemic\n",
    "covidPercep = df.copy().iloc[:,31:38].astype('category')\n",
    "# Impute the NaN entries with the values stated above\n",
    "covidPercep['W15_1A'].fillna(99.0, inplace=True)\n",
    "covidPercep['W15_1B'].fillna(99.0, inplace=True)\n",
    "covidPercep['W15_1C'].fillna(99.0, inplace=True)\n",
    "covidPercep['W15_1D'].fillna(99.0, inplace=True)\n",
    "covidPercep['W15_1E'].fillna(99.0, inplace=True)\n",
    "covidPercep['W15_2A'].fillna(99.0, inplace=True)\n",
    "covidPercep['W15_2B'].fillna(99.0, inplace=True)\n",
    "\n",
    "\n",
    "# Perceptions about physical and mental health:\n",
    "sciHealth = df.copy().iloc[:,38:67].astype('category')\n",
    "# Impute the NaN entries with the values stated above for MH3A to MH5 + MH7A\n",
    "sciHealth['MH3A'].fillna(99.0, inplace=True)\n",
    "sciHealth['MH3B'].fillna(99.0, inplace=True)\n",
    "sciHealth['MH3C'].fillna(99.0, inplace=True)\n",
    "sciHealth['MH3D'].fillna(99.0, inplace=True)\n",
    "sciHealth['MH4A'].fillna(99.0, inplace=True)\n",
    "sciHealth['MH4B'].fillna(99.0, inplace=True)\n",
    "sciHealth['MH5'].fillna(99.0, inplace=True)\n",
    "sciHealth['MH7A'].fillna(99.0, inplace=True)\n",
    "# Impute the NaN entries with the values stated above for MH1 and MH6\n",
    "sciHealth['MH1'].fillna(99, inplace=True)\n",
    "sciHealth['MH6'].fillna(99, inplace=True)\n",
    "\n",
    "\n",
    "# Social Media Usage\n",
    "socialMedia = df.copy().iloc[:,67:70].astype('category')\n",
    "# Impute the NaN values\n",
    "socialMedia['W28'].fillna(99.0, inplace=True)\n",
    "socialMedia['W29'].fillna(99.0, inplace=True)\n",
    "\n",
    "\n",
    "# Religion\n",
    "religion = df.copy()['W30'].astype('category')\n",
    "\n",
    "# Impute missing values\n",
    "religion.fillna(99.0, inplace=True)"
   ]
  },
  {
   "cell_type": "markdown",
   "id": "8604d19e",
   "metadata": {},
   "source": [
    "Generating the final dataset used for Classification"
   ]
  },
  {
   "cell_type": "code",
   "execution_count": 2,
   "id": "26e3c9ef",
   "metadata": {},
   "outputs": [
    {
     "data": {
      "text/plain": [
       "(119088, 54)"
      ]
     },
     "execution_count": 2,
     "metadata": {},
     "output_type": "execute_result"
    }
   ],
   "source": [
    "questionDataset = pd.concat([sciPercep, climateChange, covidPercep,sciHealth.iloc[:,0:10], socialMedia, religion.to_frame()],axis=1)\n",
    "# Remove 'Age' and keep 'age_var3'\n",
    "demographicInfo = demographicInfo.drop('Age',axis=1)\n",
    "\n",
    "dataset = pd.concat([demographicInfo, questionDataset],axis=1)\n",
    "dataset.shape # 119 088 entries and 54 columns/features"
   ]
  },
  {
   "cell_type": "code",
   "execution_count": 3,
   "id": "1d4abf68",
   "metadata": {},
   "outputs": [
    {
     "name": "stdout",
     "output_type": "stream",
     "text": [
      "<class 'pandas.core.frame.DataFrame'>\n",
      "Int64Index: 116810 entries, 0 to 119087\n",
      "Data columns (total 54 columns):\n",
      " #   Column             Non-Null Count   Dtype   \n",
      "---  ------             --------------   -----   \n",
      " 0   Global11Regions    116810 non-null  category\n",
      " 1   Gender             116810 non-null  category\n",
      " 2   age_var3           116810 non-null  category\n",
      " 3   Education          116810 non-null  category\n",
      " 4   Household_Income   116810 non-null  category\n",
      " 5   wbi                116810 non-null  category\n",
      " 6   Subjective_Income  116810 non-null  category\n",
      " 7   EMP_2010           116810 non-null  category\n",
      " 8   W1                 116810 non-null  category\n",
      " 9   W2                 116810 non-null  category\n",
      " 10  W3                 116810 non-null  category\n",
      " 11  W4                 116810 non-null  category\n",
      " 12  W5A                116810 non-null  category\n",
      " 13  W5B                116810 non-null  category\n",
      " 14  W5C                116810 non-null  category\n",
      " 15  W5D                116810 non-null  category\n",
      " 16  W5E                116810 non-null  category\n",
      " 17  W5F                116810 non-null  category\n",
      " 18  W5G                116810 non-null  category\n",
      " 19  W6                 116810 non-null  category\n",
      " 20  W7A                116810 non-null  category\n",
      " 21  W7B                116810 non-null  category\n",
      " 22  W7C                116810 non-null  category\n",
      " 23  W8                 116810 non-null  category\n",
      " 24  W9                 116810 non-null  category\n",
      " 25  W10                116810 non-null  category\n",
      " 26  W11A               116810 non-null  category\n",
      " 27  W11B               116810 non-null  category\n",
      " 28  MH2A               116810 non-null  category\n",
      " 29  MH2B               116810 non-null  category\n",
      " 30  W13                116810 non-null  category\n",
      " 31  W14                116810 non-null  category\n",
      " 32  W15                116810 non-null  category\n",
      " 33  W15_1A             116810 non-null  category\n",
      " 34  W15_1B             116810 non-null  category\n",
      " 35  W15_1C             116810 non-null  category\n",
      " 36  W15_1D             116810 non-null  category\n",
      " 37  W15_1E             116810 non-null  category\n",
      " 38  W15_2A             116810 non-null  category\n",
      " 39  W15_2B             116810 non-null  category\n",
      " 40  MH1                116810 non-null  category\n",
      " 41  MH3A               116810 non-null  category\n",
      " 42  MH3B               116810 non-null  category\n",
      " 43  MH3C               116810 non-null  category\n",
      " 44  MH3D               116810 non-null  category\n",
      " 45  MH4A               116810 non-null  category\n",
      " 46  MH4B               116810 non-null  category\n",
      " 47  MH5                116810 non-null  category\n",
      " 48  MH6                116810 non-null  category\n",
      " 49  MH7A               116810 non-null  category\n",
      " 50  W27                116810 non-null  category\n",
      " 51  W28                116810 non-null  category\n",
      " 52  W29                116810 non-null  category\n",
      " 53  W30                116810 non-null  category\n",
      "dtypes: category(54)\n",
      "memory usage: 6.9 MB\n"
     ]
    }
   ],
   "source": [
    "dataset = dataset[(dataset['MH7A'] == 1.0) | (dataset['MH7A'] == 2.0)]\n",
    "dataset.info()"
   ]
  },
  {
   "cell_type": "markdown",
   "id": "52c5e5bb",
   "metadata": {},
   "source": [
    "### Classification"
   ]
  },
  {
   "cell_type": "code",
   "execution_count": 77,
   "id": "3081bc16",
   "metadata": {},
   "outputs": [],
   "source": [
    "import numpy as np\n",
    "import matplotlib.pyplot as plt\n",
    "from sklearn.model_selection import train_test_split, cross_validate\n",
    "from sklearn.tree import DecisionTreeClassifier\n",
    "from sklearn.metrics import make_scorer, accuracy_score, precision_score, recall_score, f1_score, matthews_corrcoef\n",
    "from sklearn.metrics import classification_report, confusion_matrix, ConfusionMatrixDisplay"
   ]
  },
  {
   "cell_type": "markdown",
   "id": "246c3f6d",
   "metadata": {},
   "source": [
    "Splitting the dataset into features and target/label:"
   ]
  },
  {
   "cell_type": "code",
   "execution_count": 5,
   "id": "249380ea",
   "metadata": {},
   "outputs": [
    {
     "data": {
      "text/plain": [
       "(116810,)"
      ]
     },
     "execution_count": 5,
     "metadata": {},
     "output_type": "execute_result"
    }
   ],
   "source": [
    "y = dataset['MH7A'] # The label: MH7A \n",
    "y.shape # 119 088 entries"
   ]
  },
  {
   "cell_type": "code",
   "execution_count": 6,
   "id": "bf1ed74f",
   "metadata": {},
   "outputs": [
    {
     "data": {
      "text/plain": [
       "(116810, 53)"
      ]
     },
     "execution_count": 6,
     "metadata": {},
     "output_type": "execute_result"
    }
   ],
   "source": [
    "X = dataset.drop(columns='MH7A') # The independent variables/features used for classification\n",
    "X.shape # 119 088 entries and 54 columns/features"
   ]
  },
  {
   "cell_type": "markdown",
   "id": "e2564375",
   "metadata": {},
   "source": [
    "Split the dataset into training/testing sets using a 70/30 split:"
   ]
  },
  {
   "cell_type": "code",
   "execution_count": 7,
   "id": "956429b8",
   "metadata": {},
   "outputs": [],
   "source": [
    "# 70% training and 30% test sets\n",
    "X_train, X_test, y_train, y_test = train_test_split(X,y, test_size=0.3, random_state=1)"
   ]
  },
  {
   "cell_type": "code",
   "execution_count": 8,
   "id": "b9306d71",
   "metadata": {},
   "outputs": [
    {
     "data": {
      "text/plain": [
       "(81767, 53)"
      ]
     },
     "execution_count": 8,
     "metadata": {},
     "output_type": "execute_result"
    }
   ],
   "source": [
    "X_train.shape"
   ]
  },
  {
   "cell_type": "code",
   "execution_count": 9,
   "id": "3ea012d3",
   "metadata": {
    "scrolled": true
   },
   "outputs": [
    {
     "data": {
      "text/plain": [
       "(35043, 53)"
      ]
     },
     "execution_count": 9,
     "metadata": {},
     "output_type": "execute_result"
    }
   ],
   "source": [
    "X_test.shape"
   ]
  },
  {
   "cell_type": "markdown",
   "id": "021dba24",
   "metadata": {},
   "source": [
    "### Feature Selection\n",
    "\n",
    "Based on the chi-squared test scores shown, let's set a threshold of 2000. Any features that have a score greater than 2000 will be included as a feature in future models."
   ]
  },
  {
   "cell_type": "code",
   "execution_count": 76,
   "id": "d80e4386",
   "metadata": {},
   "outputs": [
    {
     "name": "stdout",
     "output_type": "stream",
     "text": [
      "Feature 0: 895.456901\n",
      "Feature 1: 16.520788\n",
      "Feature 2: 429.357539\n",
      "Feature 3: 206.765457\n",
      "Feature 4: 846.724313\n",
      "Feature 5: 39.561801\n",
      "Feature 6: 711.372076\n",
      "Feature 7: 59.517958\n",
      "Feature 8: 78.933518\n",
      "Feature 9: 264.673228\n",
      "Feature 10: 802.682457\n",
      "Feature 11: 839.676847\n",
      "Feature 12: 149.290457\n",
      "Feature 13: 3299.105630\n",
      "Feature 14: 18.832843\n",
      "Feature 15: 8.387719\n",
      "Feature 16: 13.242311\n",
      "Feature 17: 1258.828622\n",
      "Feature 18: 830.888446\n",
      "Feature 19: 97.691066\n",
      "Feature 20: 767.574079\n",
      "Feature 21: 1735.630512\n",
      "Feature 22: 1669.939171\n",
      "Feature 23: 383.940229\n",
      "Feature 24: 974.274333\n",
      "Feature 25: 1157.068725\n",
      "Feature 26: 2035.334654\n",
      "Feature 27: 1943.582749\n",
      "Feature 28: 246.275184\n",
      "Feature 29: 3425.815844\n",
      "Feature 30: 429.198579\n",
      "Feature 31: 852.821591\n",
      "Feature 32: 1377.413362\n",
      "Feature 33: 11101.115091\n",
      "Feature 34: 14531.825730\n",
      "Feature 35: 15976.569347\n",
      "Feature 36: 14023.354942\n",
      "Feature 37: 12520.446012\n",
      "Feature 38: 9385.945667\n",
      "Feature 39: 9706.794076\n",
      "Feature 40: 133.277412\n",
      "Feature 41: 1182.391846\n",
      "Feature 42: 10621.389196\n",
      "Feature 43: 863.244491\n",
      "Feature 44: 2805.534329\n",
      "Feature 45: 19.770833\n",
      "Feature 46: 615.638949\n",
      "Feature 47: 13472.209089\n",
      "Feature 48: 3465.985256\n",
      "Feature 49: 7.493562\n",
      "Feature 50: 6075.855360\n",
      "Feature 51: 6631.270190\n",
      "Feature 52: 2498.600358\n"
     ]
    },
    {
     "data": {
      "image/png": "[encoded data removed]",
      "text/plain": [
       "<Figure size 432x288 with 1 Axes>"
      ]
     },
     "metadata": {
      "needs_background": "light"
     },
     "output_type": "display_data"
    }
   ],
   "source": [
    "from sklearn.feature_selection import SelectKBest\n",
    "from sklearn.feature_selection import chi2\n",
    "\n",
    "# # Using the Chi-Squared test to identify features that are NOT independent of the target variable/label\n",
    "fs = SelectKBest(score_func=chi2, k='all')\n",
    "fs.fit(X_train, y_train)\n",
    "X_train_fs = fs.transform(X_train)\n",
    "X_test_fs = fs.transform(X_test)\n",
    "\n",
    "# what are scores for the features\n",
    "for i in range(len(fs.scores_)):\n",
    " print('Feature %d: %f' % (i, fs.scores_[i]))\n",
    "# plot the scores\n",
    "plt.bar([i for i in range(len(fs.scores_))], fs.scores_)\n",
    "plt.title('Feature Selection: Chi-Squared Test')\n",
    "plt.ylabel('Chi-Squared Statistic')\n",
    "plt.xlabel('Feature')\n",
    "plt.show()"
   ]
  },
  {
   "cell_type": "code",
   "execution_count": 86,
   "id": "d377c811",
   "metadata": {},
   "outputs": [],
   "source": [
    "selector = SelectKBest(score_func=chi2, k=17)\n",
    "selector.fit(X_train, y_train)\n",
    "# Get columns to keep and create new dataframe with those only\n",
    "cols_idxs = selector.get_support(indices=True)\n",
    "X_fs = X_train.iloc[:,cols_idxs]"
   ]
  },
  {
   "cell_type": "code",
   "execution_count": 87,
   "id": "138d26fa",
   "metadata": {
    "scrolled": true
   },
   "outputs": [
    {
     "data": {
      "text/html": [
       "<div>\n",
       "<style scoped>\n",
       "    .dataframe tbody tr th:only-of-type {\n",
       "        vertical-align: middle;\n",
       "    }\n",
       "\n",
       "    .dataframe tbody tr th {\n",
       "        vertical-align: top;\n",
       "    }\n",
       "\n",
       "    .dataframe thead th {\n",
       "        text-align: right;\n",
       "    }\n",
       "</style>\n",
       "<table border=\"1\" class=\"dataframe\">\n",
       "  <thead>\n",
       "    <tr style=\"text-align: right;\">\n",
       "      <th></th>\n",
       "      <th>W5B</th>\n",
       "      <th>W11A</th>\n",
       "      <th>MH2B</th>\n",
       "      <th>W15_1A</th>\n",
       "      <th>W15_1B</th>\n",
       "      <th>W15_1C</th>\n",
       "      <th>W15_1D</th>\n",
       "      <th>W15_1E</th>\n",
       "      <th>W15_2A</th>\n",
       "      <th>W15_2B</th>\n",
       "      <th>MH3B</th>\n",
       "      <th>MH3D</th>\n",
       "      <th>MH5</th>\n",
       "      <th>MH6</th>\n",
       "      <th>W28</th>\n",
       "      <th>W29</th>\n",
       "      <th>W30</th>\n",
       "    </tr>\n",
       "  </thead>\n",
       "  <tbody>\n",
       "    <tr>\n",
       "      <th>43560</th>\n",
       "      <td>2.0</td>\n",
       "      <td>1</td>\n",
       "      <td>2</td>\n",
       "      <td>2.0</td>\n",
       "      <td>2.0</td>\n",
       "      <td>1.0</td>\n",
       "      <td>1.0</td>\n",
       "      <td>1.0</td>\n",
       "      <td>1.0</td>\n",
       "      <td>2.0</td>\n",
       "      <td>1.0</td>\n",
       "      <td>1.0</td>\n",
       "      <td>3.0</td>\n",
       "      <td>99</td>\n",
       "      <td>99.0</td>\n",
       "      <td>99.0</td>\n",
       "      <td>1.0</td>\n",
       "    </tr>\n",
       "    <tr>\n",
       "      <th>62908</th>\n",
       "      <td>4.0</td>\n",
       "      <td>1</td>\n",
       "      <td>99</td>\n",
       "      <td>4.0</td>\n",
       "      <td>3.0</td>\n",
       "      <td>1.0</td>\n",
       "      <td>1.0</td>\n",
       "      <td>99.0</td>\n",
       "      <td>3.0</td>\n",
       "      <td>1.0</td>\n",
       "      <td>3.0</td>\n",
       "      <td>99.0</td>\n",
       "      <td>1.0</td>\n",
       "      <td>2</td>\n",
       "      <td>3.0</td>\n",
       "      <td>3.0</td>\n",
       "      <td>3.0</td>\n",
       "    </tr>\n",
       "    <tr>\n",
       "      <th>34789</th>\n",
       "      <td>2.0</td>\n",
       "      <td>1</td>\n",
       "      <td>2</td>\n",
       "      <td>2.0</td>\n",
       "      <td>2.0</td>\n",
       "      <td>2.0</td>\n",
       "      <td>1.0</td>\n",
       "      <td>2.0</td>\n",
       "      <td>2.0</td>\n",
       "      <td>2.0</td>\n",
       "      <td>1.0</td>\n",
       "      <td>2.0</td>\n",
       "      <td>2.0</td>\n",
       "      <td>2</td>\n",
       "      <td>99.0</td>\n",
       "      <td>99.0</td>\n",
       "      <td>2.0</td>\n",
       "    </tr>\n",
       "    <tr>\n",
       "      <th>55266</th>\n",
       "      <td>1.0</td>\n",
       "      <td>2</td>\n",
       "      <td>1</td>\n",
       "      <td>1.0</td>\n",
       "      <td>1.0</td>\n",
       "      <td>1.0</td>\n",
       "      <td>1.0</td>\n",
       "      <td>1.0</td>\n",
       "      <td>2.0</td>\n",
       "      <td>1.0</td>\n",
       "      <td>1.0</td>\n",
       "      <td>1.0</td>\n",
       "      <td>1.0</td>\n",
       "      <td>1</td>\n",
       "      <td>1.0</td>\n",
       "      <td>1.0</td>\n",
       "      <td>1.0</td>\n",
       "    </tr>\n",
       "    <tr>\n",
       "      <th>75584</th>\n",
       "      <td>99.0</td>\n",
       "      <td>1</td>\n",
       "      <td>3</td>\n",
       "      <td>1.0</td>\n",
       "      <td>2.0</td>\n",
       "      <td>1.0</td>\n",
       "      <td>1.0</td>\n",
       "      <td>1.0</td>\n",
       "      <td>1.0</td>\n",
       "      <td>3.0</td>\n",
       "      <td>1.0</td>\n",
       "      <td>1.0</td>\n",
       "      <td>1.0</td>\n",
       "      <td>2</td>\n",
       "      <td>3.0</td>\n",
       "      <td>3.0</td>\n",
       "      <td>3.0</td>\n",
       "    </tr>\n",
       "    <tr>\n",
       "      <th>...</th>\n",
       "      <td>...</td>\n",
       "      <td>...</td>\n",
       "      <td>...</td>\n",
       "      <td>...</td>\n",
       "      <td>...</td>\n",
       "      <td>...</td>\n",
       "      <td>...</td>\n",
       "      <td>...</td>\n",
       "      <td>...</td>\n",
       "      <td>...</td>\n",
       "      <td>...</td>\n",
       "      <td>...</td>\n",
       "      <td>...</td>\n",
       "      <td>...</td>\n",
       "      <td>...</td>\n",
       "      <td>...</td>\n",
       "      <td>...</td>\n",
       "    </tr>\n",
       "    <tr>\n",
       "      <th>50736</th>\n",
       "      <td>1.0</td>\n",
       "      <td>3</td>\n",
       "      <td>1</td>\n",
       "      <td>1.0</td>\n",
       "      <td>1.0</td>\n",
       "      <td>1.0</td>\n",
       "      <td>1.0</td>\n",
       "      <td>1.0</td>\n",
       "      <td>1.0</td>\n",
       "      <td>1.0</td>\n",
       "      <td>1.0</td>\n",
       "      <td>2.0</td>\n",
       "      <td>2.0</td>\n",
       "      <td>2</td>\n",
       "      <td>3.0</td>\n",
       "      <td>3.0</td>\n",
       "      <td>4.0</td>\n",
       "    </tr>\n",
       "    <tr>\n",
       "      <th>99189</th>\n",
       "      <td>99.0</td>\n",
       "      <td>1</td>\n",
       "      <td>4</td>\n",
       "      <td>99.0</td>\n",
       "      <td>1.0</td>\n",
       "      <td>2.0</td>\n",
       "      <td>2.0</td>\n",
       "      <td>99.0</td>\n",
       "      <td>1.0</td>\n",
       "      <td>1.0</td>\n",
       "      <td>2.0</td>\n",
       "      <td>3.0</td>\n",
       "      <td>1.0</td>\n",
       "      <td>1</td>\n",
       "      <td>1.0</td>\n",
       "      <td>2.0</td>\n",
       "      <td>1.0</td>\n",
       "    </tr>\n",
       "    <tr>\n",
       "      <th>5214</th>\n",
       "      <td>3.0</td>\n",
       "      <td>1</td>\n",
       "      <td>1</td>\n",
       "      <td>3.0</td>\n",
       "      <td>1.0</td>\n",
       "      <td>2.0</td>\n",
       "      <td>2.0</td>\n",
       "      <td>2.0</td>\n",
       "      <td>1.0</td>\n",
       "      <td>1.0</td>\n",
       "      <td>2.0</td>\n",
       "      <td>1.0</td>\n",
       "      <td>2.0</td>\n",
       "      <td>1</td>\n",
       "      <td>3.0</td>\n",
       "      <td>2.0</td>\n",
       "      <td>2.0</td>\n",
       "    </tr>\n",
       "    <tr>\n",
       "      <th>78640</th>\n",
       "      <td>3.0</td>\n",
       "      <td>1</td>\n",
       "      <td>3</td>\n",
       "      <td>2.0</td>\n",
       "      <td>2.0</td>\n",
       "      <td>1.0</td>\n",
       "      <td>1.0</td>\n",
       "      <td>3.0</td>\n",
       "      <td>3.0</td>\n",
       "      <td>2.0</td>\n",
       "      <td>3.0</td>\n",
       "      <td>1.0</td>\n",
       "      <td>3.0</td>\n",
       "      <td>2</td>\n",
       "      <td>2.0</td>\n",
       "      <td>3.0</td>\n",
       "      <td>1.0</td>\n",
       "    </tr>\n",
       "    <tr>\n",
       "      <th>99685</th>\n",
       "      <td>4.0</td>\n",
       "      <td>2</td>\n",
       "      <td>2</td>\n",
       "      <td>1.0</td>\n",
       "      <td>1.0</td>\n",
       "      <td>1.0</td>\n",
       "      <td>1.0</td>\n",
       "      <td>4.0</td>\n",
       "      <td>1.0</td>\n",
       "      <td>2.0</td>\n",
       "      <td>1.0</td>\n",
       "      <td>1.0</td>\n",
       "      <td>2.0</td>\n",
       "      <td>1</td>\n",
       "      <td>3.0</td>\n",
       "      <td>1.0</td>\n",
       "      <td>2.0</td>\n",
       "    </tr>\n",
       "  </tbody>\n",
       "</table>\n",
       "<p>81767 rows × 17 columns</p>\n",
       "</div>"
      ],
      "text/plain": [
       "        W5B W11A MH2B W15_1A W15_1B W15_1C W15_1D W15_1E W15_2A W15_2B MH3B  \\\n",
       "43560   2.0    1    2    2.0    2.0    1.0    1.0    1.0    1.0    2.0  1.0   \n",
       "62908   4.0    1   99    4.0    3.0    1.0    1.0   99.0    3.0    1.0  3.0   \n",
       "34789   2.0    1    2    2.0    2.0    2.0    1.0    2.0    2.0    2.0  1.0   \n",
       "55266   1.0    2    1    1.0    1.0    1.0    1.0    1.0    2.0    1.0  1.0   \n",
       "75584  99.0    1    3    1.0    2.0    1.0    1.0    1.0    1.0    3.0  1.0   \n",
       "...     ...  ...  ...    ...    ...    ...    ...    ...    ...    ...  ...   \n",
       "50736   1.0    3    1    1.0    1.0    1.0    1.0    1.0    1.0    1.0  1.0   \n",
       "99189  99.0    1    4   99.0    1.0    2.0    2.0   99.0    1.0    1.0  2.0   \n",
       "5214    3.0    1    1    3.0    1.0    2.0    2.0    2.0    1.0    1.0  2.0   \n",
       "78640   3.0    1    3    2.0    2.0    1.0    1.0    3.0    3.0    2.0  3.0   \n",
       "99685   4.0    2    2    1.0    1.0    1.0    1.0    4.0    1.0    2.0  1.0   \n",
       "\n",
       "       MH3D  MH5 MH6   W28   W29  W30  \n",
       "43560   1.0  3.0  99  99.0  99.0  1.0  \n",
       "62908  99.0  1.0   2   3.0   3.0  3.0  \n",
       "34789   2.0  2.0   2  99.0  99.0  2.0  \n",
       "55266   1.0  1.0   1   1.0   1.0  1.0  \n",
       "75584   1.0  1.0   2   3.0   3.0  3.0  \n",
       "...     ...  ...  ..   ...   ...  ...  \n",
       "50736   2.0  2.0   2   3.0   3.0  4.0  \n",
       "99189   3.0  1.0   1   1.0   2.0  1.0  \n",
       "5214    1.0  2.0   1   3.0   2.0  2.0  \n",
       "78640   1.0  3.0   2   2.0   3.0  1.0  \n",
       "99685   1.0  2.0   1   3.0   1.0  2.0  \n",
       "\n",
       "[81767 rows x 17 columns]"
      ]
     },
     "execution_count": 87,
     "metadata": {},
     "output_type": "execute_result"
    }
   ],
   "source": [
    "X_fs"
   ]
  },
  {
   "cell_type": "code",
   "execution_count": 88,
   "id": "ab71bb2b",
   "metadata": {
    "scrolled": true
   },
   "outputs": [
    {
     "data": {
      "text/html": [
       "<div>\n",
       "<style scoped>\n",
       "    .dataframe tbody tr th:only-of-type {\n",
       "        vertical-align: middle;\n",
       "    }\n",
       "\n",
       "    .dataframe tbody tr th {\n",
       "        vertical-align: top;\n",
       "    }\n",
       "\n",
       "    .dataframe thead th {\n",
       "        text-align: right;\n",
       "    }\n",
       "</style>\n",
       "<table border=\"1\" class=\"dataframe\">\n",
       "  <thead>\n",
       "    <tr style=\"text-align: right;\">\n",
       "      <th></th>\n",
       "      <th>Gender</th>\n",
       "      <th>W5B</th>\n",
       "      <th>W11A</th>\n",
       "      <th>MH2B</th>\n",
       "      <th>W15_1A</th>\n",
       "      <th>W15_1B</th>\n",
       "      <th>W15_1C</th>\n",
       "      <th>W15_1D</th>\n",
       "      <th>W15_1E</th>\n",
       "      <th>W15_2A</th>\n",
       "      <th>W15_2B</th>\n",
       "      <th>MH3B</th>\n",
       "      <th>MH3D</th>\n",
       "      <th>MH5</th>\n",
       "      <th>MH6</th>\n",
       "      <th>W28</th>\n",
       "      <th>W29</th>\n",
       "      <th>W30</th>\n",
       "    </tr>\n",
       "  </thead>\n",
       "  <tbody>\n",
       "    <tr>\n",
       "      <th>43560</th>\n",
       "      <td>2</td>\n",
       "      <td>2.0</td>\n",
       "      <td>1</td>\n",
       "      <td>2</td>\n",
       "      <td>2.0</td>\n",
       "      <td>2.0</td>\n",
       "      <td>1.0</td>\n",
       "      <td>1.0</td>\n",
       "      <td>1.0</td>\n",
       "      <td>1.0</td>\n",
       "      <td>2.0</td>\n",
       "      <td>1.0</td>\n",
       "      <td>1.0</td>\n",
       "      <td>3.0</td>\n",
       "      <td>99</td>\n",
       "      <td>99.0</td>\n",
       "      <td>99.0</td>\n",
       "      <td>1.0</td>\n",
       "    </tr>\n",
       "    <tr>\n",
       "      <th>62908</th>\n",
       "      <td>1</td>\n",
       "      <td>4.0</td>\n",
       "      <td>1</td>\n",
       "      <td>99</td>\n",
       "      <td>4.0</td>\n",
       "      <td>3.0</td>\n",
       "      <td>1.0</td>\n",
       "      <td>1.0</td>\n",
       "      <td>99.0</td>\n",
       "      <td>3.0</td>\n",
       "      <td>1.0</td>\n",
       "      <td>3.0</td>\n",
       "      <td>99.0</td>\n",
       "      <td>1.0</td>\n",
       "      <td>2</td>\n",
       "      <td>3.0</td>\n",
       "      <td>3.0</td>\n",
       "      <td>3.0</td>\n",
       "    </tr>\n",
       "    <tr>\n",
       "      <th>34789</th>\n",
       "      <td>2</td>\n",
       "      <td>2.0</td>\n",
       "      <td>1</td>\n",
       "      <td>2</td>\n",
       "      <td>2.0</td>\n",
       "      <td>2.0</td>\n",
       "      <td>2.0</td>\n",
       "      <td>1.0</td>\n",
       "      <td>2.0</td>\n",
       "      <td>2.0</td>\n",
       "      <td>2.0</td>\n",
       "      <td>1.0</td>\n",
       "      <td>2.0</td>\n",
       "      <td>2.0</td>\n",
       "      <td>2</td>\n",
       "      <td>99.0</td>\n",
       "      <td>99.0</td>\n",
       "      <td>2.0</td>\n",
       "    </tr>\n",
       "    <tr>\n",
       "      <th>55266</th>\n",
       "      <td>2</td>\n",
       "      <td>1.0</td>\n",
       "      <td>2</td>\n",
       "      <td>1</td>\n",
       "      <td>1.0</td>\n",
       "      <td>1.0</td>\n",
       "      <td>1.0</td>\n",
       "      <td>1.0</td>\n",
       "      <td>1.0</td>\n",
       "      <td>2.0</td>\n",
       "      <td>1.0</td>\n",
       "      <td>1.0</td>\n",
       "      <td>1.0</td>\n",
       "      <td>1.0</td>\n",
       "      <td>1</td>\n",
       "      <td>1.0</td>\n",
       "      <td>1.0</td>\n",
       "      <td>1.0</td>\n",
       "    </tr>\n",
       "    <tr>\n",
       "      <th>75584</th>\n",
       "      <td>2</td>\n",
       "      <td>99.0</td>\n",
       "      <td>1</td>\n",
       "      <td>3</td>\n",
       "      <td>1.0</td>\n",
       "      <td>2.0</td>\n",
       "      <td>1.0</td>\n",
       "      <td>1.0</td>\n",
       "      <td>1.0</td>\n",
       "      <td>1.0</td>\n",
       "      <td>3.0</td>\n",
       "      <td>1.0</td>\n",
       "      <td>1.0</td>\n",
       "      <td>1.0</td>\n",
       "      <td>2</td>\n",
       "      <td>3.0</td>\n",
       "      <td>3.0</td>\n",
       "      <td>3.0</td>\n",
       "    </tr>\n",
       "    <tr>\n",
       "      <th>...</th>\n",
       "      <td>...</td>\n",
       "      <td>...</td>\n",
       "      <td>...</td>\n",
       "      <td>...</td>\n",
       "      <td>...</td>\n",
       "      <td>...</td>\n",
       "      <td>...</td>\n",
       "      <td>...</td>\n",
       "      <td>...</td>\n",
       "      <td>...</td>\n",
       "      <td>...</td>\n",
       "      <td>...</td>\n",
       "      <td>...</td>\n",
       "      <td>...</td>\n",
       "      <td>...</td>\n",
       "      <td>...</td>\n",
       "      <td>...</td>\n",
       "      <td>...</td>\n",
       "    </tr>\n",
       "    <tr>\n",
       "      <th>50736</th>\n",
       "      <td>2</td>\n",
       "      <td>1.0</td>\n",
       "      <td>3</td>\n",
       "      <td>1</td>\n",
       "      <td>1.0</td>\n",
       "      <td>1.0</td>\n",
       "      <td>1.0</td>\n",
       "      <td>1.0</td>\n",
       "      <td>1.0</td>\n",
       "      <td>1.0</td>\n",
       "      <td>1.0</td>\n",
       "      <td>1.0</td>\n",
       "      <td>2.0</td>\n",
       "      <td>2.0</td>\n",
       "      <td>2</td>\n",
       "      <td>3.0</td>\n",
       "      <td>3.0</td>\n",
       "      <td>4.0</td>\n",
       "    </tr>\n",
       "    <tr>\n",
       "      <th>99189</th>\n",
       "      <td>1</td>\n",
       "      <td>99.0</td>\n",
       "      <td>1</td>\n",
       "      <td>4</td>\n",
       "      <td>99.0</td>\n",
       "      <td>1.0</td>\n",
       "      <td>2.0</td>\n",
       "      <td>2.0</td>\n",
       "      <td>99.0</td>\n",
       "      <td>1.0</td>\n",
       "      <td>1.0</td>\n",
       "      <td>2.0</td>\n",
       "      <td>3.0</td>\n",
       "      <td>1.0</td>\n",
       "      <td>1</td>\n",
       "      <td>1.0</td>\n",
       "      <td>2.0</td>\n",
       "      <td>1.0</td>\n",
       "    </tr>\n",
       "    <tr>\n",
       "      <th>5214</th>\n",
       "      <td>2</td>\n",
       "      <td>3.0</td>\n",
       "      <td>1</td>\n",
       "      <td>1</td>\n",
       "      <td>3.0</td>\n",
       "      <td>1.0</td>\n",
       "      <td>2.0</td>\n",
       "      <td>2.0</td>\n",
       "      <td>2.0</td>\n",
       "      <td>1.0</td>\n",
       "      <td>1.0</td>\n",
       "      <td>2.0</td>\n",
       "      <td>1.0</td>\n",
       "      <td>2.0</td>\n",
       "      <td>1</td>\n",
       "      <td>3.0</td>\n",
       "      <td>2.0</td>\n",
       "      <td>2.0</td>\n",
       "    </tr>\n",
       "    <tr>\n",
       "      <th>78640</th>\n",
       "      <td>2</td>\n",
       "      <td>3.0</td>\n",
       "      <td>1</td>\n",
       "      <td>3</td>\n",
       "      <td>2.0</td>\n",
       "      <td>2.0</td>\n",
       "      <td>1.0</td>\n",
       "      <td>1.0</td>\n",
       "      <td>3.0</td>\n",
       "      <td>3.0</td>\n",
       "      <td>2.0</td>\n",
       "      <td>3.0</td>\n",
       "      <td>1.0</td>\n",
       "      <td>3.0</td>\n",
       "      <td>2</td>\n",
       "      <td>2.0</td>\n",
       "      <td>3.0</td>\n",
       "      <td>1.0</td>\n",
       "    </tr>\n",
       "    <tr>\n",
       "      <th>99685</th>\n",
       "      <td>2</td>\n",
       "      <td>4.0</td>\n",
       "      <td>2</td>\n",
       "      <td>2</td>\n",
       "      <td>1.0</td>\n",
       "      <td>1.0</td>\n",
       "      <td>1.0</td>\n",
       "      <td>1.0</td>\n",
       "      <td>4.0</td>\n",
       "      <td>1.0</td>\n",
       "      <td>2.0</td>\n",
       "      <td>1.0</td>\n",
       "      <td>1.0</td>\n",
       "      <td>2.0</td>\n",
       "      <td>1</td>\n",
       "      <td>3.0</td>\n",
       "      <td>1.0</td>\n",
       "      <td>2.0</td>\n",
       "    </tr>\n",
       "  </tbody>\n",
       "</table>\n",
       "<p>81767 rows × 18 columns</p>\n",
       "</div>"
      ],
      "text/plain": [
       "      Gender   W5B W11A MH2B W15_1A W15_1B W15_1C W15_1D W15_1E W15_2A W15_2B  \\\n",
       "43560      2   2.0    1    2    2.0    2.0    1.0    1.0    1.0    1.0    2.0   \n",
       "62908      1   4.0    1   99    4.0    3.0    1.0    1.0   99.0    3.0    1.0   \n",
       "34789      2   2.0    1    2    2.0    2.0    2.0    1.0    2.0    2.0    2.0   \n",
       "55266      2   1.0    2    1    1.0    1.0    1.0    1.0    1.0    2.0    1.0   \n",
       "75584      2  99.0    1    3    1.0    2.0    1.0    1.0    1.0    1.0    3.0   \n",
       "...      ...   ...  ...  ...    ...    ...    ...    ...    ...    ...    ...   \n",
       "50736      2   1.0    3    1    1.0    1.0    1.0    1.0    1.0    1.0    1.0   \n",
       "99189      1  99.0    1    4   99.0    1.0    2.0    2.0   99.0    1.0    1.0   \n",
       "5214       2   3.0    1    1    3.0    1.0    2.0    2.0    2.0    1.0    1.0   \n",
       "78640      2   3.0    1    3    2.0    2.0    1.0    1.0    3.0    3.0    2.0   \n",
       "99685      2   4.0    2    2    1.0    1.0    1.0    1.0    4.0    1.0    2.0   \n",
       "\n",
       "      MH3B  MH3D  MH5 MH6   W28   W29  W30  \n",
       "43560  1.0   1.0  3.0  99  99.0  99.0  1.0  \n",
       "62908  3.0  99.0  1.0   2   3.0   3.0  3.0  \n",
       "34789  1.0   2.0  2.0   2  99.0  99.0  2.0  \n",
       "55266  1.0   1.0  1.0   1   1.0   1.0  1.0  \n",
       "75584  1.0   1.0  1.0   2   3.0   3.0  3.0  \n",
       "...    ...   ...  ...  ..   ...   ...  ...  \n",
       "50736  1.0   2.0  2.0   2   3.0   3.0  4.0  \n",
       "99189  2.0   3.0  1.0   1   1.0   2.0  1.0  \n",
       "5214   2.0   1.0  2.0   1   3.0   2.0  2.0  \n",
       "78640  3.0   1.0  3.0   2   2.0   3.0  1.0  \n",
       "99685  1.0   1.0  2.0   1   3.0   1.0  2.0  \n",
       "\n",
       "[81767 rows x 18 columns]"
      ]
     },
     "execution_count": 88,
     "metadata": {},
     "output_type": "execute_result"
    }
   ],
   "source": [
    "# Let's add the demographic features into X_fs:\n",
    "X_train_fs = pd.concat([X_train.iloc[:,1], X_fs],axis=1)\n",
    "X_train_fs"
   ]
  },
  {
   "cell_type": "markdown",
   "id": "f71c04ab",
   "metadata": {},
   "source": [
    "Let's define some scoring metrics"
   ]
  },
  {
   "cell_type": "code",
   "execution_count": 20,
   "id": "bfe21cec",
   "metadata": {},
   "outputs": [],
   "source": [
    "# Define custom scoring metrics\n",
    "scoring = {\n",
    "    'accuracy': make_scorer(accuracy_score),\n",
    "    'precision': make_scorer(precision_score),\n",
    "    'recall': make_scorer(recall_score),\n",
    "    'f1_score': make_scorer(f1_score)\n",
    "}"
   ]
  },
  {
   "cell_type": "markdown",
   "id": "bf29fc4c",
   "metadata": {},
   "source": [
    "#### Baseline Classifier using Decision Tree\n",
    "- gini impurity measure\n",
    "- using all 53 features"
   ]
  },
  {
   "cell_type": "code",
   "execution_count": 78,
   "id": "820614ba",
   "metadata": {},
   "outputs": [
    {
     "name": "stdout",
     "output_type": "stream",
     "text": [
      "[[ 2598  4582]\n",
      " [ 5313 22550]]\n"
     ]
    }
   ],
   "source": [
    "# Create Decision Tree Classifier object\n",
    "clfDT = DecisionTreeClassifier(random_state=1)\n",
    "\n",
    "# Fit the model\n",
    "clfDT.fit(X_train, y_train)\n",
    "\n",
    "# Predicting labels for the Test Set\n",
    "y_pred = clfDT.predict(X_test)\n",
    "\n",
    "print(confusion_matrix(y_test, y_pred))\n",
    "\n",
    "# TN, FP\n",
    "# FN, TP\n",
    "## y_pred: Predicted labels\n",
    "## y_test: True Labels"
   ]
  },
  {
   "cell_type": "code",
   "execution_count": 79,
   "id": "39f8a552",
   "metadata": {},
   "outputs": [
    {
     "data": {
      "image/png": "[encoded data removed]",
      "text/plain": [
       "<Figure size 432x288 with 2 Axes>"
      ]
     },
     "metadata": {
      "needs_background": "light"
     },
     "output_type": "display_data"
    }
   ],
   "source": [
    "cm = confusion_matrix(y_test, y_pred, labels=clfDT.classes_)\n",
    "disp = ConfusionMatrixDisplay(confusion_matrix=cm,\n",
    "                              display_labels=clfDT.classes_)\n",
    "disp.plot()\n",
    "plt.show()"
   ]
  },
  {
   "cell_type": "code",
   "execution_count": 82,
   "id": "4e45c8af",
   "metadata": {},
   "outputs": [
    {
     "name": "stdout",
     "output_type": "stream",
     "text": [
      "Accuracy: 0.7176326227777302\n",
      "Precision: 0.32840348881304515\n",
      "Recall: 0.36183844011142063\n",
      "F1 Score: 0.3443111788483202\n",
      "MCC: 0.16523814459864605\n"
     ]
    }
   ],
   "source": [
    "print(\"Accuracy:\", accuracy_score(y_test, y_pred))\n",
    "print(\"Precision:\", precision_score(y_test, y_pred))\n",
    "print(\"Recall:\", recall_score(y_test, y_pred))\n",
    "print(\"F1 Score:\", f1_score(y_test, y_pred))\n",
    "print(\"MCC:\", matthews_corrcoef(y_test, y_pred))"
   ]
  },
  {
   "cell_type": "code",
   "execution_count": 83,
   "id": "8f439038",
   "metadata": {},
   "outputs": [
    {
     "name": "stdout",
     "output_type": "stream",
     "text": [
      "{'fit_time': array([1.18326211, 1.19925976, 1.15625978, 1.1592741 , 1.17124963,\n",
      "       1.16127563, 1.184268  , 1.19426966, 1.20927238, 1.17026782]), 'score_time': array([0.02196264, 0.02100515, 0.02000427, 0.01900434, 0.01900363,\n",
      "       0.02031946, 0.02100372, 0.02100372, 0.02000475, 0.01900411]), 'test_accuracy': array([0.72385961, 0.70820594, 0.70649382, 0.7239819 , 0.72165831,\n",
      "       0.72092454, 0.70673841, 0.71550881, 0.72284736, 0.72101272]), 'test_precision': array([0.34359806, 0.31365314, 0.30545062, 0.33926585, 0.34130781,\n",
      "       0.33370105, 0.30615551, 0.32654155, 0.34109367, 0.33551913]), 'test_recall': array([0.3787969 , 0.35437761, 0.33710542, 0.36331149, 0.38237046,\n",
      "       0.36033353, 0.3375    , 0.3627159 , 0.37522335, 0.36569387]), 'test_f1_score': array([0.36033994, 0.33277405, 0.3204983 , 0.35087719, 0.36067416,\n",
      "       0.3465063 , 0.32106455, 0.34367946, 0.35734543, 0.34995725])}\n"
     ]
    }
   ],
   "source": [
    "# Create Decision Tree Classifier object\n",
    "clfDT = DecisionTreeClassifier(random_state=1)\n",
    "\n",
    "# Perform 10-fold cross-validation with custom scoring metrics\n",
    "cv_results = cross_validate(clfDT, X_train, y_train, cv=10, scoring=scoring)\n",
    "\n",
    "# Print the results\n",
    "print(cv_results)"
   ]
  },
  {
   "cell_type": "code",
   "execution_count": 84,
   "id": "252e9301",
   "metadata": {},
   "outputs": [
    {
     "name": "stdout",
     "output_type": "stream",
     "text": [
      "Baseline Classifier F1-score\n",
      "Mean: 0.344371664180459\n",
      "Std: 0.01419611223293664\n"
     ]
    }
   ],
   "source": [
    "# 10-fold cross-validation\n",
    "print(\"Baseline Classifier F1-score\\nMean: {mean}\\nStd: {std}\".format(mean=np.mean(cv_results['test_f1_score']),\n",
    "                                                                      std=np.std(cv_results['test_f1_score'])))"
   ]
  },
  {
   "cell_type": "markdown",
   "id": "26f9823d",
   "metadata": {},
   "source": [
    "#### Classification using smaller Feature Set"
   ]
  },
  {
   "cell_type": "markdown",
   "id": "256c0853",
   "metadata": {},
   "source": [
    "First let's update X_test with the new features:"
   ]
  },
  {
   "cell_type": "code",
   "execution_count": 89,
   "id": "0eeaca59",
   "metadata": {},
   "outputs": [
    {
     "name": "stdout",
     "output_type": "stream",
     "text": [
      "<class 'pandas.core.frame.DataFrame'>\n",
      "Int64Index: 81767 entries, 43560 to 99685\n",
      "Data columns (total 18 columns):\n",
      " #   Column  Non-Null Count  Dtype   \n",
      "---  ------  --------------  -----   \n",
      " 0   Gender  81767 non-null  category\n",
      " 1   W5B     81767 non-null  category\n",
      " 2   W11A    81767 non-null  category\n",
      " 3   MH2B    81767 non-null  category\n",
      " 4   W15_1A  81767 non-null  category\n",
      " 5   W15_1B  81767 non-null  category\n",
      " 6   W15_1C  81767 non-null  category\n",
      " 7   W15_1D  81767 non-null  category\n",
      " 8   W15_1E  81767 non-null  category\n",
      " 9   W15_2A  81767 non-null  category\n",
      " 10  W15_2B  81767 non-null  category\n",
      " 11  MH3B    81767 non-null  category\n",
      " 12  MH3D    81767 non-null  category\n",
      " 13  MH5     81767 non-null  category\n",
      " 14  MH6     81767 non-null  category\n",
      " 15  W28     81767 non-null  category\n",
      " 16  W29     81767 non-null  category\n",
      " 17  W30     81767 non-null  category\n",
      "dtypes: category(18)\n",
      "memory usage: 2.0 MB\n"
     ]
    }
   ],
   "source": [
    "X_train_fs.info() # 18 features now being used"
   ]
  },
  {
   "cell_type": "code",
   "execution_count": 90,
   "id": "198a949e",
   "metadata": {},
   "outputs": [],
   "source": [
    "# Get columns to keep and create new dataframe with those only\n",
    "cols_idxs = selector.get_support(indices=True)\n",
    "X_test_fs = X_test.iloc[:,cols_idxs]\n",
    "\n",
    "# The testing set to be used\n",
    "X_test_fs = pd.concat([X_test.iloc[:,1],X_test_fs],axis=1)"
   ]
  },
  {
   "cell_type": "code",
   "execution_count": 91,
   "id": "c8f9810d",
   "metadata": {},
   "outputs": [
    {
     "data": {
      "text/plain": [
       "(35043, 18)"
      ]
     },
     "execution_count": 91,
     "metadata": {},
     "output_type": "execute_result"
    }
   ],
   "source": [
    "X_test_fs.shape"
   ]
  },
  {
   "cell_type": "markdown",
   "id": "d53635cf",
   "metadata": {},
   "source": [
    "#### 10-fold Cross-validation"
   ]
  },
  {
   "cell_type": "code",
   "execution_count": 92,
   "id": "20e227cc",
   "metadata": {},
   "outputs": [
    {
     "name": "stdout",
     "output_type": "stream",
     "text": [
      "{'fit_time': array([0.38009787, 0.3730824 , 0.41309309, 0.44009924, 0.38408566,\n",
      "       0.39008141, 0.37709045, 0.37909031, 0.38310409, 0.4120934 ]), 'score_time': array([0.01599789, 0.01499772, 0.01799822, 0.01601601, 0.01400828,\n",
      "       0.01501107, 0.01599836, 0.01699114, 0.01798749, 0.01500082]), 'test_accuracy': array([0.70013452, 0.69744405, 0.69353063, 0.70527088, 0.69866699,\n",
      "       0.70942889, 0.69988994, 0.70266634, 0.69508317, 0.70034247]), 'test_precision': array([0.30489652, 0.29457364, 0.28762198, 0.30568846, 0.29177719,\n",
      "       0.314923  , 0.29171152, 0.29697624, 0.29106776, 0.29656992]), 'test_recall': array([0.35973794, 0.33948779, 0.33353186, 0.34246575, 0.32757594,\n",
      "       0.35318642, 0.32261905, 0.32757594, 0.33770101, 0.33472305]), 'test_f1_score': array([0.33005464, 0.31543996, 0.30888031, 0.32303371, 0.30864198,\n",
      "       0.33295901, 0.30638779, 0.31152648, 0.31265509, 0.31449356])}\n"
     ]
    }
   ],
   "source": [
    "# Create Decision Tree Classifier object\n",
    "clfDT_fs = DecisionTreeClassifier(random_state=1)\n",
    "\n",
    "# Perform 10-fold cross-validation with custom scoring metrics\n",
    "cv_results = cross_validate(clfDT_fs, X_train_fs, y_train, cv=10, scoring=scoring)\n",
    "\n",
    "# Print the results\n",
    "print(cv_results)"
   ]
  },
  {
   "cell_type": "code",
   "execution_count": 93,
   "id": "b804ebce",
   "metadata": {},
   "outputs": [
    {
     "name": "stdout",
     "output_type": "stream",
     "text": [
      "Baseline Classifier F1-score\n",
      "Mean: 0.31640725253262963\n",
      "Std: 0.008740506632035176\n"
     ]
    }
   ],
   "source": [
    "# 10-fold cross-validation\n",
    "print(\"Baseline Classifier F1-score\\nMean: {mean}\\nStd: {std}\".format(mean=np.mean(cv_results['test_f1_score']),\n",
    "                                                                      std=np.std(cv_results['test_f1_score'])))"
   ]
  },
  {
   "cell_type": "markdown",
   "id": "8c8b7212",
   "metadata": {},
   "source": [
    "#### Using the Testing Set:"
   ]
  },
  {
   "cell_type": "code",
   "execution_count": 94,
   "id": "5c856dfc",
   "metadata": {},
   "outputs": [
    {
     "name": "stdout",
     "output_type": "stream",
     "text": [
      "[[ 2446  4734]\n",
      " [ 5598 22265]]\n"
     ]
    }
   ],
   "source": [
    "# Create Decision Tree Classifier object\n",
    "clfDT_fs = DecisionTreeClassifier(random_state=1)\n",
    "\n",
    "# Fit the model\n",
    "clfDT_fs.fit(X_train_fs, y_train)\n",
    "\n",
    "# Predicting labels for the Test Set\n",
    "y_pred_fs = clfDT_fs.predict(X_test_fs)\n",
    "\n",
    "print(confusion_matrix(y_test, y_pred_fs))\n",
    "\n",
    "# TN, FP\n",
    "# FN, TP\n",
    "## y_pred: Predicted labels\n",
    "## y_test: True Labels"
   ]
  },
  {
   "cell_type": "code",
   "execution_count": 95,
   "id": "842ef67e",
   "metadata": {},
   "outputs": [
    {
     "data": {
      "image/png": "[encoded data removed]",
      "text/plain": [
       "<Figure size 432x288 with 2 Axes>"
      ]
     },
     "metadata": {
      "needs_background": "light"
     },
     "output_type": "display_data"
    }
   ],
   "source": [
    "cm = confusion_matrix(y_test, y_pred_fs, labels=clfDT_fs.classes_)\n",
    "disp = ConfusionMatrixDisplay(confusion_matrix=cm,\n",
    "                              display_labels=clfDT_fs.classes_)\n",
    "disp.plot()\n",
    "plt.show()"
   ]
  },
  {
   "cell_type": "code",
   "execution_count": 96,
   "id": "d1f71de9",
   "metadata": {},
   "outputs": [
    {
     "name": "stdout",
     "output_type": "stream",
     "text": [
      "Accuracy: 0.7051622292611934\n",
      "Precision: 0.30407757334659374\n",
      "Recall: 0.3406685236768802\n",
      "F1 Score: 0.3213347346295323\n",
      "MCC: 0.16523814459864605\n"
     ]
    }
   ],
   "source": [
    "print(\"Accuracy:\", accuracy_score(y_test, y_pred_fs))\n",
    "print(\"Precision:\", precision_score(y_test, y_pred_fs))\n",
    "print(\"Recall:\", recall_score(y_test, y_pred_fs))\n",
    "print(\"F1 Score:\", f1_score(y_test, y_pred_fs))\n",
    "print(\"MCC:\", matthews_corrcoef(y_test, y_pred))"
   ]
  },
  {
   "cell_type": "code",
   "execution_count": null,
   "id": "a6145c81",
   "metadata": {},
   "outputs": [],
   "source": []
  },
  {
   "cell_type": "markdown",
   "id": "d2a40d14",
   "metadata": {},
   "source": [
    "### Balancing the dataset\n",
    "Let's apply an imbalance treatment by undersampling the majority class (i.e. 'No' to MH7A)"
   ]
  },
  {
   "cell_type": "code",
   "execution_count": 97,
   "id": "4dfdea56",
   "metadata": {},
   "outputs": [],
   "source": [
    "from imblearn.under_sampling import RandomUnderSampler"
   ]
  },
  {
   "cell_type": "code",
   "execution_count": 111,
   "id": "4ac6a39f",
   "metadata": {
    "scrolled": true
   },
   "outputs": [
    {
     "data": {
      "text/plain": [
       "Text(0, 0.5, 'Counts')"
      ]
     },
     "execution_count": 111,
     "metadata": {},
     "output_type": "execute_result"
    },
    {
     "data": {
      "image/png": "[encoded data removed]",
      "text/plain": [
       "<Figure size 432x288 with 1 Axes>"
      ]
     },
     "metadata": {
      "needs_background": "light"
     },
     "output_type": "display_data"
    }
   ],
   "source": [
    "y_train.value_counts().plot(kind='bar', title='Training Set: Class Imbalance');\n",
    "plt.xlabel('Label')\n",
    "plt.ylabel('Counts')"
   ]
  },
  {
   "cell_type": "code",
   "execution_count": 112,
   "id": "98e1efa4",
   "metadata": {},
   "outputs": [
    {
     "data": {
      "text/plain": [
       "Text(0, 0.5, 'Counts')"
      ]
     },
     "execution_count": 112,
     "metadata": {},
     "output_type": "execute_result"
    },
    {
     "data": {
      "image/png": "[encoded data removed]",
      "text/plain": [
       "<Figure size 432x288 with 1 Axes>"
      ]
     },
     "metadata": {
      "needs_background": "light"
     },
     "output_type": "display_data"
    }
   ],
   "source": [
    "rus = RandomUnderSampler(random_state=1)\n",
    "X_rus, y_rus = rus.fit_resample(X_train_fs, y_train)\n",
    "y_rus.value_counts().plot(kind='bar', title='Training Set: Undersampling Majority Class');\n",
    "plt.xlabel('Label')\n",
    "plt.ylabel('Counts')"
   ]
  },
  {
   "cell_type": "code",
   "execution_count": 100,
   "id": "31251816",
   "metadata": {},
   "outputs": [
    {
     "name": "stdout",
     "output_type": "stream",
     "text": [
      "Size of training Set with class imbalance: (81767, 18)\n",
      "Size of training Set with undersampling: (33582, 18)\n"
     ]
    }
   ],
   "source": [
    "print('Size of training Set with class imbalance:', X_train_fs.shape)\n",
    "print('Size of training Set with undersampling:', X_rus.shape)"
   ]
  },
  {
   "cell_type": "markdown",
   "id": "ab3e3e1e",
   "metadata": {},
   "source": [
    "#### 10 fold cross-validation"
   ]
  },
  {
   "cell_type": "code",
   "execution_count": 101,
   "id": "c59e28ea",
   "metadata": {},
   "outputs": [
    {
     "name": "stdout",
     "output_type": "stream",
     "text": [
      "{'fit_time': array([0.14504361, 0.14203215, 0.14203215, 0.13604903, 0.14302063,\n",
      "       0.13502359, 0.14502525, 0.14203763, 0.14303803, 0.13402295]), 'score_time': array([0.00899601, 0.00801349, 0.00798917, 0.00799632, 0.00800776,\n",
      "       0.00799727, 0.01100063, 0.01000237, 0.00800276, 0.00800371]), 'test_accuracy': array([0.5912474 , 0.59005656, 0.5807028 , 0.58755211, 0.58576534,\n",
      "       0.60750447, 0.58487195, 0.59201906, 0.57593806, 0.58933889]), 'test_precision': array([0.59331307, 0.58728324, 0.58108917, 0.58919903, 0.58470588,\n",
      "       0.60561732, 0.58377425, 0.59008746, 0.5753101 , 0.58917955]), 'test_recall': array([0.58095238, 0.6051221 , 0.57832043, 0.57832043, 0.59201906,\n",
      "       0.61643836, 0.59142347, 0.60273973, 0.58010721, 0.59023228]), 'test_f1_score': array([0.58706767, 0.59606923, 0.57970149, 0.58370905, 0.58833975,\n",
      "       0.61097993, 0.58757396, 0.59634649, 0.5776987 , 0.58970544])}\n"
     ]
    }
   ],
   "source": [
    "clfDT_rus = DecisionTreeClassifier()\n",
    "\n",
    "# Perform 10-fold cross-validation with custom scoring metrics\n",
    "cv_results = cross_validate(clfDT_rus, X_rus, y_rus, cv=10, scoring=scoring)\n",
    "\n",
    "# Print the results\n",
    "print(cv_results)"
   ]
  },
  {
   "cell_type": "code",
   "execution_count": 102,
   "id": "7d2d0f9b",
   "metadata": {},
   "outputs": [
    {
     "name": "stdout",
     "output_type": "stream",
     "text": [
      "Baseline Classifier F1-score\n",
      "Mean: 0.5897191710315406\n",
      "Std: 0.009114642953558733\n"
     ]
    }
   ],
   "source": [
    "# 10-fold cross-validation\n",
    "print(\"Baseline Classifier F1-score\\nMean: {mean}\\nStd: {std}\".format(mean=np.mean(cv_results['test_f1_score']),\n",
    "                                                                      std=np.std(cv_results['test_f1_score'])))"
   ]
  },
  {
   "cell_type": "code",
   "execution_count": 103,
   "id": "fb1ff5fb",
   "metadata": {},
   "outputs": [
    {
     "name": "stdout",
     "output_type": "stream",
     "text": [
      "Baseline Classifier Average Fit Time: 0.1407325029373169\n"
     ]
    }
   ],
   "source": [
    "# Fit Time\n",
    "print(\"Baseline Classifier Average Fit Time: {fit}\".format(fit=np.mean(cv_results['fit_time'])))"
   ]
  },
  {
   "cell_type": "markdown",
   "id": "852b5bcc",
   "metadata": {},
   "source": [
    "Using the Testing Set:"
   ]
  },
  {
   "cell_type": "code",
   "execution_count": 104,
   "id": "7dd78d43",
   "metadata": {},
   "outputs": [
    {
     "name": "stdout",
     "output_type": "stream",
     "text": [
      "[[ 4268  2912]\n",
      " [11361 16502]]\n"
     ]
    }
   ],
   "source": [
    "# Create Decision Tree Classifier object\n",
    "clfDT_rus = DecisionTreeClassifier(random_state=1)\n",
    "\n",
    "# Fit the model\n",
    "clfDT_rus.fit(X_rus, y_rus)\n",
    "\n",
    "# Predicting labels for the Test Set\n",
    "y_pred_rus = clfDT_rus.predict(X_test_fs)\n",
    "\n",
    "print(confusion_matrix(y_test, y_pred_rus))\n",
    "\n",
    "# TN, FP\n",
    "# FN, TP\n",
    "## y_pred: Predicted labels\n",
    "## y_test: True Labels"
   ]
  },
  {
   "cell_type": "code",
   "execution_count": 113,
   "id": "0b74d883",
   "metadata": {},
   "outputs": [
    {
     "data": {
      "image/png": "[encoded data removed]",
      "text/plain": [
       "<Figure size 432x288 with 2 Axes>"
      ]
     },
     "metadata": {
      "needs_background": "light"
     },
     "output_type": "display_data"
    }
   ],
   "source": [
    "cm = confusion_matrix(y_test, y_pred_rus, labels=clfDT_rus.classes_)\n",
    "disp = ConfusionMatrixDisplay(confusion_matrix=cm,\n",
    "                              display_labels=clfDT_rus.classes_)\n",
    "disp.plot()\n",
    "plt.title('Decision Tree')\n",
    "plt.show()"
   ]
  },
  {
   "cell_type": "code",
   "execution_count": 106,
   "id": "f6896dec",
   "metadata": {},
   "outputs": [
    {
     "name": "stdout",
     "output_type": "stream",
     "text": [
      "Accuracy: 0.5927003966555375\n",
      "Precision: 0.2730820909847079\n",
      "Recall: 0.5944289693593314\n",
      "F1 Score: 0.37423823929150773\n",
      "MCC: 0.16523814459864605\n"
     ]
    }
   ],
   "source": [
    "print(\"Accuracy:\", accuracy_score(y_test, y_pred_rus))\n",
    "print(\"Precision:\", precision_score(y_test, y_pred_rus))\n",
    "print(\"Recall:\", recall_score(y_test, y_pred_rus))\n",
    "print(\"F1 Score:\", f1_score(y_test, y_pred_rus))\n",
    "print(\"MCC:\", matthews_corrcoef(y_test, y_pred))"
   ]
  },
  {
   "cell_type": "code",
   "execution_count": 107,
   "id": "30c32580",
   "metadata": {},
   "outputs": [
    {
     "name": "stdout",
     "output_type": "stream",
     "text": [
      "              precision    recall  f1-score   support\n",
      "\n",
      "         1.0       0.27      0.59      0.37      7180\n",
      "         2.0       0.85      0.59      0.70     27863\n",
      "\n",
      "    accuracy                           0.59     35043\n",
      "   macro avg       0.56      0.59      0.54     35043\n",
      "weighted avg       0.73      0.59      0.63     35043\n",
      "\n"
     ]
    }
   ],
   "source": [
    "print(classification_report(y_test, y_pred_rus))"
   ]
  },
  {
   "cell_type": "markdown",
   "id": "10997b39",
   "metadata": {},
   "source": [
    "### Removing the demographic feature of gender\n",
    "- Only using Behavioural/Beliefs features"
   ]
  },
  {
   "cell_type": "code",
   "execution_count": 65,
   "id": "e6654215",
   "metadata": {},
   "outputs": [
    {
     "data": {
      "text/plain": [
       "Index(['Gender', 'W5B', 'W11A', 'MH2B', 'W15_1A', 'W15_1B', 'W15_1C', 'W15_1D',\n",
       "       'W15_1E', 'W15_2A', 'W15_2B', 'MH3B', 'MH3D', 'MH5', 'MH6', 'W28',\n",
       "       'W29', 'W30'],\n",
       "      dtype='object')"
      ]
     },
     "execution_count": 65,
     "metadata": {},
     "output_type": "execute_result"
    }
   ],
   "source": [
    "X_rus.columns"
   ]
  },
  {
   "cell_type": "code",
   "execution_count": 66,
   "id": "f60c4a51",
   "metadata": {},
   "outputs": [],
   "source": [
    "X_rus.drop('Gender', axis=1, inplace=True)"
   ]
  },
  {
   "cell_type": "code",
   "execution_count": 67,
   "id": "c963fd84",
   "metadata": {
    "scrolled": true
   },
   "outputs": [
    {
     "data": {
      "text/html": [
       "<div>\n",
       "<style scoped>\n",
       "    .dataframe tbody tr th:only-of-type {\n",
       "        vertical-align: middle;\n",
       "    }\n",
       "\n",
       "    .dataframe tbody tr th {\n",
       "        vertical-align: top;\n",
       "    }\n",
       "\n",
       "    .dataframe thead th {\n",
       "        text-align: right;\n",
       "    }\n",
       "</style>\n",
       "<table border=\"1\" class=\"dataframe\">\n",
       "  <thead>\n",
       "    <tr style=\"text-align: right;\">\n",
       "      <th></th>\n",
       "      <th>W5B</th>\n",
       "      <th>W11A</th>\n",
       "      <th>MH2B</th>\n",
       "      <th>W15_1A</th>\n",
       "      <th>W15_1B</th>\n",
       "      <th>W15_1C</th>\n",
       "      <th>W15_1D</th>\n",
       "      <th>W15_1E</th>\n",
       "      <th>W15_2A</th>\n",
       "      <th>W15_2B</th>\n",
       "      <th>MH3B</th>\n",
       "      <th>MH3D</th>\n",
       "      <th>MH5</th>\n",
       "      <th>MH6</th>\n",
       "      <th>W28</th>\n",
       "      <th>W29</th>\n",
       "      <th>W30</th>\n",
       "    </tr>\n",
       "  </thead>\n",
       "  <tbody>\n",
       "    <tr>\n",
       "      <th>0</th>\n",
       "      <td>2.0</td>\n",
       "      <td>1</td>\n",
       "      <td>2</td>\n",
       "      <td>2.0</td>\n",
       "      <td>2.0</td>\n",
       "      <td>2.0</td>\n",
       "      <td>1.0</td>\n",
       "      <td>2.0</td>\n",
       "      <td>2.0</td>\n",
       "      <td>2.0</td>\n",
       "      <td>1.0</td>\n",
       "      <td>2.0</td>\n",
       "      <td>2.0</td>\n",
       "      <td>2</td>\n",
       "      <td>99.0</td>\n",
       "      <td>99.0</td>\n",
       "      <td>2.0</td>\n",
       "    </tr>\n",
       "    <tr>\n",
       "      <th>1</th>\n",
       "      <td>1.0</td>\n",
       "      <td>2</td>\n",
       "      <td>1</td>\n",
       "      <td>1.0</td>\n",
       "      <td>1.0</td>\n",
       "      <td>1.0</td>\n",
       "      <td>1.0</td>\n",
       "      <td>1.0</td>\n",
       "      <td>2.0</td>\n",
       "      <td>1.0</td>\n",
       "      <td>1.0</td>\n",
       "      <td>1.0</td>\n",
       "      <td>1.0</td>\n",
       "      <td>1</td>\n",
       "      <td>1.0</td>\n",
       "      <td>1.0</td>\n",
       "      <td>1.0</td>\n",
       "    </tr>\n",
       "    <tr>\n",
       "      <th>2</th>\n",
       "      <td>4.0</td>\n",
       "      <td>1</td>\n",
       "      <td>4</td>\n",
       "      <td>4.0</td>\n",
       "      <td>4.0</td>\n",
       "      <td>1.0</td>\n",
       "      <td>4.0</td>\n",
       "      <td>4.0</td>\n",
       "      <td>2.0</td>\n",
       "      <td>2.0</td>\n",
       "      <td>4.0</td>\n",
       "      <td>1.0</td>\n",
       "      <td>1.0</td>\n",
       "      <td>1</td>\n",
       "      <td>5.0</td>\n",
       "      <td>1.0</td>\n",
       "      <td>1.0</td>\n",
       "    </tr>\n",
       "    <tr>\n",
       "      <th>3</th>\n",
       "      <td>1.0</td>\n",
       "      <td>2</td>\n",
       "      <td>3</td>\n",
       "      <td>3.0</td>\n",
       "      <td>4.0</td>\n",
       "      <td>2.0</td>\n",
       "      <td>1.0</td>\n",
       "      <td>4.0</td>\n",
       "      <td>1.0</td>\n",
       "      <td>1.0</td>\n",
       "      <td>2.0</td>\n",
       "      <td>3.0</td>\n",
       "      <td>3.0</td>\n",
       "      <td>2</td>\n",
       "      <td>3.0</td>\n",
       "      <td>3.0</td>\n",
       "      <td>1.0</td>\n",
       "    </tr>\n",
       "    <tr>\n",
       "      <th>4</th>\n",
       "      <td>4.0</td>\n",
       "      <td>1</td>\n",
       "      <td>2</td>\n",
       "      <td>2.0</td>\n",
       "      <td>4.0</td>\n",
       "      <td>2.0</td>\n",
       "      <td>2.0</td>\n",
       "      <td>4.0</td>\n",
       "      <td>1.0</td>\n",
       "      <td>4.0</td>\n",
       "      <td>2.0</td>\n",
       "      <td>2.0</td>\n",
       "      <td>3.0</td>\n",
       "      <td>1</td>\n",
       "      <td>3.0</td>\n",
       "      <td>3.0</td>\n",
       "      <td>1.0</td>\n",
       "    </tr>\n",
       "    <tr>\n",
       "      <th>...</th>\n",
       "      <td>...</td>\n",
       "      <td>...</td>\n",
       "      <td>...</td>\n",
       "      <td>...</td>\n",
       "      <td>...</td>\n",
       "      <td>...</td>\n",
       "      <td>...</td>\n",
       "      <td>...</td>\n",
       "      <td>...</td>\n",
       "      <td>...</td>\n",
       "      <td>...</td>\n",
       "      <td>...</td>\n",
       "      <td>...</td>\n",
       "      <td>...</td>\n",
       "      <td>...</td>\n",
       "      <td>...</td>\n",
       "      <td>...</td>\n",
       "    </tr>\n",
       "    <tr>\n",
       "      <th>33577</th>\n",
       "      <td>2.0</td>\n",
       "      <td>2</td>\n",
       "      <td>3</td>\n",
       "      <td>2.0</td>\n",
       "      <td>2.0</td>\n",
       "      <td>2.0</td>\n",
       "      <td>2.0</td>\n",
       "      <td>4.0</td>\n",
       "      <td>4.0</td>\n",
       "      <td>2.0</td>\n",
       "      <td>2.0</td>\n",
       "      <td>3.0</td>\n",
       "      <td>3.0</td>\n",
       "      <td>2</td>\n",
       "      <td>1.0</td>\n",
       "      <td>3.0</td>\n",
       "      <td>1.0</td>\n",
       "    </tr>\n",
       "    <tr>\n",
       "      <th>33578</th>\n",
       "      <td>3.0</td>\n",
       "      <td>2</td>\n",
       "      <td>3</td>\n",
       "      <td>2.0</td>\n",
       "      <td>2.0</td>\n",
       "      <td>1.0</td>\n",
       "      <td>1.0</td>\n",
       "      <td>2.0</td>\n",
       "      <td>4.0</td>\n",
       "      <td>1.0</td>\n",
       "      <td>2.0</td>\n",
       "      <td>1.0</td>\n",
       "      <td>2.0</td>\n",
       "      <td>2</td>\n",
       "      <td>3.0</td>\n",
       "      <td>1.0</td>\n",
       "      <td>2.0</td>\n",
       "    </tr>\n",
       "    <tr>\n",
       "      <th>33579</th>\n",
       "      <td>4.0</td>\n",
       "      <td>1</td>\n",
       "      <td>1</td>\n",
       "      <td>4.0</td>\n",
       "      <td>1.0</td>\n",
       "      <td>1.0</td>\n",
       "      <td>1.0</td>\n",
       "      <td>4.0</td>\n",
       "      <td>4.0</td>\n",
       "      <td>1.0</td>\n",
       "      <td>1.0</td>\n",
       "      <td>1.0</td>\n",
       "      <td>2.0</td>\n",
       "      <td>1</td>\n",
       "      <td>4.0</td>\n",
       "      <td>3.0</td>\n",
       "      <td>99.0</td>\n",
       "    </tr>\n",
       "    <tr>\n",
       "      <th>33580</th>\n",
       "      <td>1.0</td>\n",
       "      <td>99</td>\n",
       "      <td>99</td>\n",
       "      <td>99.0</td>\n",
       "      <td>99.0</td>\n",
       "      <td>99.0</td>\n",
       "      <td>1.0</td>\n",
       "      <td>1.0</td>\n",
       "      <td>1.0</td>\n",
       "      <td>1.0</td>\n",
       "      <td>2.0</td>\n",
       "      <td>2.0</td>\n",
       "      <td>3.0</td>\n",
       "      <td>2</td>\n",
       "      <td>6.0</td>\n",
       "      <td>2.0</td>\n",
       "      <td>99.0</td>\n",
       "    </tr>\n",
       "    <tr>\n",
       "      <th>33581</th>\n",
       "      <td>1.0</td>\n",
       "      <td>1</td>\n",
       "      <td>1</td>\n",
       "      <td>1.0</td>\n",
       "      <td>1.0</td>\n",
       "      <td>1.0</td>\n",
       "      <td>1.0</td>\n",
       "      <td>1.0</td>\n",
       "      <td>1.0</td>\n",
       "      <td>1.0</td>\n",
       "      <td>1.0</td>\n",
       "      <td>1.0</td>\n",
       "      <td>2.0</td>\n",
       "      <td>2</td>\n",
       "      <td>1.0</td>\n",
       "      <td>2.0</td>\n",
       "      <td>1.0</td>\n",
       "    </tr>\n",
       "  </tbody>\n",
       "</table>\n",
       "<p>33582 rows × 17 columns</p>\n",
       "</div>"
      ],
      "text/plain": [
       "       W5B W11A MH2B W15_1A W15_1B W15_1C W15_1D W15_1E W15_2A W15_2B MH3B  \\\n",
       "0      2.0    1    2    2.0    2.0    2.0    1.0    2.0    2.0    2.0  1.0   \n",
       "1      1.0    2    1    1.0    1.0    1.0    1.0    1.0    2.0    1.0  1.0   \n",
       "2      4.0    1    4    4.0    4.0    1.0    4.0    4.0    2.0    2.0  4.0   \n",
       "3      1.0    2    3    3.0    4.0    2.0    1.0    4.0    1.0    1.0  2.0   \n",
       "4      4.0    1    2    2.0    4.0    2.0    2.0    4.0    1.0    4.0  2.0   \n",
       "...    ...  ...  ...    ...    ...    ...    ...    ...    ...    ...  ...   \n",
       "33577  2.0    2    3    2.0    2.0    2.0    2.0    4.0    4.0    2.0  2.0   \n",
       "33578  3.0    2    3    2.0    2.0    1.0    1.0    2.0    4.0    1.0  2.0   \n",
       "33579  4.0    1    1    4.0    1.0    1.0    1.0    4.0    4.0    1.0  1.0   \n",
       "33580  1.0   99   99   99.0   99.0   99.0    1.0    1.0    1.0    1.0  2.0   \n",
       "33581  1.0    1    1    1.0    1.0    1.0    1.0    1.0    1.0    1.0  1.0   \n",
       "\n",
       "      MH3D  MH5 MH6   W28   W29   W30  \n",
       "0      2.0  2.0   2  99.0  99.0   2.0  \n",
       "1      1.0  1.0   1   1.0   1.0   1.0  \n",
       "2      1.0  1.0   1   5.0   1.0   1.0  \n",
       "3      3.0  3.0   2   3.0   3.0   1.0  \n",
       "4      2.0  3.0   1   3.0   3.0   1.0  \n",
       "...    ...  ...  ..   ...   ...   ...  \n",
       "33577  3.0  3.0   2   1.0   3.0   1.0  \n",
       "33578  1.0  2.0   2   3.0   1.0   2.0  \n",
       "33579  1.0  2.0   1   4.0   3.0  99.0  \n",
       "33580  2.0  3.0   2   6.0   2.0  99.0  \n",
       "33581  1.0  2.0   2   1.0   2.0   1.0  \n",
       "\n",
       "[33582 rows x 17 columns]"
      ]
     },
     "execution_count": 67,
     "metadata": {},
     "output_type": "execute_result"
    }
   ],
   "source": [
    "X_rus"
   ]
  },
  {
   "cell_type": "code",
   "execution_count": 68,
   "id": "3e5f5b45",
   "metadata": {},
   "outputs": [],
   "source": [
    "X_test_fs.drop('Gender', axis=1, inplace=True)"
   ]
  },
  {
   "cell_type": "code",
   "execution_count": 69,
   "id": "5818af63",
   "metadata": {},
   "outputs": [
    {
     "name": "stdout",
     "output_type": "stream",
     "text": [
      "{'fit_time': array([0.13104153, 0.13103533, 0.13902569, 0.1290288 , 0.12803626,\n",
      "       0.13201904, 0.13103533, 0.14702153, 0.13003469, 0.13403749]), 'score_time': array([0.0080018 , 0.00799608, 0.00900793, 0.00900197, 0.00899458,\n",
      "       0.01001859, 0.00800157, 0.00900149, 0.00999498, 0.00999594]), 'test_accuracy': array([0.59481989, 0.583507  , 0.58368076, 0.57712924, 0.580405  ,\n",
      "       0.58993448, 0.59767719, 0.58129839, 0.57683145, 0.58546754]), 'test_precision': array([0.59719683, 0.58274232, 0.58308693, 0.57843731, 0.58054893,\n",
      "       0.58945498, 0.59738717, 0.57959184, 0.57789855, 0.58618619]), 'test_recall': array([0.58333333, 0.58725432, 0.58725432, 0.56879095, 0.57951161,\n",
      "       0.59261465, 0.59916617, 0.59201906, 0.56998213, 0.58129839]), 'test_f1_score': array([0.59018368, 0.58498962, 0.5851632 , 0.57357357, 0.58002981,\n",
      "       0.59103059, 0.59827535, 0.58573954, 0.57391304, 0.58373206])}\n"
     ]
    }
   ],
   "source": [
    "clfDT_rus = DecisionTreeClassifier()\n",
    "\n",
    "# Perform 10-fold cross-validation with custom scoring metrics\n",
    "cv_results = cross_validate(clfDT_rus, X_rus, y_rus, cv=10, scoring=scoring)\n",
    "\n",
    "# Print the results\n",
    "print(cv_results)"
   ]
  },
  {
   "cell_type": "code",
   "execution_count": 70,
   "id": "86be1708",
   "metadata": {},
   "outputs": [
    {
     "name": "stdout",
     "output_type": "stream",
     "text": [
      "Baseline Classifier F1-score\n",
      "Mean: 0.5846630463200368\n",
      "Std: 0.007202125239739616\n"
     ]
    }
   ],
   "source": [
    "# 10-fold cross-validation\n",
    "print(\"Baseline Classifier F1-score\\nMean: {mean}\\nStd: {std}\".format(mean=np.mean(cv_results['test_f1_score']),\n",
    "                                                                      std=np.std(cv_results['test_f1_score'])))"
   ]
  },
  {
   "cell_type": "code",
   "execution_count": 57,
   "id": "58fad821",
   "metadata": {},
   "outputs": [
    {
     "name": "stdout",
     "output_type": "stream",
     "text": [
      "[[ 4220  2960]\n",
      " [11390 16473]]\n"
     ]
    }
   ],
   "source": [
    "# Create Decision Tree Classifier object\n",
    "clfDT_rus = DecisionTreeClassifier(random_state=1)\n",
    "\n",
    "# Fit the model\n",
    "clfDT_rus.fit(X_rus, y_rus)\n",
    "\n",
    "# Predicting labels for the Test Set\n",
    "y_pred_rus = clfDT_rus.predict(X_test_fs)\n",
    "\n",
    "print(confusion_matrix(y_test, y_pred_rus))\n",
    "\n",
    "# TN, FP\n",
    "# FN, TP\n",
    "## y_pred: Predicted labels\n",
    "## y_test: True Labels"
   ]
  },
  {
   "cell_type": "code",
   "execution_count": 58,
   "id": "02e6ef57",
   "metadata": {},
   "outputs": [
    {
     "data": {
      "image/png": "[encoded data removed]",
      "text/plain": [
       "<Figure size 432x288 with 2 Axes>"
      ]
     },
     "metadata": {
      "needs_background": "light"
     },
     "output_type": "display_data"
    }
   ],
   "source": [
    "cm = confusion_matrix(y_test, y_pred_rus, labels=clfDT_rus.classes_)\n",
    "disp = ConfusionMatrixDisplay(confusion_matrix=cm,\n",
    "                              display_labels=clfDT_rus.classes_)\n",
    "disp.plot()\n",
    "plt.show()"
   ]
  },
  {
   "cell_type": "code",
   "execution_count": 59,
   "id": "8127be4d",
   "metadata": {},
   "outputs": [
    {
     "name": "stdout",
     "output_type": "stream",
     "text": [
      "Accuracy: 0.590503096196102\n",
      "Precision: 0.2703395259449071\n",
      "Recall: 0.5877437325905293\n",
      "F1 Score: 0.3703378674857394\n"
     ]
    }
   ],
   "source": [
    "print(\"Accuracy:\", accuracy_score(y_test, y_pred_rus))\n",
    "print(\"Precision:\", precision_score(y_test, y_pred_rus))\n",
    "print(\"Recall:\", recall_score(y_test, y_pred_rus))\n",
    "print(\"F1 Score:\", f1_score(y_test, y_pred_rus))"
   ]
  }
 ],
 "metadata": {
  "kernelspec": {
   "display_name": "Python 3 (ipykernel)",
   "language": "python",
   "name": "python3"
  },
  "language_info": {
   "codemirror_mode": {
    "name": "ipython",
    "version": 3
   },
   "file_extension": ".py",
   "mimetype": "text/x-python",
   "name": "python",
   "nbconvert_exporter": "python",
   "pygments_lexer": "ipython3",
   "version": "3.8.8"
  }
 },
 "nbformat": 4,
 "nbformat_minor": 5
}

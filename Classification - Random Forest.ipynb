{
 "cells": [
  {
   "cell_type": "markdown",
   "id": "7d5eb86b",
   "metadata": {},
   "source": [
    "### Import Dataset and Organize the Dataframe"
   ]
  },
  {
   "cell_type": "code",
   "execution_count": 57,
   "id": "c40328dc",
   "metadata": {},
   "outputs": [],
   "source": [
    "# Let's import the necessary libraries\n",
    "import pandas as pd\n",
    "\n",
    "# Read in the dataset \n",
    "df = pd.read_csv('wgm_full_wave2_public_file_final_csv.csv',na_values=\" \", keep_default_na=False,low_memory=False)\n",
    "\n",
    "# Organizing the dataset:\n",
    "\n",
    "# DEMOGRAPHIC INFORMATION\n",
    "# Copy the original dataframe and select the columns associated with demograph information. \n",
    "#  These demographic factors are categorical variables; convert the datatype to 'categorical'\n",
    "demographicInfo = df.copy()[['Global11Regions','Gender', 'Age','age_var3',\n",
    "                             'Education','Household_Income','wbi',\n",
    "                             'Subjective_Income','EMP_2010']].astype('category')\n",
    "\n",
    "# First we add a new level/category of '99.0' to the feature:\n",
    "demographicInfo['Household_Income'] = demographicInfo['Household_Income'].cat.add_categories(99.0)\n",
    "demographicInfo['EMP_2010'] = demographicInfo['EMP_2010'].cat.add_categories(99.0)\n",
    "\n",
    "# Impute the NaN values with '99.0' ('Don't Know/Refused')\n",
    "demographicInfo['Household_Income'].fillna(99.0, inplace=True)\n",
    "demographicInfo['EMP_2010'].fillna(99.0, inplace=True)\n",
    "\n",
    "\n",
    "# QUESTIONNAIRE DATA\n",
    "# Perception of science:\n",
    "sciPercep = df.copy().iloc[:,6:28].astype('category')\n",
    "sciPercep['W3'] = sciPercep['W3'].cat.add_categories(99.0) # Add a new level to 'W3'\n",
    "sciPercep['W3'].fillna(99.0, inplace=True) # Impute the NaN values with the new level\n",
    "\n",
    "# Impute the NaN entries with the values stated above\n",
    "sciPercep['W4'].fillna(99.0, inplace=True)\n",
    "sciPercep['W5B'].fillna(99.0, inplace=True)\n",
    "sciPercep['W5D'].fillna(99.0, inplace=True)\n",
    "sciPercep['W7C'].fillna(99.0, inplace=True)\n",
    "\n",
    "\n",
    "# Perceptions about Climate Change\n",
    "climateChange = df.copy().iloc[:,28:31].astype('category')\n",
    "# Impute the NaN entries with the values stated above\n",
    "climateChange['W14'].fillna(99.0, inplace=True)\n",
    "climateChange['W15'].fillna(99.0, inplace=True)\n",
    "\n",
    "\n",
    "# Perceptions of science with respect to COVID-19 pandemic\n",
    "covidPercep = df.copy().iloc[:,31:38].astype('category')\n",
    "# Impute the NaN entries with the values stated above\n",
    "covidPercep['W15_1A'].fillna(99.0, inplace=True)\n",
    "covidPercep['W15_1B'].fillna(99.0, inplace=True)\n",
    "covidPercep['W15_1C'].fillna(99.0, inplace=True)\n",
    "covidPercep['W15_1D'].fillna(99.0, inplace=True)\n",
    "covidPercep['W15_1E'].fillna(99.0, inplace=True)\n",
    "covidPercep['W15_2A'].fillna(99.0, inplace=True)\n",
    "covidPercep['W15_2B'].fillna(99.0, inplace=True)\n",
    "\n",
    "\n",
    "# Perceptions about physical and mental health:\n",
    "sciHealth = df.copy().iloc[:,38:67].astype('category')\n",
    "# Impute the NaN entries with the values stated above for MH3A to MH5 + MH7A\n",
    "sciHealth['MH3A'].fillna(99.0, inplace=True)\n",
    "sciHealth['MH3B'].fillna(99.0, inplace=True)\n",
    "sciHealth['MH3C'].fillna(99.0, inplace=True)\n",
    "sciHealth['MH3D'].fillna(99.0, inplace=True)\n",
    "sciHealth['MH4A'].fillna(99.0, inplace=True)\n",
    "sciHealth['MH4B'].fillna(99.0, inplace=True)\n",
    "sciHealth['MH5'].fillna(99.0, inplace=True)\n",
    "sciHealth['MH7A'].fillna(99.0, inplace=True)\n",
    "# Impute the NaN entries with the values stated above for MH1 and MH6\n",
    "sciHealth['MH1'].fillna(99, inplace=True)\n",
    "sciHealth['MH6'].fillna(99, inplace=True)\n",
    "\n",
    "\n",
    "# Social Media Usage\n",
    "socialMedia = df.copy().iloc[:,67:70].astype('category')\n",
    "# Impute the NaN values\n",
    "socialMedia['W28'].fillna(99.0, inplace=True)\n",
    "socialMedia['W29'].fillna(99.0, inplace=True)\n",
    "\n",
    "\n",
    "# Religion\n",
    "religion = df.copy()['W30'].astype('category')\n",
    "\n",
    "# Impute missing values\n",
    "religion.fillna(99.0, inplace=True)"
   ]
  },
  {
   "cell_type": "markdown",
   "id": "6596ac00",
   "metadata": {},
   "source": [
    "Generating the final dataset used for Classification"
   ]
  },
  {
   "cell_type": "code",
   "execution_count": 58,
   "id": "2b739ecb",
   "metadata": {},
   "outputs": [
    {
     "data": {
      "text/plain": [
       "(119088, 54)"
      ]
     },
     "execution_count": 58,
     "metadata": {},
     "output_type": "execute_result"
    }
   ],
   "source": [
    "questionDataset = pd.concat([sciPercep, climateChange, covidPercep,sciHealth.iloc[:,0:10], socialMedia, religion.to_frame()],axis=1)\n",
    "# Remove 'Age' and keep 'age_var3'\n",
    "demographicInfo = demographicInfo.drop('Age',axis=1)\n",
    "\n",
    "dataset = pd.concat([demographicInfo, questionDataset],axis=1)\n",
    "dataset.shape # 119 088 entries and 54 columns/features"
   ]
  },
  {
   "cell_type": "code",
   "execution_count": 59,
   "id": "1156dbb2",
   "metadata": {},
   "outputs": [
    {
     "name": "stdout",
     "output_type": "stream",
     "text": [
      "<class 'pandas.core.frame.DataFrame'>\n",
      "Int64Index: 116810 entries, 0 to 119087\n",
      "Data columns (total 54 columns):\n",
      " #   Column             Non-Null Count   Dtype   \n",
      "---  ------             --------------   -----   \n",
      " 0   Global11Regions    116810 non-null  category\n",
      " 1   Gender             116810 non-null  category\n",
      " 2   age_var3           116810 non-null  category\n",
      " 3   Education          116810 non-null  category\n",
      " 4   Household_Income   116810 non-null  category\n",
      " 5   wbi                116810 non-null  category\n",
      " 6   Subjective_Income  116810 non-null  category\n",
      " 7   EMP_2010           116810 non-null  category\n",
      " 8   W1                 116810 non-null  category\n",
      " 9   W2                 116810 non-null  category\n",
      " 10  W3                 116810 non-null  category\n",
      " 11  W4                 116810 non-null  category\n",
      " 12  W5A                116810 non-null  category\n",
      " 13  W5B                116810 non-null  category\n",
      " 14  W5C                116810 non-null  category\n",
      " 15  W5D                116810 non-null  category\n",
      " 16  W5E                116810 non-null  category\n",
      " 17  W5F                116810 non-null  category\n",
      " 18  W5G                116810 non-null  category\n",
      " 19  W6                 116810 non-null  category\n",
      " 20  W7A                116810 non-null  category\n",
      " 21  W7B                116810 non-null  category\n",
      " 22  W7C                116810 non-null  category\n",
      " 23  W8                 116810 non-null  category\n",
      " 24  W9                 116810 non-null  category\n",
      " 25  W10                116810 non-null  category\n",
      " 26  W11A               116810 non-null  category\n",
      " 27  W11B               116810 non-null  category\n",
      " 28  MH2A               116810 non-null  category\n",
      " 29  MH2B               116810 non-null  category\n",
      " 30  W13                116810 non-null  category\n",
      " 31  W14                116810 non-null  category\n",
      " 32  W15                116810 non-null  category\n",
      " 33  W15_1A             116810 non-null  category\n",
      " 34  W15_1B             116810 non-null  category\n",
      " 35  W15_1C             116810 non-null  category\n",
      " 36  W15_1D             116810 non-null  category\n",
      " 37  W15_1E             116810 non-null  category\n",
      " 38  W15_2A             116810 non-null  category\n",
      " 39  W15_2B             116810 non-null  category\n",
      " 40  MH1                116810 non-null  category\n",
      " 41  MH3A               116810 non-null  category\n",
      " 42  MH3B               116810 non-null  category\n",
      " 43  MH3C               116810 non-null  category\n",
      " 44  MH3D               116810 non-null  category\n",
      " 45  MH4A               116810 non-null  category\n",
      " 46  MH4B               116810 non-null  category\n",
      " 47  MH5                116810 non-null  category\n",
      " 48  MH6                116810 non-null  category\n",
      " 49  MH7A               116810 non-null  category\n",
      " 50  W27                116810 non-null  category\n",
      " 51  W28                116810 non-null  category\n",
      " 52  W29                116810 non-null  category\n",
      " 53  W30                116810 non-null  category\n",
      "dtypes: category(54)\n",
      "memory usage: 6.9 MB\n"
     ]
    }
   ],
   "source": [
    "dataset = dataset[(dataset['MH7A'] == 1.0) | (dataset['MH7A'] == 2.0)]\n",
    "dataset.info()"
   ]
  },
  {
   "cell_type": "markdown",
   "id": "6006b165",
   "metadata": {},
   "source": [
    "### Classification"
   ]
  },
  {
   "cell_type": "code",
   "execution_count": 60,
   "id": "3482b641",
   "metadata": {},
   "outputs": [],
   "source": [
    "import numpy as np\n",
    "import matplotlib.pyplot as plt\n",
    "from sklearn.model_selection import train_test_split, cross_validate\n",
    "from sklearn.tree import DecisionTreeClassifier\n",
    "from sklearn.metrics import make_scorer, accuracy_score, precision_score, recall_score, f1_score, matthews_corrcoef\n",
    "from sklearn.metrics import classification_report, confusion_matrix, ConfusionMatrixDisplay"
   ]
  },
  {
   "cell_type": "markdown",
   "id": "a46717ca",
   "metadata": {},
   "source": [
    "Splitting the dataset into features and target/label:"
   ]
  },
  {
   "cell_type": "code",
   "execution_count": 61,
   "id": "3c119dd5",
   "metadata": {},
   "outputs": [
    {
     "data": {
      "text/plain": [
       "(116810,)"
      ]
     },
     "execution_count": 61,
     "metadata": {},
     "output_type": "execute_result"
    }
   ],
   "source": [
    "y = dataset['MH7A'] # The label: MH7A \n",
    "y.shape # 119 088 entries"
   ]
  },
  {
   "cell_type": "code",
   "execution_count": 62,
   "id": "12a9b40b",
   "metadata": {},
   "outputs": [
    {
     "data": {
      "text/plain": [
       "(116810, 53)"
      ]
     },
     "execution_count": 62,
     "metadata": {},
     "output_type": "execute_result"
    }
   ],
   "source": [
    "X = dataset.drop(columns='MH7A') # The independent variables/features used for classification\n",
    "X.shape # 119 088 entries and 54 columns/features"
   ]
  },
  {
   "cell_type": "markdown",
   "id": "faecf834",
   "metadata": {},
   "source": [
    "Split the dataset into training/testing sets using a 70/30 split:"
   ]
  },
  {
   "cell_type": "code",
   "execution_count": 63,
   "id": "7bb2fa88",
   "metadata": {},
   "outputs": [],
   "source": [
    "# 70% training and 30% test sets\n",
    "X_train, X_test, y_train, y_test = train_test_split(X,y, test_size=0.3, random_state=1)"
   ]
  },
  {
   "cell_type": "code",
   "execution_count": 64,
   "id": "90538ebd",
   "metadata": {},
   "outputs": [
    {
     "data": {
      "text/plain": [
       "(81767, 53)"
      ]
     },
     "execution_count": 64,
     "metadata": {},
     "output_type": "execute_result"
    }
   ],
   "source": [
    "X_train.shape"
   ]
  },
  {
   "cell_type": "code",
   "execution_count": 65,
   "id": "44a3c222",
   "metadata": {
    "scrolled": true
   },
   "outputs": [
    {
     "data": {
      "text/plain": [
       "(35043, 53)"
      ]
     },
     "execution_count": 65,
     "metadata": {},
     "output_type": "execute_result"
    }
   ],
   "source": [
    "X_test.shape"
   ]
  },
  {
   "cell_type": "markdown",
   "id": "6691c44f",
   "metadata": {},
   "source": [
    "### Feature Selection\n",
    "\n",
    "Based on the chi-squared test scores shown, let's set a threshold of 2000. Any features that have a score greater than 2000 will be included as a feature in future models."
   ]
  },
  {
   "cell_type": "code",
   "execution_count": 66,
   "id": "27750778",
   "metadata": {},
   "outputs": [
    {
     "name": "stdout",
     "output_type": "stream",
     "text": [
      "Feature 0: 895.456901\n",
      "Feature 1: 16.520788\n",
      "Feature 2: 429.357539\n",
      "Feature 3: 206.765457\n",
      "Feature 4: 846.724313\n",
      "Feature 5: 39.561801\n",
      "Feature 6: 711.372076\n",
      "Feature 7: 59.517958\n",
      "Feature 8: 78.933518\n",
      "Feature 9: 264.673228\n",
      "Feature 10: 802.682457\n",
      "Feature 11: 839.676847\n",
      "Feature 12: 149.290457\n",
      "Feature 13: 3299.105630\n",
      "Feature 14: 18.832843\n",
      "Feature 15: 8.387719\n",
      "Feature 16: 13.242311\n",
      "Feature 17: 1258.828622\n",
      "Feature 18: 830.888446\n",
      "Feature 19: 97.691066\n",
      "Feature 20: 767.574079\n",
      "Feature 21: 1735.630512\n",
      "Feature 22: 1669.939171\n",
      "Feature 23: 383.940229\n",
      "Feature 24: 974.274333\n",
      "Feature 25: 1157.068725\n",
      "Feature 26: 2035.334654\n",
      "Feature 27: 1943.582749\n",
      "Feature 28: 246.275184\n",
      "Feature 29: 3425.815844\n",
      "Feature 30: 429.198579\n",
      "Feature 31: 852.821591\n",
      "Feature 32: 1377.413362\n",
      "Feature 33: 11101.115091\n",
      "Feature 34: 14531.825730\n",
      "Feature 35: 15976.569347\n",
      "Feature 36: 14023.354942\n",
      "Feature 37: 12520.446012\n",
      "Feature 38: 9385.945667\n",
      "Feature 39: 9706.794076\n",
      "Feature 40: 133.277412\n",
      "Feature 41: 1182.391846\n",
      "Feature 42: 10621.389196\n",
      "Feature 43: 863.244491\n",
      "Feature 44: 2805.534329\n",
      "Feature 45: 19.770833\n",
      "Feature 46: 615.638949\n",
      "Feature 47: 13472.209089\n",
      "Feature 48: 3465.985256\n",
      "Feature 49: 7.493562\n",
      "Feature 50: 6075.855360\n",
      "Feature 51: 6631.270190\n",
      "Feature 52: 2498.600358\n"
     ]
    },
    {
     "data": {
      "image/png": "[encoded data removed]",
      "text/plain": [
       "<Figure size 432x288 with 1 Axes>"
      ]
     },
     "metadata": {
      "needs_background": "light"
     },
     "output_type": "display_data"
    }
   ],
   "source": [
    "from sklearn.feature_selection import SelectKBest\n",
    "from sklearn.feature_selection import chi2\n",
    "\n",
    "# # Using the Chi-Squared test to identify features that are NOT independent of the target variable/label\n",
    "fs = SelectKBest(score_func=chi2, k='all')\n",
    "fs.fit(X_train, y_train)\n",
    "X_train_fs = fs.transform(X_train)\n",
    "X_test_fs = fs.transform(X_test)\n",
    "\n",
    "# what are scores for the features\n",
    "for i in range(len(fs.scores_)):\n",
    " print('Feature %d: %f' % (i, fs.scores_[i]))\n",
    "# plot the scores\n",
    "plt.bar([i for i in range(len(fs.scores_))], fs.scores_)\n",
    "plt.title('Chi-Square Statistic')\n",
    "plt.show()"
   ]
  },
  {
   "cell_type": "code",
   "execution_count": 67,
   "id": "83343f5c",
   "metadata": {},
   "outputs": [],
   "source": [
    "selector = SelectKBest(score_func=chi2, k=17)\n",
    "selector.fit(X_train, y_train)\n",
    "# Get columns to keep and create new dataframe with those only\n",
    "cols_idxs = selector.get_support(indices=True)\n",
    "X_fs = X_train.iloc[:,cols_idxs]"
   ]
  },
  {
   "cell_type": "code",
   "execution_count": 68,
   "id": "6cce849d",
   "metadata": {
    "scrolled": true
   },
   "outputs": [
    {
     "data": {
      "text/html": [
       "<div>\n",
       "<style scoped>\n",
       "    .dataframe tbody tr th:only-of-type {\n",
       "        vertical-align: middle;\n",
       "    }\n",
       "\n",
       "    .dataframe tbody tr th {\n",
       "        vertical-align: top;\n",
       "    }\n",
       "\n",
       "    .dataframe thead th {\n",
       "        text-align: right;\n",
       "    }\n",
       "</style>\n",
       "<table border=\"1\" class=\"dataframe\">\n",
       "  <thead>\n",
       "    <tr style=\"text-align: right;\">\n",
       "      <th></th>\n",
       "      <th>W5B</th>\n",
       "      <th>W11A</th>\n",
       "      <th>MH2B</th>\n",
       "      <th>W15_1A</th>\n",
       "      <th>W15_1B</th>\n",
       "      <th>W15_1C</th>\n",
       "      <th>W15_1D</th>\n",
       "      <th>W15_1E</th>\n",
       "      <th>W15_2A</th>\n",
       "      <th>W15_2B</th>\n",
       "      <th>MH3B</th>\n",
       "      <th>MH3D</th>\n",
       "      <th>MH5</th>\n",
       "      <th>MH6</th>\n",
       "      <th>W28</th>\n",
       "      <th>W29</th>\n",
       "      <th>W30</th>\n",
       "    </tr>\n",
       "  </thead>\n",
       "  <tbody>\n",
       "    <tr>\n",
       "      <th>43560</th>\n",
       "      <td>2.0</td>\n",
       "      <td>1</td>\n",
       "      <td>2</td>\n",
       "      <td>2.0</td>\n",
       "      <td>2.0</td>\n",
       "      <td>1.0</td>\n",
       "      <td>1.0</td>\n",
       "      <td>1.0</td>\n",
       "      <td>1.0</td>\n",
       "      <td>2.0</td>\n",
       "      <td>1.0</td>\n",
       "      <td>1.0</td>\n",
       "      <td>3.0</td>\n",
       "      <td>99</td>\n",
       "      <td>99.0</td>\n",
       "      <td>99.0</td>\n",
       "      <td>1.0</td>\n",
       "    </tr>\n",
       "    <tr>\n",
       "      <th>62908</th>\n",
       "      <td>4.0</td>\n",
       "      <td>1</td>\n",
       "      <td>99</td>\n",
       "      <td>4.0</td>\n",
       "      <td>3.0</td>\n",
       "      <td>1.0</td>\n",
       "      <td>1.0</td>\n",
       "      <td>99.0</td>\n",
       "      <td>3.0</td>\n",
       "      <td>1.0</td>\n",
       "      <td>3.0</td>\n",
       "      <td>99.0</td>\n",
       "      <td>1.0</td>\n",
       "      <td>2</td>\n",
       "      <td>3.0</td>\n",
       "      <td>3.0</td>\n",
       "      <td>3.0</td>\n",
       "    </tr>\n",
       "    <tr>\n",
       "      <th>34789</th>\n",
       "      <td>2.0</td>\n",
       "      <td>1</td>\n",
       "      <td>2</td>\n",
       "      <td>2.0</td>\n",
       "      <td>2.0</td>\n",
       "      <td>2.0</td>\n",
       "      <td>1.0</td>\n",
       "      <td>2.0</td>\n",
       "      <td>2.0</td>\n",
       "      <td>2.0</td>\n",
       "      <td>1.0</td>\n",
       "      <td>2.0</td>\n",
       "      <td>2.0</td>\n",
       "      <td>2</td>\n",
       "      <td>99.0</td>\n",
       "      <td>99.0</td>\n",
       "      <td>2.0</td>\n",
       "    </tr>\n",
       "    <tr>\n",
       "      <th>55266</th>\n",
       "      <td>1.0</td>\n",
       "      <td>2</td>\n",
       "      <td>1</td>\n",
       "      <td>1.0</td>\n",
       "      <td>1.0</td>\n",
       "      <td>1.0</td>\n",
       "      <td>1.0</td>\n",
       "      <td>1.0</td>\n",
       "      <td>2.0</td>\n",
       "      <td>1.0</td>\n",
       "      <td>1.0</td>\n",
       "      <td>1.0</td>\n",
       "      <td>1.0</td>\n",
       "      <td>1</td>\n",
       "      <td>1.0</td>\n",
       "      <td>1.0</td>\n",
       "      <td>1.0</td>\n",
       "    </tr>\n",
       "    <tr>\n",
       "      <th>75584</th>\n",
       "      <td>99.0</td>\n",
       "      <td>1</td>\n",
       "      <td>3</td>\n",
       "      <td>1.0</td>\n",
       "      <td>2.0</td>\n",
       "      <td>1.0</td>\n",
       "      <td>1.0</td>\n",
       "      <td>1.0</td>\n",
       "      <td>1.0</td>\n",
       "      <td>3.0</td>\n",
       "      <td>1.0</td>\n",
       "      <td>1.0</td>\n",
       "      <td>1.0</td>\n",
       "      <td>2</td>\n",
       "      <td>3.0</td>\n",
       "      <td>3.0</td>\n",
       "      <td>3.0</td>\n",
       "    </tr>\n",
       "    <tr>\n",
       "      <th>...</th>\n",
       "      <td>...</td>\n",
       "      <td>...</td>\n",
       "      <td>...</td>\n",
       "      <td>...</td>\n",
       "      <td>...</td>\n",
       "      <td>...</td>\n",
       "      <td>...</td>\n",
       "      <td>...</td>\n",
       "      <td>...</td>\n",
       "      <td>...</td>\n",
       "      <td>...</td>\n",
       "      <td>...</td>\n",
       "      <td>...</td>\n",
       "      <td>...</td>\n",
       "      <td>...</td>\n",
       "      <td>...</td>\n",
       "      <td>...</td>\n",
       "    </tr>\n",
       "    <tr>\n",
       "      <th>50736</th>\n",
       "      <td>1.0</td>\n",
       "      <td>3</td>\n",
       "      <td>1</td>\n",
       "      <td>1.0</td>\n",
       "      <td>1.0</td>\n",
       "      <td>1.0</td>\n",
       "      <td>1.0</td>\n",
       "      <td>1.0</td>\n",
       "      <td>1.0</td>\n",
       "      <td>1.0</td>\n",
       "      <td>1.0</td>\n",
       "      <td>2.0</td>\n",
       "      <td>2.0</td>\n",
       "      <td>2</td>\n",
       "      <td>3.0</td>\n",
       "      <td>3.0</td>\n",
       "      <td>4.0</td>\n",
       "    </tr>\n",
       "    <tr>\n",
       "      <th>99189</th>\n",
       "      <td>99.0</td>\n",
       "      <td>1</td>\n",
       "      <td>4</td>\n",
       "      <td>99.0</td>\n",
       "      <td>1.0</td>\n",
       "      <td>2.0</td>\n",
       "      <td>2.0</td>\n",
       "      <td>99.0</td>\n",
       "      <td>1.0</td>\n",
       "      <td>1.0</td>\n",
       "      <td>2.0</td>\n",
       "      <td>3.0</td>\n",
       "      <td>1.0</td>\n",
       "      <td>1</td>\n",
       "      <td>1.0</td>\n",
       "      <td>2.0</td>\n",
       "      <td>1.0</td>\n",
       "    </tr>\n",
       "    <tr>\n",
       "      <th>5214</th>\n",
       "      <td>3.0</td>\n",
       "      <td>1</td>\n",
       "      <td>1</td>\n",
       "      <td>3.0</td>\n",
       "      <td>1.0</td>\n",
       "      <td>2.0</td>\n",
       "      <td>2.0</td>\n",
       "      <td>2.0</td>\n",
       "      <td>1.0</td>\n",
       "      <td>1.0</td>\n",
       "      <td>2.0</td>\n",
       "      <td>1.0</td>\n",
       "      <td>2.0</td>\n",
       "      <td>1</td>\n",
       "      <td>3.0</td>\n",
       "      <td>2.0</td>\n",
       "      <td>2.0</td>\n",
       "    </tr>\n",
       "    <tr>\n",
       "      <th>78640</th>\n",
       "      <td>3.0</td>\n",
       "      <td>1</td>\n",
       "      <td>3</td>\n",
       "      <td>2.0</td>\n",
       "      <td>2.0</td>\n",
       "      <td>1.0</td>\n",
       "      <td>1.0</td>\n",
       "      <td>3.0</td>\n",
       "      <td>3.0</td>\n",
       "      <td>2.0</td>\n",
       "      <td>3.0</td>\n",
       "      <td>1.0</td>\n",
       "      <td>3.0</td>\n",
       "      <td>2</td>\n",
       "      <td>2.0</td>\n",
       "      <td>3.0</td>\n",
       "      <td>1.0</td>\n",
       "    </tr>\n",
       "    <tr>\n",
       "      <th>99685</th>\n",
       "      <td>4.0</td>\n",
       "      <td>2</td>\n",
       "      <td>2</td>\n",
       "      <td>1.0</td>\n",
       "      <td>1.0</td>\n",
       "      <td>1.0</td>\n",
       "      <td>1.0</td>\n",
       "      <td>4.0</td>\n",
       "      <td>1.0</td>\n",
       "      <td>2.0</td>\n",
       "      <td>1.0</td>\n",
       "      <td>1.0</td>\n",
       "      <td>2.0</td>\n",
       "      <td>1</td>\n",
       "      <td>3.0</td>\n",
       "      <td>1.0</td>\n",
       "      <td>2.0</td>\n",
       "    </tr>\n",
       "  </tbody>\n",
       "</table>\n",
       "<p>81767 rows × 17 columns</p>\n",
       "</div>"
      ],
      "text/plain": [
       "        W5B W11A MH2B W15_1A W15_1B W15_1C W15_1D W15_1E W15_2A W15_2B MH3B  \\\n",
       "43560   2.0    1    2    2.0    2.0    1.0    1.0    1.0    1.0    2.0  1.0   \n",
       "62908   4.0    1   99    4.0    3.0    1.0    1.0   99.0    3.0    1.0  3.0   \n",
       "34789   2.0    1    2    2.0    2.0    2.0    1.0    2.0    2.0    2.0  1.0   \n",
       "55266   1.0    2    1    1.0    1.0    1.0    1.0    1.0    2.0    1.0  1.0   \n",
       "75584  99.0    1    3    1.0    2.0    1.0    1.0    1.0    1.0    3.0  1.0   \n",
       "...     ...  ...  ...    ...    ...    ...    ...    ...    ...    ...  ...   \n",
       "50736   1.0    3    1    1.0    1.0    1.0    1.0    1.0    1.0    1.0  1.0   \n",
       "99189  99.0    1    4   99.0    1.0    2.0    2.0   99.0    1.0    1.0  2.0   \n",
       "5214    3.0    1    1    3.0    1.0    2.0    2.0    2.0    1.0    1.0  2.0   \n",
       "78640   3.0    1    3    2.0    2.0    1.0    1.0    3.0    3.0    2.0  3.0   \n",
       "99685   4.0    2    2    1.0    1.0    1.0    1.0    4.0    1.0    2.0  1.0   \n",
       "\n",
       "       MH3D  MH5 MH6   W28   W29  W30  \n",
       "43560   1.0  3.0  99  99.0  99.0  1.0  \n",
       "62908  99.0  1.0   2   3.0   3.0  3.0  \n",
       "34789   2.0  2.0   2  99.0  99.0  2.0  \n",
       "55266   1.0  1.0   1   1.0   1.0  1.0  \n",
       "75584   1.0  1.0   2   3.0   3.0  3.0  \n",
       "...     ...  ...  ..   ...   ...  ...  \n",
       "50736   2.0  2.0   2   3.0   3.0  4.0  \n",
       "99189   3.0  1.0   1   1.0   2.0  1.0  \n",
       "5214    1.0  2.0   1   3.0   2.0  2.0  \n",
       "78640   1.0  3.0   2   2.0   3.0  1.0  \n",
       "99685   1.0  2.0   1   3.0   1.0  2.0  \n",
       "\n",
       "[81767 rows x 17 columns]"
      ]
     },
     "execution_count": 68,
     "metadata": {},
     "output_type": "execute_result"
    }
   ],
   "source": [
    "X_fs"
   ]
  },
  {
   "cell_type": "code",
   "execution_count": 69,
   "id": "9df2a1bb",
   "metadata": {
    "scrolled": true
   },
   "outputs": [
    {
     "data": {
      "text/html": [
       "<div>\n",
       "<style scoped>\n",
       "    .dataframe tbody tr th:only-of-type {\n",
       "        vertical-align: middle;\n",
       "    }\n",
       "\n",
       "    .dataframe tbody tr th {\n",
       "        vertical-align: top;\n",
       "    }\n",
       "\n",
       "    .dataframe thead th {\n",
       "        text-align: right;\n",
       "    }\n",
       "</style>\n",
       "<table border=\"1\" class=\"dataframe\">\n",
       "  <thead>\n",
       "    <tr style=\"text-align: right;\">\n",
       "      <th></th>\n",
       "      <th>Gender</th>\n",
       "      <th>W5B</th>\n",
       "      <th>W11A</th>\n",
       "      <th>MH2B</th>\n",
       "      <th>W15_1A</th>\n",
       "      <th>W15_1B</th>\n",
       "      <th>W15_1C</th>\n",
       "      <th>W15_1D</th>\n",
       "      <th>W15_1E</th>\n",
       "      <th>W15_2A</th>\n",
       "      <th>W15_2B</th>\n",
       "      <th>MH3B</th>\n",
       "      <th>MH3D</th>\n",
       "      <th>MH5</th>\n",
       "      <th>MH6</th>\n",
       "      <th>W28</th>\n",
       "      <th>W29</th>\n",
       "      <th>W30</th>\n",
       "    </tr>\n",
       "  </thead>\n",
       "  <tbody>\n",
       "    <tr>\n",
       "      <th>43560</th>\n",
       "      <td>2</td>\n",
       "      <td>2.0</td>\n",
       "      <td>1</td>\n",
       "      <td>2</td>\n",
       "      <td>2.0</td>\n",
       "      <td>2.0</td>\n",
       "      <td>1.0</td>\n",
       "      <td>1.0</td>\n",
       "      <td>1.0</td>\n",
       "      <td>1.0</td>\n",
       "      <td>2.0</td>\n",
       "      <td>1.0</td>\n",
       "      <td>1.0</td>\n",
       "      <td>3.0</td>\n",
       "      <td>99</td>\n",
       "      <td>99.0</td>\n",
       "      <td>99.0</td>\n",
       "      <td>1.0</td>\n",
       "    </tr>\n",
       "    <tr>\n",
       "      <th>62908</th>\n",
       "      <td>1</td>\n",
       "      <td>4.0</td>\n",
       "      <td>1</td>\n",
       "      <td>99</td>\n",
       "      <td>4.0</td>\n",
       "      <td>3.0</td>\n",
       "      <td>1.0</td>\n",
       "      <td>1.0</td>\n",
       "      <td>99.0</td>\n",
       "      <td>3.0</td>\n",
       "      <td>1.0</td>\n",
       "      <td>3.0</td>\n",
       "      <td>99.0</td>\n",
       "      <td>1.0</td>\n",
       "      <td>2</td>\n",
       "      <td>3.0</td>\n",
       "      <td>3.0</td>\n",
       "      <td>3.0</td>\n",
       "    </tr>\n",
       "    <tr>\n",
       "      <th>34789</th>\n",
       "      <td>2</td>\n",
       "      <td>2.0</td>\n",
       "      <td>1</td>\n",
       "      <td>2</td>\n",
       "      <td>2.0</td>\n",
       "      <td>2.0</td>\n",
       "      <td>2.0</td>\n",
       "      <td>1.0</td>\n",
       "      <td>2.0</td>\n",
       "      <td>2.0</td>\n",
       "      <td>2.0</td>\n",
       "      <td>1.0</td>\n",
       "      <td>2.0</td>\n",
       "      <td>2.0</td>\n",
       "      <td>2</td>\n",
       "      <td>99.0</td>\n",
       "      <td>99.0</td>\n",
       "      <td>2.0</td>\n",
       "    </tr>\n",
       "    <tr>\n",
       "      <th>55266</th>\n",
       "      <td>2</td>\n",
       "      <td>1.0</td>\n",
       "      <td>2</td>\n",
       "      <td>1</td>\n",
       "      <td>1.0</td>\n",
       "      <td>1.0</td>\n",
       "      <td>1.0</td>\n",
       "      <td>1.0</td>\n",
       "      <td>1.0</td>\n",
       "      <td>2.0</td>\n",
       "      <td>1.0</td>\n",
       "      <td>1.0</td>\n",
       "      <td>1.0</td>\n",
       "      <td>1.0</td>\n",
       "      <td>1</td>\n",
       "      <td>1.0</td>\n",
       "      <td>1.0</td>\n",
       "      <td>1.0</td>\n",
       "    </tr>\n",
       "    <tr>\n",
       "      <th>75584</th>\n",
       "      <td>2</td>\n",
       "      <td>99.0</td>\n",
       "      <td>1</td>\n",
       "      <td>3</td>\n",
       "      <td>1.0</td>\n",
       "      <td>2.0</td>\n",
       "      <td>1.0</td>\n",
       "      <td>1.0</td>\n",
       "      <td>1.0</td>\n",
       "      <td>1.0</td>\n",
       "      <td>3.0</td>\n",
       "      <td>1.0</td>\n",
       "      <td>1.0</td>\n",
       "      <td>1.0</td>\n",
       "      <td>2</td>\n",
       "      <td>3.0</td>\n",
       "      <td>3.0</td>\n",
       "      <td>3.0</td>\n",
       "    </tr>\n",
       "    <tr>\n",
       "      <th>...</th>\n",
       "      <td>...</td>\n",
       "      <td>...</td>\n",
       "      <td>...</td>\n",
       "      <td>...</td>\n",
       "      <td>...</td>\n",
       "      <td>...</td>\n",
       "      <td>...</td>\n",
       "      <td>...</td>\n",
       "      <td>...</td>\n",
       "      <td>...</td>\n",
       "      <td>...</td>\n",
       "      <td>...</td>\n",
       "      <td>...</td>\n",
       "      <td>...</td>\n",
       "      <td>...</td>\n",
       "      <td>...</td>\n",
       "      <td>...</td>\n",
       "      <td>...</td>\n",
       "    </tr>\n",
       "    <tr>\n",
       "      <th>50736</th>\n",
       "      <td>2</td>\n",
       "      <td>1.0</td>\n",
       "      <td>3</td>\n",
       "      <td>1</td>\n",
       "      <td>1.0</td>\n",
       "      <td>1.0</td>\n",
       "      <td>1.0</td>\n",
       "      <td>1.0</td>\n",
       "      <td>1.0</td>\n",
       "      <td>1.0</td>\n",
       "      <td>1.0</td>\n",
       "      <td>1.0</td>\n",
       "      <td>2.0</td>\n",
       "      <td>2.0</td>\n",
       "      <td>2</td>\n",
       "      <td>3.0</td>\n",
       "      <td>3.0</td>\n",
       "      <td>4.0</td>\n",
       "    </tr>\n",
       "    <tr>\n",
       "      <th>99189</th>\n",
       "      <td>1</td>\n",
       "      <td>99.0</td>\n",
       "      <td>1</td>\n",
       "      <td>4</td>\n",
       "      <td>99.0</td>\n",
       "      <td>1.0</td>\n",
       "      <td>2.0</td>\n",
       "      <td>2.0</td>\n",
       "      <td>99.0</td>\n",
       "      <td>1.0</td>\n",
       "      <td>1.0</td>\n",
       "      <td>2.0</td>\n",
       "      <td>3.0</td>\n",
       "      <td>1.0</td>\n",
       "      <td>1</td>\n",
       "      <td>1.0</td>\n",
       "      <td>2.0</td>\n",
       "      <td>1.0</td>\n",
       "    </tr>\n",
       "    <tr>\n",
       "      <th>5214</th>\n",
       "      <td>2</td>\n",
       "      <td>3.0</td>\n",
       "      <td>1</td>\n",
       "      <td>1</td>\n",
       "      <td>3.0</td>\n",
       "      <td>1.0</td>\n",
       "      <td>2.0</td>\n",
       "      <td>2.0</td>\n",
       "      <td>2.0</td>\n",
       "      <td>1.0</td>\n",
       "      <td>1.0</td>\n",
       "      <td>2.0</td>\n",
       "      <td>1.0</td>\n",
       "      <td>2.0</td>\n",
       "      <td>1</td>\n",
       "      <td>3.0</td>\n",
       "      <td>2.0</td>\n",
       "      <td>2.0</td>\n",
       "    </tr>\n",
       "    <tr>\n",
       "      <th>78640</th>\n",
       "      <td>2</td>\n",
       "      <td>3.0</td>\n",
       "      <td>1</td>\n",
       "      <td>3</td>\n",
       "      <td>2.0</td>\n",
       "      <td>2.0</td>\n",
       "      <td>1.0</td>\n",
       "      <td>1.0</td>\n",
       "      <td>3.0</td>\n",
       "      <td>3.0</td>\n",
       "      <td>2.0</td>\n",
       "      <td>3.0</td>\n",
       "      <td>1.0</td>\n",
       "      <td>3.0</td>\n",
       "      <td>2</td>\n",
       "      <td>2.0</td>\n",
       "      <td>3.0</td>\n",
       "      <td>1.0</td>\n",
       "    </tr>\n",
       "    <tr>\n",
       "      <th>99685</th>\n",
       "      <td>2</td>\n",
       "      <td>4.0</td>\n",
       "      <td>2</td>\n",
       "      <td>2</td>\n",
       "      <td>1.0</td>\n",
       "      <td>1.0</td>\n",
       "      <td>1.0</td>\n",
       "      <td>1.0</td>\n",
       "      <td>4.0</td>\n",
       "      <td>1.0</td>\n",
       "      <td>2.0</td>\n",
       "      <td>1.0</td>\n",
       "      <td>1.0</td>\n",
       "      <td>2.0</td>\n",
       "      <td>1</td>\n",
       "      <td>3.0</td>\n",
       "      <td>1.0</td>\n",
       "      <td>2.0</td>\n",
       "    </tr>\n",
       "  </tbody>\n",
       "</table>\n",
       "<p>81767 rows × 18 columns</p>\n",
       "</div>"
      ],
      "text/plain": [
       "      Gender   W5B W11A MH2B W15_1A W15_1B W15_1C W15_1D W15_1E W15_2A W15_2B  \\\n",
       "43560      2   2.0    1    2    2.0    2.0    1.0    1.0    1.0    1.0    2.0   \n",
       "62908      1   4.0    1   99    4.0    3.0    1.0    1.0   99.0    3.0    1.0   \n",
       "34789      2   2.0    1    2    2.0    2.0    2.0    1.0    2.0    2.0    2.0   \n",
       "55266      2   1.0    2    1    1.0    1.0    1.0    1.0    1.0    2.0    1.0   \n",
       "75584      2  99.0    1    3    1.0    2.0    1.0    1.0    1.0    1.0    3.0   \n",
       "...      ...   ...  ...  ...    ...    ...    ...    ...    ...    ...    ...   \n",
       "50736      2   1.0    3    1    1.0    1.0    1.0    1.0    1.0    1.0    1.0   \n",
       "99189      1  99.0    1    4   99.0    1.0    2.0    2.0   99.0    1.0    1.0   \n",
       "5214       2   3.0    1    1    3.0    1.0    2.0    2.0    2.0    1.0    1.0   \n",
       "78640      2   3.0    1    3    2.0    2.0    1.0    1.0    3.0    3.0    2.0   \n",
       "99685      2   4.0    2    2    1.0    1.0    1.0    1.0    4.0    1.0    2.0   \n",
       "\n",
       "      MH3B  MH3D  MH5 MH6   W28   W29  W30  \n",
       "43560  1.0   1.0  3.0  99  99.0  99.0  1.0  \n",
       "62908  3.0  99.0  1.0   2   3.0   3.0  3.0  \n",
       "34789  1.0   2.0  2.0   2  99.0  99.0  2.0  \n",
       "55266  1.0   1.0  1.0   1   1.0   1.0  1.0  \n",
       "75584  1.0   1.0  1.0   2   3.0   3.0  3.0  \n",
       "...    ...   ...  ...  ..   ...   ...  ...  \n",
       "50736  1.0   2.0  2.0   2   3.0   3.0  4.0  \n",
       "99189  2.0   3.0  1.0   1   1.0   2.0  1.0  \n",
       "5214   2.0   1.0  2.0   1   3.0   2.0  2.0  \n",
       "78640  3.0   1.0  3.0   2   2.0   3.0  1.0  \n",
       "99685  1.0   1.0  2.0   1   3.0   1.0  2.0  \n",
       "\n",
       "[81767 rows x 18 columns]"
      ]
     },
     "execution_count": 69,
     "metadata": {},
     "output_type": "execute_result"
    }
   ],
   "source": [
    "# Let's add the demographic features into X_fs:\n",
    "X_train_fs = pd.concat([X_train.iloc[:,1], X_fs],axis=1)\n",
    "X_train_fs"
   ]
  },
  {
   "cell_type": "markdown",
   "id": "c17a9fde",
   "metadata": {},
   "source": [
    "Let's define some scoring metrics"
   ]
  },
  {
   "cell_type": "code",
   "execution_count": 70,
   "id": "476b31e9",
   "metadata": {},
   "outputs": [],
   "source": [
    "# Define custom scoring metrics\n",
    "scoring = {\n",
    "    'accuracy': make_scorer(accuracy_score),\n",
    "    'precision': make_scorer(precision_score),\n",
    "    'recall': make_scorer(recall_score),\n",
    "    'f1_score': make_scorer(f1_score)\n",
    "}"
   ]
  },
  {
   "cell_type": "markdown",
   "id": "9dd0faa1",
   "metadata": {},
   "source": [
    "#### Classification using smaller Feature Set"
   ]
  },
  {
   "cell_type": "markdown",
   "id": "cb4b6c17",
   "metadata": {},
   "source": [
    "First let's update X_test with the new features:"
   ]
  },
  {
   "cell_type": "code",
   "execution_count": 71,
   "id": "c82b1479",
   "metadata": {},
   "outputs": [
    {
     "name": "stdout",
     "output_type": "stream",
     "text": [
      "<class 'pandas.core.frame.DataFrame'>\n",
      "Int64Index: 81767 entries, 43560 to 99685\n",
      "Data columns (total 18 columns):\n",
      " #   Column  Non-Null Count  Dtype   \n",
      "---  ------  --------------  -----   \n",
      " 0   Gender  81767 non-null  category\n",
      " 1   W5B     81767 non-null  category\n",
      " 2   W11A    81767 non-null  category\n",
      " 3   MH2B    81767 non-null  category\n",
      " 4   W15_1A  81767 non-null  category\n",
      " 5   W15_1B  81767 non-null  category\n",
      " 6   W15_1C  81767 non-null  category\n",
      " 7   W15_1D  81767 non-null  category\n",
      " 8   W15_1E  81767 non-null  category\n",
      " 9   W15_2A  81767 non-null  category\n",
      " 10  W15_2B  81767 non-null  category\n",
      " 11  MH3B    81767 non-null  category\n",
      " 12  MH3D    81767 non-null  category\n",
      " 13  MH5     81767 non-null  category\n",
      " 14  MH6     81767 non-null  category\n",
      " 15  W28     81767 non-null  category\n",
      " 16  W29     81767 non-null  category\n",
      " 17  W30     81767 non-null  category\n",
      "dtypes: category(18)\n",
      "memory usage: 2.0 MB\n"
     ]
    }
   ],
   "source": [
    "X_train_fs.info() # 18 features now being used"
   ]
  },
  {
   "cell_type": "code",
   "execution_count": 72,
   "id": "1d51e6c4",
   "metadata": {},
   "outputs": [],
   "source": [
    "# Get columns to keep and create new dataframe with those only\n",
    "cols_idxs = selector.get_support(indices=True)\n",
    "X_test_fs = X_test.iloc[:,cols_idxs]\n",
    "\n",
    "# The testing set to be used\n",
    "X_test_fs = pd.concat([X_test.iloc[:,1],X_test_fs],axis=1)"
   ]
  },
  {
   "cell_type": "code",
   "execution_count": 73,
   "id": "ca05e9c7",
   "metadata": {},
   "outputs": [
    {
     "data": {
      "text/plain": [
       "(35043, 18)"
      ]
     },
     "execution_count": 73,
     "metadata": {},
     "output_type": "execute_result"
    }
   ],
   "source": [
    "X_test_fs.shape"
   ]
  },
  {
   "cell_type": "markdown",
   "id": "a2cc0758",
   "metadata": {},
   "source": [
    "### Random Forest Classifier"
   ]
  },
  {
   "cell_type": "code",
   "execution_count": 74,
   "id": "e600d237",
   "metadata": {},
   "outputs": [],
   "source": [
    "from sklearn.ensemble import RandomForestClassifier"
   ]
  },
  {
   "cell_type": "markdown",
   "id": "875b80b1",
   "metadata": {},
   "source": [
    "#### 10-fold Cross-validation"
   ]
  },
  {
   "cell_type": "code",
   "execution_count": 75,
   "id": "b351692c",
   "metadata": {},
   "outputs": [
    {
     "name": "stdout",
     "output_type": "stream",
     "text": [
      "{'fit_time': array([7.88579178, 7.7517395 , 7.77276683, 7.77676749, 7.82977962,\n",
      "       7.75074792, 7.82677937, 7.74575162, 7.84275413, 7.7307446 ]), 'score_time': array([0.21504259, 0.22404552, 0.21803474, 0.21703529, 0.2190361 ,\n",
      "       0.22705293, 0.21905231, 0.21304202, 0.21506095, 0.21603417]), 'test_accuracy': array([0.79209979, 0.78476214, 0.78818638, 0.78659655, 0.79173291,\n",
      "       0.78830867, 0.78892014, 0.79378669, 0.78742661, 0.79219667]), 'test_precision': array([0.48044693, 0.42831858, 0.45009416, 0.43678161, 0.47674419,\n",
      "       0.45272727, 0.45454545, 0.49295775, 0.44402277, 0.47826087]), 'test_recall': array([0.15366289, 0.14413341, 0.14234663, 0.13579512, 0.14651578,\n",
      "       0.14830256, 0.13690476, 0.14592019, 0.13936867, 0.13103038]), 'test_f1_score': array([0.23285199, 0.21568627, 0.21628959, 0.20717856, 0.22414579,\n",
      "       0.22341857, 0.21043001, 0.22518382, 0.21214869, 0.2057036 ])}\n"
     ]
    }
   ],
   "source": [
    "# Create Random Forest Classifier object\n",
    "clf_RF = RandomForestClassifier()\n",
    "\n",
    "# Perform 10-fold cross-validation with custom scoring metrics\n",
    "cv_results = cross_validate(clf_RF, X_train_fs, y_train, cv=10, scoring=scoring)\n",
    "\n",
    "# Print the results\n",
    "print(cv_results)"
   ]
  },
  {
   "cell_type": "code",
   "execution_count": 76,
   "id": "16184648",
   "metadata": {},
   "outputs": [
    {
     "name": "stdout",
     "output_type": "stream",
     "text": [
      "Random Forest F1-score\n",
      "Mean: 0.21730368851549886\n",
      "Std: 0.008382114933411214\n"
     ]
    }
   ],
   "source": [
    "# 10-fold cross-validation\n",
    "print(\"Random Forest F1-score\\nMean: {mean}\\nStd: {std}\".format(mean=np.mean(cv_results['test_f1_score']),\n",
    "                                                                      std=np.std(cv_results['test_f1_score'])))"
   ]
  },
  {
   "cell_type": "markdown",
   "id": "f74961b2",
   "metadata": {},
   "source": [
    "#### Using the Testing Set:"
   ]
  },
  {
   "cell_type": "code",
   "execution_count": 77,
   "id": "57a4e03b",
   "metadata": {},
   "outputs": [
    {
     "name": "stdout",
     "output_type": "stream",
     "text": [
      "[[ 1124  6056]\n",
      " [ 1291 26572]]\n"
     ]
    }
   ],
   "source": [
    "# Create Random Forest Classifier object\n",
    "clf_RF = RandomForestClassifier()\n",
    "\n",
    "# Fit the model\n",
    "clf_RF.fit(X_train_fs, y_train)\n",
    "\n",
    "# Predicting labels for the Test Set\n",
    "y_pred_RF = clf_RF.predict(X_test_fs)\n",
    "\n",
    "print(confusion_matrix(y_test, y_pred_RF))\n",
    "\n",
    "# TN, FP\n",
    "# FN, TP\n",
    "## y_pred: Predicted labels\n",
    "## y_test: True Labels"
   ]
  },
  {
   "cell_type": "code",
   "execution_count": 78,
   "id": "230eb877",
   "metadata": {},
   "outputs": [
    {
     "data": {
      "image/png": "[encoded data removed]",
      "text/plain": [
       "<Figure size 432x288 with 2 Axes>"
      ]
     },
     "metadata": {
      "needs_background": "light"
     },
     "output_type": "display_data"
    }
   ],
   "source": [
    "cm = confusion_matrix(y_test, y_pred_RF, labels=clf_RF.classes_)\n",
    "disp = ConfusionMatrixDisplay(confusion_matrix=cm,\n",
    "                              display_labels=clf_RF.classes_)\n",
    "disp.plot()\n",
    "plt.show()"
   ]
  },
  {
   "cell_type": "code",
   "execution_count": 79,
   "id": "f891f9d7",
   "metadata": {},
   "outputs": [
    {
     "name": "stdout",
     "output_type": "stream",
     "text": [
      "Accuracy: 0.7903432925263248\n",
      "Precision: 0.46542443064182193\n",
      "Recall: 0.1565459610027855\n",
      "F1 Score: 0.23428869202709743\n"
     ]
    }
   ],
   "source": [
    "print(\"Accuracy:\", accuracy_score(y_test, y_pred_RF))\n",
    "print(\"Precision:\", precision_score(y_test, y_pred_RF))\n",
    "print(\"Recall:\", recall_score(y_test, y_pred_RF))\n",
    "print(\"F1 Score:\", f1_score(y_test, y_pred_RF))"
   ]
  },
  {
   "cell_type": "code",
   "execution_count": 80,
   "id": "7b5400ff",
   "metadata": {},
   "outputs": [
    {
     "name": "stdout",
     "output_type": "stream",
     "text": [
      "              precision    recall  f1-score   support\n",
      "\n",
      "         1.0       0.47      0.16      0.23      7180\n",
      "         2.0       0.81      0.95      0.88     27863\n",
      "\n",
      "    accuracy                           0.79     35043\n",
      "   macro avg       0.64      0.56      0.56     35043\n",
      "weighted avg       0.74      0.79      0.75     35043\n",
      "\n"
     ]
    }
   ],
   "source": [
    "print(classification_report(y_test, y_pred_RF))"
   ]
  },
  {
   "cell_type": "markdown",
   "id": "276f3731",
   "metadata": {},
   "source": [
    "### Balancing the dataset\n",
    "Let's apply an imbalance treatment by undersampling the majority class (i.e. 'No' to MH7A)"
   ]
  },
  {
   "cell_type": "code",
   "execution_count": 81,
   "id": "60f69048",
   "metadata": {},
   "outputs": [],
   "source": [
    "from imblearn.under_sampling import RandomUnderSampler"
   ]
  },
  {
   "cell_type": "code",
   "execution_count": 82,
   "id": "fb261ace",
   "metadata": {},
   "outputs": [
    {
     "data": {
      "image/png": "[encoded data removed]",
      "text/plain": [
       "<Figure size 432x288 with 1 Axes>"
      ]
     },
     "metadata": {
      "needs_background": "light"
     },
     "output_type": "display_data"
    }
   ],
   "source": [
    "y_train.value_counts().plot(kind='bar', title='Training Set: Class Imbalance');"
   ]
  },
  {
   "cell_type": "code",
   "execution_count": 83,
   "id": "530ca11e",
   "metadata": {},
   "outputs": [
    {
     "data": {
      "image/png": "[encoded data removed]",
      "text/plain": [
       "<Figure size 432x288 with 1 Axes>"
      ]
     },
     "metadata": {
      "needs_background": "light"
     },
     "output_type": "display_data"
    }
   ],
   "source": [
    "rus = RandomUnderSampler(random_state=1)\n",
    "X_rus, y_rus = rus.fit_resample(X_train_fs, y_train)\n",
    "y_rus.value_counts().plot(kind='bar', title='Training Set: Undersampling Majority Class');"
   ]
  },
  {
   "cell_type": "markdown",
   "id": "f5aa03b8",
   "metadata": {},
   "source": [
    "#### 10 fold cross-validation"
   ]
  },
  {
   "cell_type": "code",
   "execution_count": 84,
   "id": "55626551",
   "metadata": {},
   "outputs": [
    {
     "name": "stdout",
     "output_type": "stream",
     "text": [
      "{'fit_time': array([2.98367214, 2.95566678, 3.07169318, 2.99368119, 2.95866728,\n",
      "       2.95265889, 2.95666695, 3.05070186, 2.97368884, 2.96266031]), 'score_time': array([0.08802032, 0.08802056, 0.08903265, 0.09602165, 0.08901978,\n",
      "       0.0910337 , 0.08701921, 0.08800697, 0.08801508, 0.0900352 ]), 'test_accuracy': array([0.70259006, 0.68919321, 0.69982132, 0.68612269, 0.70011912,\n",
      "       0.71560453, 0.71113758, 0.71620012, 0.69952353, 0.68910066]), 'test_precision': array([0.70136014, 0.68341999, 0.69700528, 0.68393172, 0.69672131,\n",
      "       0.70828539, 0.71063577, 0.71632896, 0.69682726, 0.68278641]), 'test_recall': array([0.70595238, 0.70458606, 0.70696843, 0.69207862, 0.70875521,\n",
      "       0.73317451, 0.71232877, 0.71590232, 0.70637284, 0.70637284]), 'test_f1_score': array([0.70364877, 0.69384164, 0.70195151, 0.68798105, 0.70268674,\n",
      "       0.72051507, 0.71148126, 0.71611558, 0.70156758, 0.69437939])}\n"
     ]
    }
   ],
   "source": [
    "# Create Random Forest Classifier object\n",
    "clf_RF = RandomForestClassifier()\n",
    "\n",
    "# Perform 10-fold cross-validation with custom scoring metrics\n",
    "cv_results = cross_validate(clf_RF, X_rus, y_rus, cv=10, scoring=scoring)\n",
    "\n",
    "# Print the results\n",
    "print(cv_results)"
   ]
  },
  {
   "cell_type": "code",
   "execution_count": 85,
   "id": "abf5a458",
   "metadata": {
    "scrolled": true
   },
   "outputs": [
    {
     "name": "stdout",
     "output_type": "stream",
     "text": [
      "Random Forest F1-score\n",
      "Mean: 0.7034168603328899\n",
      "Std: 0.009676877416469306\n"
     ]
    }
   ],
   "source": [
    "# 10-fold cross-validation; Balanced Dataset\n",
    "print(\"Random Forest F1-score\\nMean: {mean}\\nStd: {std}\".format(mean=np.mean(cv_results['test_f1_score']),\n",
    "                                                                      std=np.std(cv_results['test_f1_score'])))"
   ]
  },
  {
   "cell_type": "code",
   "execution_count": 86,
   "id": "115f15f0",
   "metadata": {},
   "outputs": [
    {
     "name": "stdout",
     "output_type": "stream",
     "text": [
      "Random Forest Average Fit Time: 2.985975742340088\n"
     ]
    }
   ],
   "source": [
    "# Fit Time\n",
    "print(\"Random Forest Average Fit Time: {fit}\".format(fit=np.mean(cv_results['fit_time'])))"
   ]
  },
  {
   "cell_type": "markdown",
   "id": "510ea95d",
   "metadata": {},
   "source": [
    "Apply on Testing Set:"
   ]
  },
  {
   "cell_type": "code",
   "execution_count": 87,
   "id": "509bef22",
   "metadata": {},
   "outputs": [
    {
     "name": "stdout",
     "output_type": "stream",
     "text": [
      "[[ 5063  2117]\n",
      " [ 8443 19420]]\n"
     ]
    }
   ],
   "source": [
    "# Create Random Forest Classifier object\n",
    "clf_RF = RandomForestClassifier()\n",
    "\n",
    "# Fit the model\n",
    "clf_RF.fit(X_rus, y_rus)\n",
    "\n",
    "# Predicting labels for the Test Set\n",
    "y_pred_RF = clf_RF.predict(X_test_fs)\n",
    "\n",
    "print(confusion_matrix(y_test, y_pred_RF))\n",
    "\n",
    "# TN, FP\n",
    "# FN, TP\n",
    "## y_pred: Predicted labels\n",
    "## y_test: True Labels"
   ]
  },
  {
   "cell_type": "code",
   "execution_count": 90,
   "id": "476fb0c9",
   "metadata": {},
   "outputs": [
    {
     "data": {
      "image/png": "[encoded data removed]",
      "text/plain": [
       "<Figure size 432x288 with 2 Axes>"
      ]
     },
     "metadata": {
      "needs_background": "light"
     },
     "output_type": "display_data"
    }
   ],
   "source": [
    "cm = confusion_matrix(y_test, y_pred_RF, labels=clf_RF.classes_)\n",
    "disp = ConfusionMatrixDisplay(confusion_matrix=cm,\n",
    "                              display_labels=clf_RF.classes_)\n",
    "disp.plot()\n",
    "plt.title('Random Forest')\n",
    "plt.show()"
   ]
  },
  {
   "cell_type": "code",
   "execution_count": 91,
   "id": "c5dd20bc",
   "metadata": {},
   "outputs": [
    {
     "name": "stdout",
     "output_type": "stream",
     "text": [
      "Accuracy: 0.6986559369916959\n",
      "Precision: 0.3748704279579446\n",
      "Recall: 0.7051532033426184\n",
      "F1 Score: 0.48950981340036737\n",
      "MCC: 0.33349698295509467\n"
     ]
    }
   ],
   "source": [
    "print(\"Accuracy:\", accuracy_score(y_test, y_pred_RF))\n",
    "print(\"Precision:\", precision_score(y_test, y_pred_RF))\n",
    "print(\"Recall:\", recall_score(y_test, y_pred_RF))\n",
    "print(\"F1 Score:\", f1_score(y_test, y_pred_RF))\n",
    "print(\"MCC:\", matthews_corrcoef(y_test, y_pred_RF))"
   ]
  },
  {
   "cell_type": "code",
   "execution_count": 92,
   "id": "085a29e8",
   "metadata": {},
   "outputs": [
    {
     "name": "stdout",
     "output_type": "stream",
     "text": [
      "              precision    recall  f1-score   support\n",
      "\n",
      "         1.0       0.37      0.71      0.49      7180\n",
      "         2.0       0.90      0.70      0.79     27863\n",
      "\n",
      "    accuracy                           0.70     35043\n",
      "   macro avg       0.64      0.70      0.64     35043\n",
      "weighted avg       0.79      0.70      0.73     35043\n",
      "\n"
     ]
    }
   ],
   "source": [
    "print(classification_report(y_test, y_pred_RF))"
   ]
  },
  {
   "cell_type": "markdown",
   "id": "ab59108b",
   "metadata": {},
   "source": [
    "### Removing the demographic feature of gender\n",
    "- Only using Behavioural/Beliefs features"
   ]
  },
  {
   "cell_type": "code",
   "execution_count": 93,
   "id": "65acded0",
   "metadata": {},
   "outputs": [
    {
     "data": {
      "text/plain": [
       "Index(['Gender', 'W5B', 'W11A', 'MH2B', 'W15_1A', 'W15_1B', 'W15_1C', 'W15_1D',\n",
       "       'W15_1E', 'W15_2A', 'W15_2B', 'MH3B', 'MH3D', 'MH5', 'MH6', 'W28',\n",
       "       'W29', 'W30'],\n",
       "      dtype='object')"
      ]
     },
     "execution_count": 93,
     "metadata": {},
     "output_type": "execute_result"
    }
   ],
   "source": [
    "X_rus.columns"
   ]
  },
  {
   "cell_type": "code",
   "execution_count": 94,
   "id": "abeb989b",
   "metadata": {},
   "outputs": [],
   "source": [
    "X_rus.drop('Gender', axis=1, inplace=True)"
   ]
  },
  {
   "cell_type": "code",
   "execution_count": 95,
   "id": "38c4b72a",
   "metadata": {},
   "outputs": [
    {
     "data": {
      "text/html": [
       "<div>\n",
       "<style scoped>\n",
       "    .dataframe tbody tr th:only-of-type {\n",
       "        vertical-align: middle;\n",
       "    }\n",
       "\n",
       "    .dataframe tbody tr th {\n",
       "        vertical-align: top;\n",
       "    }\n",
       "\n",
       "    .dataframe thead th {\n",
       "        text-align: right;\n",
       "    }\n",
       "</style>\n",
       "<table border=\"1\" class=\"dataframe\">\n",
       "  <thead>\n",
       "    <tr style=\"text-align: right;\">\n",
       "      <th></th>\n",
       "      <th>W5B</th>\n",
       "      <th>W11A</th>\n",
       "      <th>MH2B</th>\n",
       "      <th>W15_1A</th>\n",
       "      <th>W15_1B</th>\n",
       "      <th>W15_1C</th>\n",
       "      <th>W15_1D</th>\n",
       "      <th>W15_1E</th>\n",
       "      <th>W15_2A</th>\n",
       "      <th>W15_2B</th>\n",
       "      <th>MH3B</th>\n",
       "      <th>MH3D</th>\n",
       "      <th>MH5</th>\n",
       "      <th>MH6</th>\n",
       "      <th>W28</th>\n",
       "      <th>W29</th>\n",
       "      <th>W30</th>\n",
       "    </tr>\n",
       "  </thead>\n",
       "  <tbody>\n",
       "    <tr>\n",
       "      <th>0</th>\n",
       "      <td>2.0</td>\n",
       "      <td>1</td>\n",
       "      <td>2</td>\n",
       "      <td>2.0</td>\n",
       "      <td>2.0</td>\n",
       "      <td>2.0</td>\n",
       "      <td>1.0</td>\n",
       "      <td>2.0</td>\n",
       "      <td>2.0</td>\n",
       "      <td>2.0</td>\n",
       "      <td>1.0</td>\n",
       "      <td>2.0</td>\n",
       "      <td>2.0</td>\n",
       "      <td>2</td>\n",
       "      <td>99.0</td>\n",
       "      <td>99.0</td>\n",
       "      <td>2.0</td>\n",
       "    </tr>\n",
       "    <tr>\n",
       "      <th>1</th>\n",
       "      <td>1.0</td>\n",
       "      <td>2</td>\n",
       "      <td>1</td>\n",
       "      <td>1.0</td>\n",
       "      <td>1.0</td>\n",
       "      <td>1.0</td>\n",
       "      <td>1.0</td>\n",
       "      <td>1.0</td>\n",
       "      <td>2.0</td>\n",
       "      <td>1.0</td>\n",
       "      <td>1.0</td>\n",
       "      <td>1.0</td>\n",
       "      <td>1.0</td>\n",
       "      <td>1</td>\n",
       "      <td>1.0</td>\n",
       "      <td>1.0</td>\n",
       "      <td>1.0</td>\n",
       "    </tr>\n",
       "    <tr>\n",
       "      <th>2</th>\n",
       "      <td>4.0</td>\n",
       "      <td>1</td>\n",
       "      <td>4</td>\n",
       "      <td>4.0</td>\n",
       "      <td>4.0</td>\n",
       "      <td>1.0</td>\n",
       "      <td>4.0</td>\n",
       "      <td>4.0</td>\n",
       "      <td>2.0</td>\n",
       "      <td>2.0</td>\n",
       "      <td>4.0</td>\n",
       "      <td>1.0</td>\n",
       "      <td>1.0</td>\n",
       "      <td>1</td>\n",
       "      <td>5.0</td>\n",
       "      <td>1.0</td>\n",
       "      <td>1.0</td>\n",
       "    </tr>\n",
       "    <tr>\n",
       "      <th>3</th>\n",
       "      <td>1.0</td>\n",
       "      <td>2</td>\n",
       "      <td>3</td>\n",
       "      <td>3.0</td>\n",
       "      <td>4.0</td>\n",
       "      <td>2.0</td>\n",
       "      <td>1.0</td>\n",
       "      <td>4.0</td>\n",
       "      <td>1.0</td>\n",
       "      <td>1.0</td>\n",
       "      <td>2.0</td>\n",
       "      <td>3.0</td>\n",
       "      <td>3.0</td>\n",
       "      <td>2</td>\n",
       "      <td>3.0</td>\n",
       "      <td>3.0</td>\n",
       "      <td>1.0</td>\n",
       "    </tr>\n",
       "    <tr>\n",
       "      <th>4</th>\n",
       "      <td>4.0</td>\n",
       "      <td>1</td>\n",
       "      <td>2</td>\n",
       "      <td>2.0</td>\n",
       "      <td>4.0</td>\n",
       "      <td>2.0</td>\n",
       "      <td>2.0</td>\n",
       "      <td>4.0</td>\n",
       "      <td>1.0</td>\n",
       "      <td>4.0</td>\n",
       "      <td>2.0</td>\n",
       "      <td>2.0</td>\n",
       "      <td>3.0</td>\n",
       "      <td>1</td>\n",
       "      <td>3.0</td>\n",
       "      <td>3.0</td>\n",
       "      <td>1.0</td>\n",
       "    </tr>\n",
       "    <tr>\n",
       "      <th>...</th>\n",
       "      <td>...</td>\n",
       "      <td>...</td>\n",
       "      <td>...</td>\n",
       "      <td>...</td>\n",
       "      <td>...</td>\n",
       "      <td>...</td>\n",
       "      <td>...</td>\n",
       "      <td>...</td>\n",
       "      <td>...</td>\n",
       "      <td>...</td>\n",
       "      <td>...</td>\n",
       "      <td>...</td>\n",
       "      <td>...</td>\n",
       "      <td>...</td>\n",
       "      <td>...</td>\n",
       "      <td>...</td>\n",
       "      <td>...</td>\n",
       "    </tr>\n",
       "    <tr>\n",
       "      <th>33577</th>\n",
       "      <td>2.0</td>\n",
       "      <td>2</td>\n",
       "      <td>3</td>\n",
       "      <td>2.0</td>\n",
       "      <td>2.0</td>\n",
       "      <td>2.0</td>\n",
       "      <td>2.0</td>\n",
       "      <td>4.0</td>\n",
       "      <td>4.0</td>\n",
       "      <td>2.0</td>\n",
       "      <td>2.0</td>\n",
       "      <td>3.0</td>\n",
       "      <td>3.0</td>\n",
       "      <td>2</td>\n",
       "      <td>1.0</td>\n",
       "      <td>3.0</td>\n",
       "      <td>1.0</td>\n",
       "    </tr>\n",
       "    <tr>\n",
       "      <th>33578</th>\n",
       "      <td>3.0</td>\n",
       "      <td>2</td>\n",
       "      <td>3</td>\n",
       "      <td>2.0</td>\n",
       "      <td>2.0</td>\n",
       "      <td>1.0</td>\n",
       "      <td>1.0</td>\n",
       "      <td>2.0</td>\n",
       "      <td>4.0</td>\n",
       "      <td>1.0</td>\n",
       "      <td>2.0</td>\n",
       "      <td>1.0</td>\n",
       "      <td>2.0</td>\n",
       "      <td>2</td>\n",
       "      <td>3.0</td>\n",
       "      <td>1.0</td>\n",
       "      <td>2.0</td>\n",
       "    </tr>\n",
       "    <tr>\n",
       "      <th>33579</th>\n",
       "      <td>4.0</td>\n",
       "      <td>1</td>\n",
       "      <td>1</td>\n",
       "      <td>4.0</td>\n",
       "      <td>1.0</td>\n",
       "      <td>1.0</td>\n",
       "      <td>1.0</td>\n",
       "      <td>4.0</td>\n",
       "      <td>4.0</td>\n",
       "      <td>1.0</td>\n",
       "      <td>1.0</td>\n",
       "      <td>1.0</td>\n",
       "      <td>2.0</td>\n",
       "      <td>1</td>\n",
       "      <td>4.0</td>\n",
       "      <td>3.0</td>\n",
       "      <td>99.0</td>\n",
       "    </tr>\n",
       "    <tr>\n",
       "      <th>33580</th>\n",
       "      <td>1.0</td>\n",
       "      <td>99</td>\n",
       "      <td>99</td>\n",
       "      <td>99.0</td>\n",
       "      <td>99.0</td>\n",
       "      <td>99.0</td>\n",
       "      <td>1.0</td>\n",
       "      <td>1.0</td>\n",
       "      <td>1.0</td>\n",
       "      <td>1.0</td>\n",
       "      <td>2.0</td>\n",
       "      <td>2.0</td>\n",
       "      <td>3.0</td>\n",
       "      <td>2</td>\n",
       "      <td>6.0</td>\n",
       "      <td>2.0</td>\n",
       "      <td>99.0</td>\n",
       "    </tr>\n",
       "    <tr>\n",
       "      <th>33581</th>\n",
       "      <td>1.0</td>\n",
       "      <td>1</td>\n",
       "      <td>1</td>\n",
       "      <td>1.0</td>\n",
       "      <td>1.0</td>\n",
       "      <td>1.0</td>\n",
       "      <td>1.0</td>\n",
       "      <td>1.0</td>\n",
       "      <td>1.0</td>\n",
       "      <td>1.0</td>\n",
       "      <td>1.0</td>\n",
       "      <td>1.0</td>\n",
       "      <td>2.0</td>\n",
       "      <td>2</td>\n",
       "      <td>1.0</td>\n",
       "      <td>2.0</td>\n",
       "      <td>1.0</td>\n",
       "    </tr>\n",
       "  </tbody>\n",
       "</table>\n",
       "<p>33582 rows × 17 columns</p>\n",
       "</div>"
      ],
      "text/plain": [
       "       W5B W11A MH2B W15_1A W15_1B W15_1C W15_1D W15_1E W15_2A W15_2B MH3B  \\\n",
       "0      2.0    1    2    2.0    2.0    2.0    1.0    2.0    2.0    2.0  1.0   \n",
       "1      1.0    2    1    1.0    1.0    1.0    1.0    1.0    2.0    1.0  1.0   \n",
       "2      4.0    1    4    4.0    4.0    1.0    4.0    4.0    2.0    2.0  4.0   \n",
       "3      1.0    2    3    3.0    4.0    2.0    1.0    4.0    1.0    1.0  2.0   \n",
       "4      4.0    1    2    2.0    4.0    2.0    2.0    4.0    1.0    4.0  2.0   \n",
       "...    ...  ...  ...    ...    ...    ...    ...    ...    ...    ...  ...   \n",
       "33577  2.0    2    3    2.0    2.0    2.0    2.0    4.0    4.0    2.0  2.0   \n",
       "33578  3.0    2    3    2.0    2.0    1.0    1.0    2.0    4.0    1.0  2.0   \n",
       "33579  4.0    1    1    4.0    1.0    1.0    1.0    4.0    4.0    1.0  1.0   \n",
       "33580  1.0   99   99   99.0   99.0   99.0    1.0    1.0    1.0    1.0  2.0   \n",
       "33581  1.0    1    1    1.0    1.0    1.0    1.0    1.0    1.0    1.0  1.0   \n",
       "\n",
       "      MH3D  MH5 MH6   W28   W29   W30  \n",
       "0      2.0  2.0   2  99.0  99.0   2.0  \n",
       "1      1.0  1.0   1   1.0   1.0   1.0  \n",
       "2      1.0  1.0   1   5.0   1.0   1.0  \n",
       "3      3.0  3.0   2   3.0   3.0   1.0  \n",
       "4      2.0  3.0   1   3.0   3.0   1.0  \n",
       "...    ...  ...  ..   ...   ...   ...  \n",
       "33577  3.0  3.0   2   1.0   3.0   1.0  \n",
       "33578  1.0  2.0   2   3.0   1.0   2.0  \n",
       "33579  1.0  2.0   1   4.0   3.0  99.0  \n",
       "33580  2.0  3.0   2   6.0   2.0  99.0  \n",
       "33581  1.0  2.0   2   1.0   2.0   1.0  \n",
       "\n",
       "[33582 rows x 17 columns]"
      ]
     },
     "execution_count": 95,
     "metadata": {},
     "output_type": "execute_result"
    }
   ],
   "source": [
    "X_rus"
   ]
  },
  {
   "cell_type": "code",
   "execution_count": 96,
   "id": "4b8fb01a",
   "metadata": {},
   "outputs": [],
   "source": [
    "X_test_fs.drop('Gender', axis=1, inplace=True)"
   ]
  },
  {
   "cell_type": "code",
   "execution_count": 97,
   "id": "09be789c",
   "metadata": {
    "scrolled": true
   },
   "outputs": [
    {
     "name": "stdout",
     "output_type": "stream",
     "text": [
      "{'fit_time': array([3.02169394, 2.97066975, 3.01966262, 2.99367332, 3.06270981,\n",
      "       3.13470578, 3.03469086, 3.01666737, 2.9866724 , 3.0996933 ]), 'score_time': array([0.08902025, 0.08601618, 0.10002327, 0.08903956, 0.10800743,\n",
      "       0.10902309, 0.0890069 , 0.08603263, 0.08623981, 0.08802605]), 'test_accuracy': array([0.70526943, 0.69127717, 0.69803454, 0.68790947, 0.69535438,\n",
      "       0.7096486 , 0.70607504, 0.71679571, 0.68671828, 0.69148303]), 'test_precision': array([0.70341981, 0.68838028, 0.695934  , 0.6852613 , 0.6922626 ,\n",
      "       0.70323326, 0.70257611, 0.71796407, 0.68738793, 0.68616097]), 'test_recall': array([0.71011905, 0.69863014, 0.70339488, 0.69505658, 0.70339488,\n",
      "       0.7254318 , 0.71471114, 0.71411554, 0.68493151, 0.70577725]), 'test_f1_score': array([0.70675355, 0.69346734, 0.69964455, 0.69012419, 0.69778434,\n",
      "       0.71416007, 0.70859167, 0.71603464, 0.68615752, 0.69583089])}\n"
     ]
    }
   ],
   "source": [
    "# Create Random Forest Classifier object\n",
    "clf_RF = RandomForestClassifier()\n",
    "\n",
    "# Perform 10-fold cross-validation with custom scoring metrics\n",
    "cv_results = cross_validate(clf_RF, X_rus, y_rus, cv=10, scoring=scoring)\n",
    "\n",
    "# Print the results\n",
    "print(cv_results)"
   ]
  },
  {
   "cell_type": "code",
   "execution_count": 98,
   "id": "3a4e8150",
   "metadata": {},
   "outputs": [
    {
     "name": "stdout",
     "output_type": "stream",
     "text": [
      "Random Forest F1-score\n",
      "Mean: 0.700854875669273\n",
      "Std: 0.009612362321380869\n"
     ]
    }
   ],
   "source": [
    "# 10-fold cross-validation\n",
    "print(\"Random Forest F1-score\\nMean: {mean}\\nStd: {std}\".format(mean=np.mean(cv_results['test_f1_score']),\n",
    "                                                                      std=np.std(cv_results['test_f1_score'])))"
   ]
  },
  {
   "cell_type": "code",
   "execution_count": 102,
   "id": "77c2221b",
   "metadata": {},
   "outputs": [
    {
     "name": "stdout",
     "output_type": "stream",
     "text": [
      "[[ 5071  2109]\n",
      " [ 8461 19402]]\n"
     ]
    }
   ],
   "source": [
    "# Create Random Forest Classifier object\n",
    "clf_RF = RandomForestClassifier()\n",
    "\n",
    "# Fit the model\n",
    "clf_RF.fit(X_rus, y_rus)\n",
    "\n",
    "# Predicting labels for the Test Set\n",
    "y_pred_RF = clf_RF.predict(X_test_fs)\n",
    "\n",
    "print(confusion_matrix(y_test, y_pred_RF))\n",
    "\n",
    "# TN, FP\n",
    "# FN, TP\n",
    "## y_pred: Predicted labels\n",
    "## y_test: True Labels"
   ]
  },
  {
   "cell_type": "code",
   "execution_count": 109,
   "id": "02094df2",
   "metadata": {},
   "outputs": [
    {
     "data": {
      "image/png": "[encoded data removed]",
      "text/plain": [
       "<Figure size 432x288 with 2 Axes>"
      ]
     },
     "metadata": {
      "needs_background": "light"
     },
     "output_type": "display_data"
    }
   ],
   "source": [
    "cm = confusion_matrix(y_test, y_pred_RF, labels=clf_RF.classes_)\n",
    "disp = ConfusionMatrixDisplay(confusion_matrix=cm,\n",
    "                              display_labels=clf_RF.classes_)\n",
    "disp.plot()\n",
    "plt.title('Gender Unaware Random Forest')\n",
    "plt.show()"
   ]
  },
  {
   "cell_type": "code",
   "execution_count": 104,
   "id": "1a294a2b",
   "metadata": {},
   "outputs": [
    {
     "name": "stdout",
     "output_type": "stream",
     "text": [
      "Accuracy: 0.6983705732956653\n",
      "Precision: 0.37474135382796336\n",
      "Recall: 0.7062674094707521\n",
      "F1 Score: 0.48966782541521814\n",
      "MCC: 0.3337658719824972\n"
     ]
    }
   ],
   "source": [
    "print(\"Accuracy:\", accuracy_score(y_test, y_pred_RF))\n",
    "print(\"Precision:\", precision_score(y_test, y_pred_RF))\n",
    "print(\"Recall:\", recall_score(y_test, y_pred_RF))\n",
    "print(\"F1 Score:\", f1_score(y_test, y_pred_RF))\n",
    "print(\"MCC:\", matthews_corrcoef(y_test, y_pred_RF))"
   ]
  },
  {
   "cell_type": "code",
   "execution_count": 48,
   "id": "81bfe69f",
   "metadata": {},
   "outputs": [
    {
     "name": "stdout",
     "output_type": "stream",
     "text": [
      "              precision    recall  f1-score   support\n",
      "\n",
      "         1.0       0.37      0.70      0.49      7180\n",
      "         2.0       0.90      0.69      0.78     27863\n",
      "\n",
      "    accuracy                           0.70     35043\n",
      "   macro avg       0.64      0.70      0.64     35043\n",
      "weighted avg       0.79      0.70      0.72     35043\n",
      "\n"
     ]
    }
   ],
   "source": [
    "print(classification_report(y_test, y_pred_RF))"
   ]
  },
  {
   "cell_type": "code",
   "execution_count": null,
   "id": "fe12fa09",
   "metadata": {},
   "outputs": [],
   "source": []
  }
 ],
 "metadata": {
  "kernelspec": {
   "display_name": "Python 3 (ipykernel)",
   "language": "python",
   "name": "python3"
  },
  "language_info": {
   "codemirror_mode": {
    "name": "ipython",
    "version": 3
   },
   "file_extension": ".py",
   "mimetype": "text/x-python",
   "name": "python",
   "nbconvert_exporter": "python",
   "pygments_lexer": "ipython3",
   "version": "3.8.8"
  }
 },
 "nbformat": 4,
 "nbformat_minor": 5
}

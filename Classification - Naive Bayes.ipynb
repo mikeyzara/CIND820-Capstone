{
 "cells": [
  {
   "cell_type": "markdown",
   "id": "7d5eb86b",
   "metadata": {},
   "source": [
    "### Import Dataset and Organize the Dataframe"
   ]
  },
  {
   "cell_type": "code",
   "execution_count": 1,
   "id": "c40328dc",
   "metadata": {},
   "outputs": [],
   "source": [
    "# Let's import the necessary libraries\n",
    "import pandas as pd\n",
    "\n",
    "# Read in the dataset \n",
    "df = pd.read_csv('wgm_full_wave2_public_file_final_csv.csv',na_values=\" \", keep_default_na=False,low_memory=False)\n",
    "\n",
    "# Organizing the dataset:\n",
    "\n",
    "# DEMOGRAPHIC INFORMATION\n",
    "# Copy the original dataframe and select the columns associated with demograph information. \n",
    "#  These demographic factors are categorical variables; convert the datatype to 'categorical'\n",
    "demographicInfo = df.copy()[['Global11Regions','Gender', 'Age','age_var3',\n",
    "                             'Education','Household_Income','wbi',\n",
    "                             'Subjective_Income','EMP_2010']].astype('category')\n",
    "\n",
    "# First we add a new level/category of '99.0' to the feature:\n",
    "demographicInfo['Household_Income'] = demographicInfo['Household_Income'].cat.add_categories(99.0)\n",
    "demographicInfo['EMP_2010'] = demographicInfo['EMP_2010'].cat.add_categories(99.0)\n",
    "\n",
    "# Impute the NaN values with '99.0' ('Don't Know/Refused')\n",
    "demographicInfo['Household_Income'].fillna(99.0, inplace=True)\n",
    "demographicInfo['EMP_2010'].fillna(99.0, inplace=True)\n",
    "\n",
    "\n",
    "# QUESTIONNAIRE DATA\n",
    "# Perception of science:\n",
    "sciPercep = df.copy().iloc[:,6:28].astype('category')\n",
    "sciPercep['W3'] = sciPercep['W3'].cat.add_categories(99.0) # Add a new level to 'W3'\n",
    "sciPercep['W3'].fillna(99.0, inplace=True) # Impute the NaN values with the new level\n",
    "\n",
    "# Impute the NaN entries with the values stated above\n",
    "sciPercep['W4'].fillna(99.0, inplace=True)\n",
    "sciPercep['W5B'].fillna(99.0, inplace=True)\n",
    "sciPercep['W5D'].fillna(99.0, inplace=True)\n",
    "sciPercep['W7C'].fillna(99.0, inplace=True)\n",
    "\n",
    "\n",
    "# Perceptions about Climate Change\n",
    "climateChange = df.copy().iloc[:,28:31].astype('category')\n",
    "# Impute the NaN entries with the values stated above\n",
    "climateChange['W14'].fillna(99.0, inplace=True)\n",
    "climateChange['W15'].fillna(99.0, inplace=True)\n",
    "\n",
    "\n",
    "# Perceptions of science with respect to COVID-19 pandemic\n",
    "covidPercep = df.copy().iloc[:,31:38].astype('category')\n",
    "# Impute the NaN entries with the values stated above\n",
    "covidPercep['W15_1A'].fillna(99.0, inplace=True)\n",
    "covidPercep['W15_1B'].fillna(99.0, inplace=True)\n",
    "covidPercep['W15_1C'].fillna(99.0, inplace=True)\n",
    "covidPercep['W15_1D'].fillna(99.0, inplace=True)\n",
    "covidPercep['W15_1E'].fillna(99.0, inplace=True)\n",
    "covidPercep['W15_2A'].fillna(99.0, inplace=True)\n",
    "covidPercep['W15_2B'].fillna(99.0, inplace=True)\n",
    "\n",
    "\n",
    "# Perceptions about physical and mental health:\n",
    "sciHealth = df.copy().iloc[:,38:67].astype('category')\n",
    "# Impute the NaN entries with the values stated above for MH3A to MH5 + MH7A\n",
    "sciHealth['MH3A'].fillna(99.0, inplace=True)\n",
    "sciHealth['MH3B'].fillna(99.0, inplace=True)\n",
    "sciHealth['MH3C'].fillna(99.0, inplace=True)\n",
    "sciHealth['MH3D'].fillna(99.0, inplace=True)\n",
    "sciHealth['MH4A'].fillna(99.0, inplace=True)\n",
    "sciHealth['MH4B'].fillna(99.0, inplace=True)\n",
    "sciHealth['MH5'].fillna(99.0, inplace=True)\n",
    "sciHealth['MH7A'].fillna(99.0, inplace=True)\n",
    "# Impute the NaN entries with the values stated above for MH1 and MH6\n",
    "sciHealth['MH1'].fillna(99, inplace=True)\n",
    "sciHealth['MH6'].fillna(99, inplace=True)\n",
    "\n",
    "\n",
    "# Social Media Usage\n",
    "socialMedia = df.copy().iloc[:,67:70].astype('category')\n",
    "# Impute the NaN values\n",
    "socialMedia['W28'].fillna(99.0, inplace=True)\n",
    "socialMedia['W29'].fillna(99.0, inplace=True)\n",
    "\n",
    "\n",
    "# Religion\n",
    "religion = df.copy()['W30'].astype('category')\n",
    "\n",
    "# Impute missing values\n",
    "religion.fillna(99.0, inplace=True)"
   ]
  },
  {
   "cell_type": "markdown",
   "id": "6596ac00",
   "metadata": {},
   "source": [
    "Generating the final dataset used for Classification"
   ]
  },
  {
   "cell_type": "code",
   "execution_count": 2,
   "id": "2b739ecb",
   "metadata": {},
   "outputs": [
    {
     "data": {
      "text/plain": [
       "(119088, 54)"
      ]
     },
     "execution_count": 2,
     "metadata": {},
     "output_type": "execute_result"
    }
   ],
   "source": [
    "questionDataset = pd.concat([sciPercep, climateChange, covidPercep,sciHealth.iloc[:,0:10], socialMedia, religion.to_frame()],axis=1)\n",
    "# Remove 'Age' and keep 'age_var3'\n",
    "demographicInfo = demographicInfo.drop('Age',axis=1)\n",
    "\n",
    "dataset = pd.concat([demographicInfo, questionDataset],axis=1)\n",
    "dataset.shape # 119 088 entries and 54 columns/features"
   ]
  },
  {
   "cell_type": "code",
   "execution_count": 3,
   "id": "1156dbb2",
   "metadata": {},
   "outputs": [
    {
     "name": "stdout",
     "output_type": "stream",
     "text": [
      "<class 'pandas.core.frame.DataFrame'>\n",
      "Int64Index: 116810 entries, 0 to 119087\n",
      "Data columns (total 54 columns):\n",
      " #   Column             Non-Null Count   Dtype   \n",
      "---  ------             --------------   -----   \n",
      " 0   Global11Regions    116810 non-null  category\n",
      " 1   Gender             116810 non-null  category\n",
      " 2   age_var3           116810 non-null  category\n",
      " 3   Education          116810 non-null  category\n",
      " 4   Household_Income   116810 non-null  category\n",
      " 5   wbi                116810 non-null  category\n",
      " 6   Subjective_Income  116810 non-null  category\n",
      " 7   EMP_2010           116810 non-null  category\n",
      " 8   W1                 116810 non-null  category\n",
      " 9   W2                 116810 non-null  category\n",
      " 10  W3                 116810 non-null  category\n",
      " 11  W4                 116810 non-null  category\n",
      " 12  W5A                116810 non-null  category\n",
      " 13  W5B                116810 non-null  category\n",
      " 14  W5C                116810 non-null  category\n",
      " 15  W5D                116810 non-null  category\n",
      " 16  W5E                116810 non-null  category\n",
      " 17  W5F                116810 non-null  category\n",
      " 18  W5G                116810 non-null  category\n",
      " 19  W6                 116810 non-null  category\n",
      " 20  W7A                116810 non-null  category\n",
      " 21  W7B                116810 non-null  category\n",
      " 22  W7C                116810 non-null  category\n",
      " 23  W8                 116810 non-null  category\n",
      " 24  W9                 116810 non-null  category\n",
      " 25  W10                116810 non-null  category\n",
      " 26  W11A               116810 non-null  category\n",
      " 27  W11B               116810 non-null  category\n",
      " 28  MH2A               116810 non-null  category\n",
      " 29  MH2B               116810 non-null  category\n",
      " 30  W13                116810 non-null  category\n",
      " 31  W14                116810 non-null  category\n",
      " 32  W15                116810 non-null  category\n",
      " 33  W15_1A             116810 non-null  category\n",
      " 34  W15_1B             116810 non-null  category\n",
      " 35  W15_1C             116810 non-null  category\n",
      " 36  W15_1D             116810 non-null  category\n",
      " 37  W15_1E             116810 non-null  category\n",
      " 38  W15_2A             116810 non-null  category\n",
      " 39  W15_2B             116810 non-null  category\n",
      " 40  MH1                116810 non-null  category\n",
      " 41  MH3A               116810 non-null  category\n",
      " 42  MH3B               116810 non-null  category\n",
      " 43  MH3C               116810 non-null  category\n",
      " 44  MH3D               116810 non-null  category\n",
      " 45  MH4A               116810 non-null  category\n",
      " 46  MH4B               116810 non-null  category\n",
      " 47  MH5                116810 non-null  category\n",
      " 48  MH6                116810 non-null  category\n",
      " 49  MH7A               116810 non-null  category\n",
      " 50  W27                116810 non-null  category\n",
      " 51  W28                116810 non-null  category\n",
      " 52  W29                116810 non-null  category\n",
      " 53  W30                116810 non-null  category\n",
      "dtypes: category(54)\n",
      "memory usage: 6.9 MB\n"
     ]
    }
   ],
   "source": [
    "dataset = dataset[(dataset['MH7A'] == 1.0) | (dataset['MH7A'] == 2.0)]\n",
    "dataset.info()"
   ]
  },
  {
   "cell_type": "markdown",
   "id": "6006b165",
   "metadata": {},
   "source": [
    "### Classification"
   ]
  },
  {
   "cell_type": "code",
   "execution_count": 37,
   "id": "3482b641",
   "metadata": {},
   "outputs": [],
   "source": [
    "import numpy as np\n",
    "import matplotlib.pyplot as plt\n",
    "from sklearn.model_selection import train_test_split, cross_validate\n",
    "from sklearn.tree import DecisionTreeClassifier\n",
    "from sklearn.metrics import make_scorer, accuracy_score, precision_score, recall_score, f1_score, matthews_corrcoef\n",
    "from sklearn.metrics import classification_report, confusion_matrix, ConfusionMatrixDisplay"
   ]
  },
  {
   "cell_type": "markdown",
   "id": "a46717ca",
   "metadata": {},
   "source": [
    "Splitting the dataset into features and target/label:"
   ]
  },
  {
   "cell_type": "code",
   "execution_count": 5,
   "id": "3c119dd5",
   "metadata": {},
   "outputs": [
    {
     "data": {
      "text/plain": [
       "(116810,)"
      ]
     },
     "execution_count": 5,
     "metadata": {},
     "output_type": "execute_result"
    }
   ],
   "source": [
    "y = dataset['MH7A'] # The label: MH7A \n",
    "y.shape # 119 088 entries"
   ]
  },
  {
   "cell_type": "code",
   "execution_count": 6,
   "id": "12a9b40b",
   "metadata": {},
   "outputs": [
    {
     "data": {
      "text/plain": [
       "(116810, 53)"
      ]
     },
     "execution_count": 6,
     "metadata": {},
     "output_type": "execute_result"
    }
   ],
   "source": [
    "X = dataset.drop(columns='MH7A') # The independent variables/features used for classification\n",
    "X.shape # 119 088 entries and 54 columns/features"
   ]
  },
  {
   "cell_type": "markdown",
   "id": "faecf834",
   "metadata": {},
   "source": [
    "Split the dataset into training/testing sets using a 70/30 split:"
   ]
  },
  {
   "cell_type": "code",
   "execution_count": 7,
   "id": "7bb2fa88",
   "metadata": {},
   "outputs": [],
   "source": [
    "# 70% training and 30% test sets\n",
    "X_train, X_test, y_train, y_test = train_test_split(X,y, test_size=0.3, random_state=1)"
   ]
  },
  {
   "cell_type": "code",
   "execution_count": 8,
   "id": "90538ebd",
   "metadata": {},
   "outputs": [
    {
     "data": {
      "text/plain": [
       "(81767, 53)"
      ]
     },
     "execution_count": 8,
     "metadata": {},
     "output_type": "execute_result"
    }
   ],
   "source": [
    "X_train.shape"
   ]
  },
  {
   "cell_type": "code",
   "execution_count": 9,
   "id": "44a3c222",
   "metadata": {
    "scrolled": true
   },
   "outputs": [
    {
     "data": {
      "text/plain": [
       "(35043, 53)"
      ]
     },
     "execution_count": 9,
     "metadata": {},
     "output_type": "execute_result"
    }
   ],
   "source": [
    "X_test.shape"
   ]
  },
  {
   "cell_type": "markdown",
   "id": "6691c44f",
   "metadata": {},
   "source": [
    "### Feature Selection\n",
    "\n",
    "Based on the chi-squared test scores shown, let's set a threshold of 2000. Any features that have a score greater than 2000 will be included as a feature in future models."
   ]
  },
  {
   "cell_type": "code",
   "execution_count": 10,
   "id": "27750778",
   "metadata": {},
   "outputs": [
    {
     "name": "stdout",
     "output_type": "stream",
     "text": [
      "Feature 0: 895.456901\n",
      "Feature 1: 16.520788\n",
      "Feature 2: 429.357539\n",
      "Feature 3: 206.765457\n",
      "Feature 4: 846.724313\n",
      "Feature 5: 39.561801\n",
      "Feature 6: 711.372076\n",
      "Feature 7: 59.517958\n",
      "Feature 8: 78.933518\n",
      "Feature 9: 264.673228\n",
      "Feature 10: 802.682457\n",
      "Feature 11: 839.676847\n",
      "Feature 12: 149.290457\n",
      "Feature 13: 3299.105630\n",
      "Feature 14: 18.832843\n",
      "Feature 15: 8.387719\n",
      "Feature 16: 13.242311\n",
      "Feature 17: 1258.828622\n",
      "Feature 18: 830.888446\n",
      "Feature 19: 97.691066\n",
      "Feature 20: 767.574079\n",
      "Feature 21: 1735.630512\n",
      "Feature 22: 1669.939171\n",
      "Feature 23: 383.940229\n",
      "Feature 24: 974.274333\n",
      "Feature 25: 1157.068725\n",
      "Feature 26: 2035.334654\n",
      "Feature 27: 1943.582749\n",
      "Feature 28: 246.275184\n",
      "Feature 29: 3425.815844\n",
      "Feature 30: 429.198579\n",
      "Feature 31: 852.821591\n",
      "Feature 32: 1377.413362\n",
      "Feature 33: 11101.115091\n",
      "Feature 34: 14531.825730\n",
      "Feature 35: 15976.569347\n",
      "Feature 36: 14023.354942\n",
      "Feature 37: 12520.446012\n",
      "Feature 38: 9385.945667\n",
      "Feature 39: 9706.794076\n",
      "Feature 40: 133.277412\n",
      "Feature 41: 1182.391846\n",
      "Feature 42: 10621.389196\n",
      "Feature 43: 863.244491\n",
      "Feature 44: 2805.534329\n",
      "Feature 45: 19.770833\n",
      "Feature 46: 615.638949\n",
      "Feature 47: 13472.209089\n",
      "Feature 48: 3465.985256\n",
      "Feature 49: 7.493562\n",
      "Feature 50: 6075.855360\n",
      "Feature 51: 6631.270190\n",
      "Feature 52: 2498.600358\n"
     ]
    },
    {
     "data": {
      "image/png": "[encoded data removed]",
      "text/plain": [
       "<Figure size 432x288 with 1 Axes>"
      ]
     },
     "metadata": {
      "needs_background": "light"
     },
     "output_type": "display_data"
    }
   ],
   "source": [
    "from sklearn.feature_selection import SelectKBest\n",
    "from sklearn.feature_selection import chi2\n",
    "\n",
    "# # Using the Chi-Squared test to identify features that are NOT independent of the target variable/label\n",
    "fs = SelectKBest(score_func=chi2, k='all')\n",
    "fs.fit(X_train, y_train)\n",
    "X_train_fs = fs.transform(X_train)\n",
    "X_test_fs = fs.transform(X_test)\n",
    "\n",
    "# what are scores for the features\n",
    "for i in range(len(fs.scores_)):\n",
    " print('Feature %d: %f' % (i, fs.scores_[i]))\n",
    "# plot the scores\n",
    "plt.bar([i for i in range(len(fs.scores_))], fs.scores_)\n",
    "plt.title('Chi-Square Statistic')\n",
    "plt.show()"
   ]
  },
  {
   "cell_type": "code",
   "execution_count": 11,
   "id": "83343f5c",
   "metadata": {},
   "outputs": [],
   "source": [
    "selector = SelectKBest(score_func=chi2, k=17)\n",
    "selector.fit(X_train, y_train)\n",
    "# Get columns to keep and create new dataframe with those only\n",
    "cols_idxs = selector.get_support(indices=True)\n",
    "X_fs = X_train.iloc[:,cols_idxs]"
   ]
  },
  {
   "cell_type": "code",
   "execution_count": 12,
   "id": "6cce849d",
   "metadata": {
    "scrolled": true
   },
   "outputs": [
    {
     "data": {
      "text/html": [
       "<div>\n",
       "<style scoped>\n",
       "    .dataframe tbody tr th:only-of-type {\n",
       "        vertical-align: middle;\n",
       "    }\n",
       "\n",
       "    .dataframe tbody tr th {\n",
       "        vertical-align: top;\n",
       "    }\n",
       "\n",
       "    .dataframe thead th {\n",
       "        text-align: right;\n",
       "    }\n",
       "</style>\n",
       "<table border=\"1\" class=\"dataframe\">\n",
       "  <thead>\n",
       "    <tr style=\"text-align: right;\">\n",
       "      <th></th>\n",
       "      <th>W5B</th>\n",
       "      <th>W11A</th>\n",
       "      <th>MH2B</th>\n",
       "      <th>W15_1A</th>\n",
       "      <th>W15_1B</th>\n",
       "      <th>W15_1C</th>\n",
       "      <th>W15_1D</th>\n",
       "      <th>W15_1E</th>\n",
       "      <th>W15_2A</th>\n",
       "      <th>W15_2B</th>\n",
       "      <th>MH3B</th>\n",
       "      <th>MH3D</th>\n",
       "      <th>MH5</th>\n",
       "      <th>MH6</th>\n",
       "      <th>W28</th>\n",
       "      <th>W29</th>\n",
       "      <th>W30</th>\n",
       "    </tr>\n",
       "  </thead>\n",
       "  <tbody>\n",
       "    <tr>\n",
       "      <th>43560</th>\n",
       "      <td>2.0</td>\n",
       "      <td>1</td>\n",
       "      <td>2</td>\n",
       "      <td>2.0</td>\n",
       "      <td>2.0</td>\n",
       "      <td>1.0</td>\n",
       "      <td>1.0</td>\n",
       "      <td>1.0</td>\n",
       "      <td>1.0</td>\n",
       "      <td>2.0</td>\n",
       "      <td>1.0</td>\n",
       "      <td>1.0</td>\n",
       "      <td>3.0</td>\n",
       "      <td>99</td>\n",
       "      <td>99.0</td>\n",
       "      <td>99.0</td>\n",
       "      <td>1.0</td>\n",
       "    </tr>\n",
       "    <tr>\n",
       "      <th>62908</th>\n",
       "      <td>4.0</td>\n",
       "      <td>1</td>\n",
       "      <td>99</td>\n",
       "      <td>4.0</td>\n",
       "      <td>3.0</td>\n",
       "      <td>1.0</td>\n",
       "      <td>1.0</td>\n",
       "      <td>99.0</td>\n",
       "      <td>3.0</td>\n",
       "      <td>1.0</td>\n",
       "      <td>3.0</td>\n",
       "      <td>99.0</td>\n",
       "      <td>1.0</td>\n",
       "      <td>2</td>\n",
       "      <td>3.0</td>\n",
       "      <td>3.0</td>\n",
       "      <td>3.0</td>\n",
       "    </tr>\n",
       "    <tr>\n",
       "      <th>34789</th>\n",
       "      <td>2.0</td>\n",
       "      <td>1</td>\n",
       "      <td>2</td>\n",
       "      <td>2.0</td>\n",
       "      <td>2.0</td>\n",
       "      <td>2.0</td>\n",
       "      <td>1.0</td>\n",
       "      <td>2.0</td>\n",
       "      <td>2.0</td>\n",
       "      <td>2.0</td>\n",
       "      <td>1.0</td>\n",
       "      <td>2.0</td>\n",
       "      <td>2.0</td>\n",
       "      <td>2</td>\n",
       "      <td>99.0</td>\n",
       "      <td>99.0</td>\n",
       "      <td>2.0</td>\n",
       "    </tr>\n",
       "    <tr>\n",
       "      <th>55266</th>\n",
       "      <td>1.0</td>\n",
       "      <td>2</td>\n",
       "      <td>1</td>\n",
       "      <td>1.0</td>\n",
       "      <td>1.0</td>\n",
       "      <td>1.0</td>\n",
       "      <td>1.0</td>\n",
       "      <td>1.0</td>\n",
       "      <td>2.0</td>\n",
       "      <td>1.0</td>\n",
       "      <td>1.0</td>\n",
       "      <td>1.0</td>\n",
       "      <td>1.0</td>\n",
       "      <td>1</td>\n",
       "      <td>1.0</td>\n",
       "      <td>1.0</td>\n",
       "      <td>1.0</td>\n",
       "    </tr>\n",
       "    <tr>\n",
       "      <th>75584</th>\n",
       "      <td>99.0</td>\n",
       "      <td>1</td>\n",
       "      <td>3</td>\n",
       "      <td>1.0</td>\n",
       "      <td>2.0</td>\n",
       "      <td>1.0</td>\n",
       "      <td>1.0</td>\n",
       "      <td>1.0</td>\n",
       "      <td>1.0</td>\n",
       "      <td>3.0</td>\n",
       "      <td>1.0</td>\n",
       "      <td>1.0</td>\n",
       "      <td>1.0</td>\n",
       "      <td>2</td>\n",
       "      <td>3.0</td>\n",
       "      <td>3.0</td>\n",
       "      <td>3.0</td>\n",
       "    </tr>\n",
       "    <tr>\n",
       "      <th>...</th>\n",
       "      <td>...</td>\n",
       "      <td>...</td>\n",
       "      <td>...</td>\n",
       "      <td>...</td>\n",
       "      <td>...</td>\n",
       "      <td>...</td>\n",
       "      <td>...</td>\n",
       "      <td>...</td>\n",
       "      <td>...</td>\n",
       "      <td>...</td>\n",
       "      <td>...</td>\n",
       "      <td>...</td>\n",
       "      <td>...</td>\n",
       "      <td>...</td>\n",
       "      <td>...</td>\n",
       "      <td>...</td>\n",
       "      <td>...</td>\n",
       "    </tr>\n",
       "    <tr>\n",
       "      <th>50736</th>\n",
       "      <td>1.0</td>\n",
       "      <td>3</td>\n",
       "      <td>1</td>\n",
       "      <td>1.0</td>\n",
       "      <td>1.0</td>\n",
       "      <td>1.0</td>\n",
       "      <td>1.0</td>\n",
       "      <td>1.0</td>\n",
       "      <td>1.0</td>\n",
       "      <td>1.0</td>\n",
       "      <td>1.0</td>\n",
       "      <td>2.0</td>\n",
       "      <td>2.0</td>\n",
       "      <td>2</td>\n",
       "      <td>3.0</td>\n",
       "      <td>3.0</td>\n",
       "      <td>4.0</td>\n",
       "    </tr>\n",
       "    <tr>\n",
       "      <th>99189</th>\n",
       "      <td>99.0</td>\n",
       "      <td>1</td>\n",
       "      <td>4</td>\n",
       "      <td>99.0</td>\n",
       "      <td>1.0</td>\n",
       "      <td>2.0</td>\n",
       "      <td>2.0</td>\n",
       "      <td>99.0</td>\n",
       "      <td>1.0</td>\n",
       "      <td>1.0</td>\n",
       "      <td>2.0</td>\n",
       "      <td>3.0</td>\n",
       "      <td>1.0</td>\n",
       "      <td>1</td>\n",
       "      <td>1.0</td>\n",
       "      <td>2.0</td>\n",
       "      <td>1.0</td>\n",
       "    </tr>\n",
       "    <tr>\n",
       "      <th>5214</th>\n",
       "      <td>3.0</td>\n",
       "      <td>1</td>\n",
       "      <td>1</td>\n",
       "      <td>3.0</td>\n",
       "      <td>1.0</td>\n",
       "      <td>2.0</td>\n",
       "      <td>2.0</td>\n",
       "      <td>2.0</td>\n",
       "      <td>1.0</td>\n",
       "      <td>1.0</td>\n",
       "      <td>2.0</td>\n",
       "      <td>1.0</td>\n",
       "      <td>2.0</td>\n",
       "      <td>1</td>\n",
       "      <td>3.0</td>\n",
       "      <td>2.0</td>\n",
       "      <td>2.0</td>\n",
       "    </tr>\n",
       "    <tr>\n",
       "      <th>78640</th>\n",
       "      <td>3.0</td>\n",
       "      <td>1</td>\n",
       "      <td>3</td>\n",
       "      <td>2.0</td>\n",
       "      <td>2.0</td>\n",
       "      <td>1.0</td>\n",
       "      <td>1.0</td>\n",
       "      <td>3.0</td>\n",
       "      <td>3.0</td>\n",
       "      <td>2.0</td>\n",
       "      <td>3.0</td>\n",
       "      <td>1.0</td>\n",
       "      <td>3.0</td>\n",
       "      <td>2</td>\n",
       "      <td>2.0</td>\n",
       "      <td>3.0</td>\n",
       "      <td>1.0</td>\n",
       "    </tr>\n",
       "    <tr>\n",
       "      <th>99685</th>\n",
       "      <td>4.0</td>\n",
       "      <td>2</td>\n",
       "      <td>2</td>\n",
       "      <td>1.0</td>\n",
       "      <td>1.0</td>\n",
       "      <td>1.0</td>\n",
       "      <td>1.0</td>\n",
       "      <td>4.0</td>\n",
       "      <td>1.0</td>\n",
       "      <td>2.0</td>\n",
       "      <td>1.0</td>\n",
       "      <td>1.0</td>\n",
       "      <td>2.0</td>\n",
       "      <td>1</td>\n",
       "      <td>3.0</td>\n",
       "      <td>1.0</td>\n",
       "      <td>2.0</td>\n",
       "    </tr>\n",
       "  </tbody>\n",
       "</table>\n",
       "<p>81767 rows × 17 columns</p>\n",
       "</div>"
      ],
      "text/plain": [
       "        W5B W11A MH2B W15_1A W15_1B W15_1C W15_1D W15_1E W15_2A W15_2B MH3B  \\\n",
       "43560   2.0    1    2    2.0    2.0    1.0    1.0    1.0    1.0    2.0  1.0   \n",
       "62908   4.0    1   99    4.0    3.0    1.0    1.0   99.0    3.0    1.0  3.0   \n",
       "34789   2.0    1    2    2.0    2.0    2.0    1.0    2.0    2.0    2.0  1.0   \n",
       "55266   1.0    2    1    1.0    1.0    1.0    1.0    1.0    2.0    1.0  1.0   \n",
       "75584  99.0    1    3    1.0    2.0    1.0    1.0    1.0    1.0    3.0  1.0   \n",
       "...     ...  ...  ...    ...    ...    ...    ...    ...    ...    ...  ...   \n",
       "50736   1.0    3    1    1.0    1.0    1.0    1.0    1.0    1.0    1.0  1.0   \n",
       "99189  99.0    1    4   99.0    1.0    2.0    2.0   99.0    1.0    1.0  2.0   \n",
       "5214    3.0    1    1    3.0    1.0    2.0    2.0    2.0    1.0    1.0  2.0   \n",
       "78640   3.0    1    3    2.0    2.0    1.0    1.0    3.0    3.0    2.0  3.0   \n",
       "99685   4.0    2    2    1.0    1.0    1.0    1.0    4.0    1.0    2.0  1.0   \n",
       "\n",
       "       MH3D  MH5 MH6   W28   W29  W30  \n",
       "43560   1.0  3.0  99  99.0  99.0  1.0  \n",
       "62908  99.0  1.0   2   3.0   3.0  3.0  \n",
       "34789   2.0  2.0   2  99.0  99.0  2.0  \n",
       "55266   1.0  1.0   1   1.0   1.0  1.0  \n",
       "75584   1.0  1.0   2   3.0   3.0  3.0  \n",
       "...     ...  ...  ..   ...   ...  ...  \n",
       "50736   2.0  2.0   2   3.0   3.0  4.0  \n",
       "99189   3.0  1.0   1   1.0   2.0  1.0  \n",
       "5214    1.0  2.0   1   3.0   2.0  2.0  \n",
       "78640   1.0  3.0   2   2.0   3.0  1.0  \n",
       "99685   1.0  2.0   1   3.0   1.0  2.0  \n",
       "\n",
       "[81767 rows x 17 columns]"
      ]
     },
     "execution_count": 12,
     "metadata": {},
     "output_type": "execute_result"
    }
   ],
   "source": [
    "X_fs"
   ]
  },
  {
   "cell_type": "code",
   "execution_count": 13,
   "id": "9df2a1bb",
   "metadata": {
    "scrolled": false
   },
   "outputs": [
    {
     "data": {
      "text/html": [
       "<div>\n",
       "<style scoped>\n",
       "    .dataframe tbody tr th:only-of-type {\n",
       "        vertical-align: middle;\n",
       "    }\n",
       "\n",
       "    .dataframe tbody tr th {\n",
       "        vertical-align: top;\n",
       "    }\n",
       "\n",
       "    .dataframe thead th {\n",
       "        text-align: right;\n",
       "    }\n",
       "</style>\n",
       "<table border=\"1\" class=\"dataframe\">\n",
       "  <thead>\n",
       "    <tr style=\"text-align: right;\">\n",
       "      <th></th>\n",
       "      <th>Gender</th>\n",
       "      <th>W5B</th>\n",
       "      <th>W11A</th>\n",
       "      <th>MH2B</th>\n",
       "      <th>W15_1A</th>\n",
       "      <th>W15_1B</th>\n",
       "      <th>W15_1C</th>\n",
       "      <th>W15_1D</th>\n",
       "      <th>W15_1E</th>\n",
       "      <th>W15_2A</th>\n",
       "      <th>W15_2B</th>\n",
       "      <th>MH3B</th>\n",
       "      <th>MH3D</th>\n",
       "      <th>MH5</th>\n",
       "      <th>MH6</th>\n",
       "      <th>W28</th>\n",
       "      <th>W29</th>\n",
       "      <th>W30</th>\n",
       "    </tr>\n",
       "  </thead>\n",
       "  <tbody>\n",
       "    <tr>\n",
       "      <th>43560</th>\n",
       "      <td>2</td>\n",
       "      <td>2.0</td>\n",
       "      <td>1</td>\n",
       "      <td>2</td>\n",
       "      <td>2.0</td>\n",
       "      <td>2.0</td>\n",
       "      <td>1.0</td>\n",
       "      <td>1.0</td>\n",
       "      <td>1.0</td>\n",
       "      <td>1.0</td>\n",
       "      <td>2.0</td>\n",
       "      <td>1.0</td>\n",
       "      <td>1.0</td>\n",
       "      <td>3.0</td>\n",
       "      <td>99</td>\n",
       "      <td>99.0</td>\n",
       "      <td>99.0</td>\n",
       "      <td>1.0</td>\n",
       "    </tr>\n",
       "    <tr>\n",
       "      <th>62908</th>\n",
       "      <td>1</td>\n",
       "      <td>4.0</td>\n",
       "      <td>1</td>\n",
       "      <td>99</td>\n",
       "      <td>4.0</td>\n",
       "      <td>3.0</td>\n",
       "      <td>1.0</td>\n",
       "      <td>1.0</td>\n",
       "      <td>99.0</td>\n",
       "      <td>3.0</td>\n",
       "      <td>1.0</td>\n",
       "      <td>3.0</td>\n",
       "      <td>99.0</td>\n",
       "      <td>1.0</td>\n",
       "      <td>2</td>\n",
       "      <td>3.0</td>\n",
       "      <td>3.0</td>\n",
       "      <td>3.0</td>\n",
       "    </tr>\n",
       "    <tr>\n",
       "      <th>34789</th>\n",
       "      <td>2</td>\n",
       "      <td>2.0</td>\n",
       "      <td>1</td>\n",
       "      <td>2</td>\n",
       "      <td>2.0</td>\n",
       "      <td>2.0</td>\n",
       "      <td>2.0</td>\n",
       "      <td>1.0</td>\n",
       "      <td>2.0</td>\n",
       "      <td>2.0</td>\n",
       "      <td>2.0</td>\n",
       "      <td>1.0</td>\n",
       "      <td>2.0</td>\n",
       "      <td>2.0</td>\n",
       "      <td>2</td>\n",
       "      <td>99.0</td>\n",
       "      <td>99.0</td>\n",
       "      <td>2.0</td>\n",
       "    </tr>\n",
       "    <tr>\n",
       "      <th>55266</th>\n",
       "      <td>2</td>\n",
       "      <td>1.0</td>\n",
       "      <td>2</td>\n",
       "      <td>1</td>\n",
       "      <td>1.0</td>\n",
       "      <td>1.0</td>\n",
       "      <td>1.0</td>\n",
       "      <td>1.0</td>\n",
       "      <td>1.0</td>\n",
       "      <td>2.0</td>\n",
       "      <td>1.0</td>\n",
       "      <td>1.0</td>\n",
       "      <td>1.0</td>\n",
       "      <td>1.0</td>\n",
       "      <td>1</td>\n",
       "      <td>1.0</td>\n",
       "      <td>1.0</td>\n",
       "      <td>1.0</td>\n",
       "    </tr>\n",
       "    <tr>\n",
       "      <th>75584</th>\n",
       "      <td>2</td>\n",
       "      <td>99.0</td>\n",
       "      <td>1</td>\n",
       "      <td>3</td>\n",
       "      <td>1.0</td>\n",
       "      <td>2.0</td>\n",
       "      <td>1.0</td>\n",
       "      <td>1.0</td>\n",
       "      <td>1.0</td>\n",
       "      <td>1.0</td>\n",
       "      <td>3.0</td>\n",
       "      <td>1.0</td>\n",
       "      <td>1.0</td>\n",
       "      <td>1.0</td>\n",
       "      <td>2</td>\n",
       "      <td>3.0</td>\n",
       "      <td>3.0</td>\n",
       "      <td>3.0</td>\n",
       "    </tr>\n",
       "    <tr>\n",
       "      <th>...</th>\n",
       "      <td>...</td>\n",
       "      <td>...</td>\n",
       "      <td>...</td>\n",
       "      <td>...</td>\n",
       "      <td>...</td>\n",
       "      <td>...</td>\n",
       "      <td>...</td>\n",
       "      <td>...</td>\n",
       "      <td>...</td>\n",
       "      <td>...</td>\n",
       "      <td>...</td>\n",
       "      <td>...</td>\n",
       "      <td>...</td>\n",
       "      <td>...</td>\n",
       "      <td>...</td>\n",
       "      <td>...</td>\n",
       "      <td>...</td>\n",
       "      <td>...</td>\n",
       "    </tr>\n",
       "    <tr>\n",
       "      <th>50736</th>\n",
       "      <td>2</td>\n",
       "      <td>1.0</td>\n",
       "      <td>3</td>\n",
       "      <td>1</td>\n",
       "      <td>1.0</td>\n",
       "      <td>1.0</td>\n",
       "      <td>1.0</td>\n",
       "      <td>1.0</td>\n",
       "      <td>1.0</td>\n",
       "      <td>1.0</td>\n",
       "      <td>1.0</td>\n",
       "      <td>1.0</td>\n",
       "      <td>2.0</td>\n",
       "      <td>2.0</td>\n",
       "      <td>2</td>\n",
       "      <td>3.0</td>\n",
       "      <td>3.0</td>\n",
       "      <td>4.0</td>\n",
       "    </tr>\n",
       "    <tr>\n",
       "      <th>99189</th>\n",
       "      <td>1</td>\n",
       "      <td>99.0</td>\n",
       "      <td>1</td>\n",
       "      <td>4</td>\n",
       "      <td>99.0</td>\n",
       "      <td>1.0</td>\n",
       "      <td>2.0</td>\n",
       "      <td>2.0</td>\n",
       "      <td>99.0</td>\n",
       "      <td>1.0</td>\n",
       "      <td>1.0</td>\n",
       "      <td>2.0</td>\n",
       "      <td>3.0</td>\n",
       "      <td>1.0</td>\n",
       "      <td>1</td>\n",
       "      <td>1.0</td>\n",
       "      <td>2.0</td>\n",
       "      <td>1.0</td>\n",
       "    </tr>\n",
       "    <tr>\n",
       "      <th>5214</th>\n",
       "      <td>2</td>\n",
       "      <td>3.0</td>\n",
       "      <td>1</td>\n",
       "      <td>1</td>\n",
       "      <td>3.0</td>\n",
       "      <td>1.0</td>\n",
       "      <td>2.0</td>\n",
       "      <td>2.0</td>\n",
       "      <td>2.0</td>\n",
       "      <td>1.0</td>\n",
       "      <td>1.0</td>\n",
       "      <td>2.0</td>\n",
       "      <td>1.0</td>\n",
       "      <td>2.0</td>\n",
       "      <td>1</td>\n",
       "      <td>3.0</td>\n",
       "      <td>2.0</td>\n",
       "      <td>2.0</td>\n",
       "    </tr>\n",
       "    <tr>\n",
       "      <th>78640</th>\n",
       "      <td>2</td>\n",
       "      <td>3.0</td>\n",
       "      <td>1</td>\n",
       "      <td>3</td>\n",
       "      <td>2.0</td>\n",
       "      <td>2.0</td>\n",
       "      <td>1.0</td>\n",
       "      <td>1.0</td>\n",
       "      <td>3.0</td>\n",
       "      <td>3.0</td>\n",
       "      <td>2.0</td>\n",
       "      <td>3.0</td>\n",
       "      <td>1.0</td>\n",
       "      <td>3.0</td>\n",
       "      <td>2</td>\n",
       "      <td>2.0</td>\n",
       "      <td>3.0</td>\n",
       "      <td>1.0</td>\n",
       "    </tr>\n",
       "    <tr>\n",
       "      <th>99685</th>\n",
       "      <td>2</td>\n",
       "      <td>4.0</td>\n",
       "      <td>2</td>\n",
       "      <td>2</td>\n",
       "      <td>1.0</td>\n",
       "      <td>1.0</td>\n",
       "      <td>1.0</td>\n",
       "      <td>1.0</td>\n",
       "      <td>4.0</td>\n",
       "      <td>1.0</td>\n",
       "      <td>2.0</td>\n",
       "      <td>1.0</td>\n",
       "      <td>1.0</td>\n",
       "      <td>2.0</td>\n",
       "      <td>1</td>\n",
       "      <td>3.0</td>\n",
       "      <td>1.0</td>\n",
       "      <td>2.0</td>\n",
       "    </tr>\n",
       "  </tbody>\n",
       "</table>\n",
       "<p>81767 rows × 18 columns</p>\n",
       "</div>"
      ],
      "text/plain": [
       "      Gender   W5B W11A MH2B W15_1A W15_1B W15_1C W15_1D W15_1E W15_2A W15_2B  \\\n",
       "43560      2   2.0    1    2    2.0    2.0    1.0    1.0    1.0    1.0    2.0   \n",
       "62908      1   4.0    1   99    4.0    3.0    1.0    1.0   99.0    3.0    1.0   \n",
       "34789      2   2.0    1    2    2.0    2.0    2.0    1.0    2.0    2.0    2.0   \n",
       "55266      2   1.0    2    1    1.0    1.0    1.0    1.0    1.0    2.0    1.0   \n",
       "75584      2  99.0    1    3    1.0    2.0    1.0    1.0    1.0    1.0    3.0   \n",
       "...      ...   ...  ...  ...    ...    ...    ...    ...    ...    ...    ...   \n",
       "50736      2   1.0    3    1    1.0    1.0    1.0    1.0    1.0    1.0    1.0   \n",
       "99189      1  99.0    1    4   99.0    1.0    2.0    2.0   99.0    1.0    1.0   \n",
       "5214       2   3.0    1    1    3.0    1.0    2.0    2.0    2.0    1.0    1.0   \n",
       "78640      2   3.0    1    3    2.0    2.0    1.0    1.0    3.0    3.0    2.0   \n",
       "99685      2   4.0    2    2    1.0    1.0    1.0    1.0    4.0    1.0    2.0   \n",
       "\n",
       "      MH3B  MH3D  MH5 MH6   W28   W29  W30  \n",
       "43560  1.0   1.0  3.0  99  99.0  99.0  1.0  \n",
       "62908  3.0  99.0  1.0   2   3.0   3.0  3.0  \n",
       "34789  1.0   2.0  2.0   2  99.0  99.0  2.0  \n",
       "55266  1.0   1.0  1.0   1   1.0   1.0  1.0  \n",
       "75584  1.0   1.0  1.0   2   3.0   3.0  3.0  \n",
       "...    ...   ...  ...  ..   ...   ...  ...  \n",
       "50736  1.0   2.0  2.0   2   3.0   3.0  4.0  \n",
       "99189  2.0   3.0  1.0   1   1.0   2.0  1.0  \n",
       "5214   2.0   1.0  2.0   1   3.0   2.0  2.0  \n",
       "78640  3.0   1.0  3.0   2   2.0   3.0  1.0  \n",
       "99685  1.0   1.0  2.0   1   3.0   1.0  2.0  \n",
       "\n",
       "[81767 rows x 18 columns]"
      ]
     },
     "execution_count": 13,
     "metadata": {},
     "output_type": "execute_result"
    }
   ],
   "source": [
    "# Let's add the demographic features into X_fs:\n",
    "X_train_fs = pd.concat([X_train.iloc[:,1], X_fs],axis=1)\n",
    "X_train_fs"
   ]
  },
  {
   "cell_type": "code",
   "execution_count": 14,
   "id": "012f9c3b",
   "metadata": {},
   "outputs": [
    {
     "data": {
      "text/plain": [
       "(35043, 18)"
      ]
     },
     "execution_count": 14,
     "metadata": {},
     "output_type": "execute_result"
    }
   ],
   "source": [
    "# Get columns to keep and create new dataframe with those only\n",
    "cols_idxs = selector.get_support(indices=True)\n",
    "X_test_fs = X_test.iloc[:,cols_idxs]\n",
    "\n",
    "# The testing set to be used\n",
    "X_test_fs = pd.concat([X_test.iloc[:,1],X_test_fs],axis=1)\n",
    "\n",
    "X_test_fs.shape"
   ]
  },
  {
   "cell_type": "markdown",
   "id": "c17a9fde",
   "metadata": {},
   "source": [
    "Let's define some scoring metrics"
   ]
  },
  {
   "cell_type": "code",
   "execution_count": 15,
   "id": "476b31e9",
   "metadata": {},
   "outputs": [],
   "source": [
    "# Define custom scoring metrics\n",
    "scoring = {\n",
    "    'accuracy': make_scorer(accuracy_score),\n",
    "    'precision': make_scorer(precision_score),\n",
    "    'recall': make_scorer(recall_score),\n",
    "    'f1_score': make_scorer(f1_score)\n",
    "}"
   ]
  },
  {
   "cell_type": "markdown",
   "id": "9dd0faa1",
   "metadata": {},
   "source": [
    "#### Classification using smaller Feature Set"
   ]
  },
  {
   "cell_type": "markdown",
   "id": "cb4b6c17",
   "metadata": {},
   "source": [
    "First let's update X_test with the new features:"
   ]
  },
  {
   "cell_type": "code",
   "execution_count": 16,
   "id": "c82b1479",
   "metadata": {},
   "outputs": [
    {
     "name": "stdout",
     "output_type": "stream",
     "text": [
      "<class 'pandas.core.frame.DataFrame'>\n",
      "Int64Index: 81767 entries, 43560 to 99685\n",
      "Data columns (total 18 columns):\n",
      " #   Column  Non-Null Count  Dtype   \n",
      "---  ------  --------------  -----   \n",
      " 0   Gender  81767 non-null  category\n",
      " 1   W5B     81767 non-null  category\n",
      " 2   W11A    81767 non-null  category\n",
      " 3   MH2B    81767 non-null  category\n",
      " 4   W15_1A  81767 non-null  category\n",
      " 5   W15_1B  81767 non-null  category\n",
      " 6   W15_1C  81767 non-null  category\n",
      " 7   W15_1D  81767 non-null  category\n",
      " 8   W15_1E  81767 non-null  category\n",
      " 9   W15_2A  81767 non-null  category\n",
      " 10  W15_2B  81767 non-null  category\n",
      " 11  MH3B    81767 non-null  category\n",
      " 12  MH3D    81767 non-null  category\n",
      " 13  MH5     81767 non-null  category\n",
      " 14  MH6     81767 non-null  category\n",
      " 15  W28     81767 non-null  category\n",
      " 16  W29     81767 non-null  category\n",
      " 17  W30     81767 non-null  category\n",
      "dtypes: category(18)\n",
      "memory usage: 2.0 MB\n"
     ]
    }
   ],
   "source": [
    "X_train_fs.info() # 18 features now being used"
   ]
  },
  {
   "cell_type": "code",
   "execution_count": 17,
   "id": "1d51e6c4",
   "metadata": {},
   "outputs": [],
   "source": [
    "# Get columns to keep and create new dataframe with those only\n",
    "cols_idxs = selector.get_support(indices=True)\n",
    "X_test_fs = X_test.iloc[:,cols_idxs]\n",
    "\n",
    "# The testing set to be used\n",
    "X_test_fs = pd.concat([X_test.iloc[:,1],X_test_fs],axis=1)"
   ]
  },
  {
   "cell_type": "code",
   "execution_count": 18,
   "id": "ca05e9c7",
   "metadata": {},
   "outputs": [
    {
     "data": {
      "text/plain": [
       "(35043, 18)"
      ]
     },
     "execution_count": 18,
     "metadata": {},
     "output_type": "execute_result"
    }
   ],
   "source": [
    "X_test_fs.shape"
   ]
  },
  {
   "cell_type": "markdown",
   "id": "875b80b1",
   "metadata": {},
   "source": [
    "#### 10-fold Cross-validation"
   ]
  },
  {
   "cell_type": "code",
   "execution_count": 19,
   "id": "7c5f7908",
   "metadata": {},
   "outputs": [],
   "source": [
    "from sklearn.naive_bayes import CategoricalNB"
   ]
  },
  {
   "cell_type": "code",
   "execution_count": 20,
   "id": "b351692c",
   "metadata": {
    "scrolled": true
   },
   "outputs": [
    {
     "name": "stdout",
     "output_type": "stream",
     "text": [
      "{'fit_time': array([0.05602455, 0.0570209 , 0.05701232, 0.05501223, 0.05700755,\n",
      "       0.05701542, 0.06201458, 0.05801702, 0.06001425, 0.06301665]), 'score_time': array([0.01600361, 0.01500201, 0.01499724, 0.0149982 , 0.01500368,\n",
      "       0.01498938, 0.01600313, 0.01699996, 0.0280056 , 0.01500082]), 'test_accuracy': array([0.79075456, 0.78305002, 0.78586279, 0.7791366 , 0.78733032,\n",
      "       0.78635196, 0.78855326, 0.78620352, 0.78754892, 0.79586595]), 'test_precision': array([0.48305085, 0.45197169, 0.46326531, 0.43090316, 0.4704142 ,\n",
      "       0.4640592 , 0.47450572, 0.46439628, 0.46806167, 0.50551876]), 'test_recall': array([0.27159023, 0.2662299 , 0.27039905, 0.23585468, 0.28409768,\n",
      "       0.26146516, 0.27142857, 0.26801668, 0.25312686, 0.27278142]), 'test_f1_score': array([0.34769348, 0.33508246, 0.34148176, 0.30484988, 0.35425176,\n",
      "       0.33447619, 0.34532374, 0.33987915, 0.32856591, 0.35435203])}\n"
     ]
    }
   ],
   "source": [
    "# Create Decision Tree Classifier object\n",
    "clf_NB = CategoricalNB()\n",
    "\n",
    "# Perform 10-fold cross-validation with custom scoring metrics\n",
    "cv_results = cross_validate(clf_NB, X_train_fs, y_train, cv=10, scoring=scoring)\n",
    "\n",
    "# Print the results\n",
    "print(cv_results)"
   ]
  },
  {
   "cell_type": "code",
   "execution_count": 23,
   "id": "ce6d9800",
   "metadata": {},
   "outputs": [
    {
     "name": "stdout",
     "output_type": "stream",
     "text": [
      "Naive Bayes F1-score\n",
      "Mean: 0.33859563709018037\n",
      "Std: 0.013784328384593718\n"
     ]
    }
   ],
   "source": [
    "# 10-fold cross-validation\n",
    "print(\"Naive Bayes F1-score\\nMean: {mean}\\nStd: {std}\".format(mean=np.mean(cv_results['test_f1_score']),\n",
    "                                                                      std=np.std(cv_results['test_f1_score'])))"
   ]
  },
  {
   "cell_type": "markdown",
   "id": "f74961b2",
   "metadata": {},
   "source": [
    "#### Using the Testing Set:"
   ]
  },
  {
   "cell_type": "code",
   "execution_count": 24,
   "id": "57a4e03b",
   "metadata": {},
   "outputs": [
    {
     "name": "stdout",
     "output_type": "stream",
     "text": [
      "[[ 1919  5261]\n",
      " [ 2153 25710]]\n"
     ]
    }
   ],
   "source": [
    "# create model object\n",
    "clf_NB = CategoricalNB()\n",
    "\n",
    "# fit the model\n",
    "clf_NB.fit(X_train_fs, y_train)\n",
    "\n",
    "# Predicting labels for the Test Set\n",
    "y_pred_NB = clf_NB.predict(X_test_fs)\n",
    "\n",
    "print(confusion_matrix(y_test, y_pred_NB))\n",
    "\n",
    "# TN, FP\n",
    "# FN, TP\n",
    "## y_pred: Predicted labels\n",
    "## y_test: True Labels"
   ]
  },
  {
   "cell_type": "code",
   "execution_count": 38,
   "id": "230eb877",
   "metadata": {},
   "outputs": [
    {
     "data": {
      "image/png": "[encoded data removed]",
      "text/plain": [
       "<Figure size 432x288 with 2 Axes>"
      ]
     },
     "metadata": {
      "needs_background": "light"
     },
     "output_type": "display_data"
    }
   ],
   "source": [
    "cm = confusion_matrix(y_test, y_pred_NB, labels=clf_NB.classes_)\n",
    "disp = ConfusionMatrixDisplay(confusion_matrix=cm,\n",
    "                              display_labels=clf_NB.classes_)\n",
    "disp.plot()\n",
    "plt.title('Naive Bayes')\n",
    "plt.show()"
   ]
  },
  {
   "cell_type": "code",
   "execution_count": 26,
   "id": "7b5400ff",
   "metadata": {},
   "outputs": [
    {
     "name": "stdout",
     "output_type": "stream",
     "text": [
      "Accuracy: 0.7884313557629199\n",
      "Precision: 0.4712671905697446\n",
      "Recall: 0.2672701949860724\n",
      "F1 Score: 0.3410949164592961\n"
     ]
    }
   ],
   "source": [
    "print(\"Accuracy:\", accuracy_score(y_test, y_pred_NB))\n",
    "print(\"Precision:\", precision_score(y_test, y_pred_NB))\n",
    "print(\"Recall:\", recall_score(y_test, y_pred_NB))\n",
    "print(\"F1 Score:\", f1_score(y_test, y_pred_NB))"
   ]
  },
  {
   "cell_type": "markdown",
   "id": "276f3731",
   "metadata": {},
   "source": [
    "### Balancing the dataset\n",
    "Let's apply an imbalance treatment by undersampling the majority class (i.e. 'No' to MH7A)"
   ]
  },
  {
   "cell_type": "code",
   "execution_count": 27,
   "id": "60f69048",
   "metadata": {},
   "outputs": [],
   "source": [
    "from imblearn.under_sampling import RandomUnderSampler"
   ]
  },
  {
   "cell_type": "code",
   "execution_count": 28,
   "id": "fb261ace",
   "metadata": {},
   "outputs": [
    {
     "data": {
      "image/png": "[encoded data removed]",
      "text/plain": [
       "<Figure size 432x288 with 1 Axes>"
      ]
     },
     "metadata": {
      "needs_background": "light"
     },
     "output_type": "display_data"
    }
   ],
   "source": [
    "y_train.value_counts().plot(kind='bar', title='Training Set: Class Imbalance');"
   ]
  },
  {
   "cell_type": "code",
   "execution_count": 29,
   "id": "530ca11e",
   "metadata": {},
   "outputs": [
    {
     "data": {
      "image/png": "[encoded data removed]",
      "text/plain": [
       "<Figure size 432x288 with 1 Axes>"
      ]
     },
     "metadata": {
      "needs_background": "light"
     },
     "output_type": "display_data"
    }
   ],
   "source": [
    "rus = RandomUnderSampler(random_state=1)\n",
    "X_rus, y_rus = rus.fit_resample(X_train_fs, y_train)\n",
    "y_rus.value_counts().plot(kind='bar', title='Training Set: Undersampling Majority Class');"
   ]
  },
  {
   "cell_type": "code",
   "execution_count": 30,
   "id": "55626551",
   "metadata": {
    "scrolled": true
   },
   "outputs": [
    {
     "name": "stdout",
     "output_type": "stream",
     "text": [
      "{'fit_time': array([0.02300453, 0.02100468, 0.02100468, 0.01999331, 0.01999879,\n",
      "       0.02100492, 0.02100468, 0.02001572, 0.02102208, 0.02100325]), 'score_time': array([0.0080018 , 0.00800729, 0.00799608, 0.00800729, 0.00800753,\n",
      "       0.0080018 , 0.0080018 , 0.0080018 , 0.00799179, 0.00801301]), 'test_accuracy': array([0.68442989, 0.67639178, 0.6855271 , 0.67153067, 0.68225134,\n",
      "       0.69833234, 0.68820727, 0.70041691, 0.68433591, 0.68374032]), 'test_precision': array([0.67633675, 0.66742081, 0.67708926, 0.66475973, 0.67346939,\n",
      "       0.6875    , 0.68140069, 0.69462117, 0.67859204, 0.67091413]), 'test_recall': array([0.7077381 , 0.70279929, 0.7093508 , 0.69207862, 0.70756403,\n",
      "       0.72721858, 0.70696843, 0.71530673, 0.70041691, 0.72126266]), 'test_f1_score': array([0.69168121, 0.68465332, 0.69284468, 0.67814415, 0.69009585,\n",
      "       0.70680174, 0.69394914, 0.70481221, 0.68933177, 0.69517796])}\n"
     ]
    }
   ],
   "source": [
    "# create model object\n",
    "clf_NB = CategoricalNB()\n",
    "\n",
    "# Perform 10-fold cross-validation with custom scoring metrics\n",
    "cv_results = cross_validate(clf_NB, X_rus, y_rus, cv=10, scoring=scoring)\n",
    "\n",
    "# Print the results\n",
    "print(cv_results)"
   ]
  },
  {
   "cell_type": "code",
   "execution_count": 31,
   "id": "3905aea5",
   "metadata": {},
   "outputs": [
    {
     "name": "stdout",
     "output_type": "stream",
     "text": [
      "Naive Bayes F1-score\n",
      "Mean: 0.6927492012380049\n",
      "Std: 0.008056352757742538\n"
     ]
    }
   ],
   "source": [
    "# 10-fold cross-validation; Balanced Dataset\n",
    "print(\"Naive Bayes F1-score\\nMean: {mean}\\nStd: {std}\".format(mean=np.mean(cv_results['test_f1_score']),\n",
    "                                                                      std=np.std(cv_results['test_f1_score'])))"
   ]
  },
  {
   "cell_type": "code",
   "execution_count": 36,
   "id": "9f6ee934",
   "metadata": {},
   "outputs": [
    {
     "name": "stdout",
     "output_type": "stream",
     "text": [
      "Naive Bayes Average Fit Time: 0.020905661582946777\n"
     ]
    }
   ],
   "source": [
    "# Fit Time\n",
    "print(\"Naive Bayes Average Fit Time: {fit}\".format(fit=np.mean(cv_results['fit_time'])))"
   ]
  },
  {
   "cell_type": "code",
   "execution_count": 32,
   "id": "670af509",
   "metadata": {},
   "outputs": [
    {
     "name": "stdout",
     "output_type": "stream",
     "text": [
      "[[ 5048  2132]\n",
      " [ 9284 18579]]\n"
     ]
    }
   ],
   "source": [
    "# create model object\n",
    "clf_NB = CategoricalNB()\n",
    "\n",
    "# fit the model\n",
    "clf_NB.fit(X_rus, y_rus)\n",
    "\n",
    "# Predicting labels for the Test Set\n",
    "y_pred_NB = clf_NB.predict(X_test_fs)\n",
    "\n",
    "print(confusion_matrix(y_test, y_pred_NB))\n",
    "\n",
    "# TN, FP\n",
    "# FN, TP\n",
    "## y_pred: Predicted labels\n",
    "## y_test: True Labels"
   ]
  },
  {
   "cell_type": "code",
   "execution_count": 39,
   "id": "10c578c1",
   "metadata": {},
   "outputs": [
    {
     "data": {
      "image/png": "[encoded data removed]",
      "text/plain": [
       "<Figure size 432x288 with 2 Axes>"
      ]
     },
     "metadata": {
      "needs_background": "light"
     },
     "output_type": "display_data"
    }
   ],
   "source": [
    "cm = confusion_matrix(y_test, y_pred_NB, labels=clf_NB.classes_)\n",
    "disp = ConfusionMatrixDisplay(confusion_matrix=cm,\n",
    "                              display_labels=clf_NB.classes_)\n",
    "disp.plot()\n",
    "plt.title('Naive Bayes')\n",
    "plt.show()"
   ]
  },
  {
   "cell_type": "code",
   "execution_count": 40,
   "id": "89ef7f0e",
   "metadata": {},
   "outputs": [
    {
     "name": "stdout",
     "output_type": "stream",
     "text": [
      "Accuracy: 0.6742288046114773\n",
      "Precision: 0.3522188110521909\n",
      "Recall: 0.7030640668523677\n",
      "F1 Score: 0.4693194496095203\n",
      "MCC: 0.30364233780918537\n"
     ]
    }
   ],
   "source": [
    "print(\"Accuracy:\", accuracy_score(y_test, y_pred_NB))\n",
    "print(\"Precision:\", precision_score(y_test, y_pred_NB))\n",
    "print(\"Recall:\", recall_score(y_test, y_pred_NB))\n",
    "print(\"F1 Score:\", f1_score(y_test, y_pred_NB))\n",
    "print(\"MCC:\", matthews_corrcoef(y_test, y_pred_NB))"
   ]
  },
  {
   "cell_type": "code",
   "execution_count": 35,
   "id": "fc36d845",
   "metadata": {},
   "outputs": [
    {
     "name": "stdout",
     "output_type": "stream",
     "text": [
      "              precision    recall  f1-score   support\n",
      "\n",
      "         1.0       0.35      0.70      0.47      7180\n",
      "         2.0       0.90      0.67      0.76     27863\n",
      "\n",
      "    accuracy                           0.67     35043\n",
      "   macro avg       0.62      0.68      0.62     35043\n",
      "weighted avg       0.79      0.67      0.70     35043\n",
      "\n"
     ]
    }
   ],
   "source": [
    "print(classification_report(y_test, y_pred_NB))"
   ]
  },
  {
   "cell_type": "code",
   "execution_count": null,
   "id": "829bda45",
   "metadata": {},
   "outputs": [],
   "source": []
  }
 ],
 "metadata": {
  "kernelspec": {
   "display_name": "Python 3 (ipykernel)",
   "language": "python",
   "name": "python3"
  },
  "language_info": {
   "codemirror_mode": {
    "name": "ipython",
    "version": 3
   },
   "file_extension": ".py",
   "mimetype": "text/x-python",
   "name": "python",
   "nbconvert_exporter": "python",
   "pygments_lexer": "ipython3",
   "version": "3.8.8"
  }
 },
 "nbformat": 4,
 "nbformat_minor": 5
}
